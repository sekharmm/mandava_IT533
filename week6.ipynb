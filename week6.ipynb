{
  "nbformat": 4,
  "nbformat_minor": 0,
  "metadata": {
    "colab": {
      "name": "week6.ipynb",
      "provenance": [],
      "authorship_tag": "ABX9TyOxPU45+j+bEI6/UXM3Bim0",
      "include_colab_link": true
    },
    "kernelspec": {
      "name": "python3",
      "display_name": "Python 3"
    },
    "language_info": {
      "name": "python"
    }
  },
  "cells": [
    {
      "cell_type": "markdown",
      "metadata": {
        "id": "view-in-github",
        "colab_type": "text"
      },
      "source": [
        "<a href=\"https://colab.research.google.com/github/sekharmm/mandava_IT533/blob/main/week6.ipynb\" target=\"_parent\"><img src=\"https://colab.research.google.com/assets/colab-badge.svg\" alt=\"Open In Colab\"/></a>"
      ]
    },
    {
      "cell_type": "code",
      "execution_count": 66,
      "metadata": {
        "colab": {
          "base_uri": "https://localhost:8080/",
          "height": 513
        },
        "id": "-eRhlO3lt7e5",
        "outputId": "b9b36fbb-ad9b-48c3-a06f-0619a1a19199"
      },
      "outputs": [
        {
          "output_type": "execute_result",
          "data": {
            "text/plain": [
              "                            uniq_id  \\\n",
              "0  dafc6b4ba4b4a3e7b4ff83402a196ae8   \n",
              "1  ba85fb9368114fce646379ed12750a5f   \n",
              "2  14e24c29ba38c2717754baa2638f242a   \n",
              "4  7b72f597db5d74d35c4f91ef69708cf1   \n",
              "5  7b8a04095b5e4984c57fd45eb327feb1   \n",
              "\n",
              "                                        product_name  \\\n",
              "0                                      Dinosaur Eggs   \n",
              "1   Neopets 4 Trading Card Fun Packs (2 Bonus Cards)   \n",
              "2          Latex Assorted Water Balloons, Pack of 40   \n",
              "4  4 Packs of Mini Colouring Pencils (4 pencils i...   \n",
              "5  100 Deep Red Rose Silk Petals Confetti - Weddi...   \n",
              "\n",
              "               manufacturer  price  number_available_in_stock status  \\\n",
              "0                   Halsall   0.29                          3    new   \n",
              "1                   Neopets   0.38                          2    new   \n",
              "2              Unique Party   0.39                          7    new   \n",
              "4  unisex party bag fillers   0.60                          7    new   \n",
              "5                   Shatchi   0.64                          6    new   \n",
              "\n",
              "   number_of_reviews  number_of_answered_questions  \\\n",
              "0                  3                             2   \n",
              "1                  2                             1   \n",
              "2                  2                             1   \n",
              "4                 21                             1   \n",
              "5                 10                             2   \n",
              "\n",
              "   average_review_rating_of_5  \\\n",
              "0                         4.0   \n",
              "1                         4.5   \n",
              "2                         4.5   \n",
              "4                         4.3   \n",
              "5                         4.1   \n",
              "\n",
              "                    amazon_category_and_sub_category  \\\n",
              "0                     Figures & Playsets > Dinosaurs   \n",
              "1  Hobbies > Trading Cards & Accessories > Packs ...   \n",
              "2            Party Supplies > Decorations > Balloons   \n",
              "4                  Arts & Crafts > Colouring Pencils   \n",
              "5  Party Supplies > Banners, Stickers & Confetti ...   \n",
              "\n",
              "          customers_who_bought_this_item_also_bought  \\\n",
              "0  http://www.amazon.co.uk/Hatch-em-TY63-Hatching...   \n",
              "1                                            Unknown   \n",
              "2  http://www.amazon.co.uk/Latex-Cannonball | htt...   \n",
              "4  http://www.amazon.co.uk/12-Mini-Christmas-Colo...   \n",
              "5  http://www.amazon.co.uk/Valentines | http://ww...   \n",
              "\n",
              "                                         description  \\\n",
              "0           Manufacturer's Description not available   \n",
              "1           Manufacturer's Description not available   \n",
              "2  Colour Name:Assorted Bold  |  Size Name:Pack o...   \n",
              "4  4 x Mini Colouring Pencils - Pack of 4 Size: 8...   \n",
              "5  Pack of 100 Deep Red Silk Rose Petals Luxury s...   \n",
              "\n",
              "                                 product_information  \\\n",
              "0  Technical Details Item Weight82 g Product Dime...   \n",
              "1  Technical Details Item Weight454 g Product Dim...   \n",
              "2  Technical Details Item Weight222 g Product Dim...   \n",
              "4  Technical Details Item Weight59 g Product Dime...   \n",
              "5  Technical Details Manufacturer recommended age...   \n",
              "\n",
              "                                 product_description  \\\n",
              "0                                      Not available   \n",
              "1                                      Not available   \n",
              "2  Colour Name:Assorted Bold  |  Size Name:Pack o...   \n",
              "4  4 x Mini Colouring Pencils - Pack of 4 Size: 8...   \n",
              "5  Pack of 100 Deep Red Silk Rose Petals Luxury s...   \n",
              "\n",
              "         items_customers_buy_after_viewing_this_item  \\\n",
              "0  http://www.amazon.co.uk/Hatch-em-TY63-Hatching...   \n",
              "1                                      Not available   \n",
              "2  http://www.amazon.co.uk/Water-Bombs-Pack-100-A...   \n",
              "4  http://www.amazon.co.uk/20-Packs-Wax-Crayons-P...   \n",
              "5  http://www.amazon.co.uk/300-Deep-Silk-Rose-Pet...   \n",
              "\n",
              "                      customer_questions_and_answers  \\\n",
              "0                                               None   \n",
              "1                                               None   \n",
              "2                                               None   \n",
              "4  How many packs in the box. // I got four Mimi ...   \n",
              "5                                               None   \n",
              "\n",
              "                                    customer_reviews  \n",
              "0  Fascinating fun // 4.0 // 25 Nov. 2008 // By\\n...  \n",
              "1  Never Too Old // 4.0 // 6 Nov. 2013 // By\\n   ...  \n",
              "2  Great item // 4.0 // 27 Dec. 2015 // By\\n    \\...  \n",
              "4  Well made and presented // 4.0 // 6 April 2015...  \n",
              "5  Five Stars // 5.0 // 2 Dec. 2015 // By\\n    \\n...  "
            ],
            "text/html": [
              "\n",
              "  <div id=\"df-c6d37bbd-2a52-4666-b558-f06f0b6fb246\">\n",
              "    <div class=\"colab-df-container\">\n",
              "      <div>\n",
              "<style scoped>\n",
              "    .dataframe tbody tr th:only-of-type {\n",
              "        vertical-align: middle;\n",
              "    }\n",
              "\n",
              "    .dataframe tbody tr th {\n",
              "        vertical-align: top;\n",
              "    }\n",
              "\n",
              "    .dataframe thead th {\n",
              "        text-align: right;\n",
              "    }\n",
              "</style>\n",
              "<table border=\"1\" class=\"dataframe\">\n",
              "  <thead>\n",
              "    <tr style=\"text-align: right;\">\n",
              "      <th></th>\n",
              "      <th>uniq_id</th>\n",
              "      <th>product_name</th>\n",
              "      <th>manufacturer</th>\n",
              "      <th>price</th>\n",
              "      <th>number_available_in_stock</th>\n",
              "      <th>status</th>\n",
              "      <th>number_of_reviews</th>\n",
              "      <th>number_of_answered_questions</th>\n",
              "      <th>average_review_rating_of_5</th>\n",
              "      <th>amazon_category_and_sub_category</th>\n",
              "      <th>customers_who_bought_this_item_also_bought</th>\n",
              "      <th>description</th>\n",
              "      <th>product_information</th>\n",
              "      <th>product_description</th>\n",
              "      <th>items_customers_buy_after_viewing_this_item</th>\n",
              "      <th>customer_questions_and_answers</th>\n",
              "      <th>customer_reviews</th>\n",
              "    </tr>\n",
              "  </thead>\n",
              "  <tbody>\n",
              "    <tr>\n",
              "      <th>0</th>\n",
              "      <td>dafc6b4ba4b4a3e7b4ff83402a196ae8</td>\n",
              "      <td>Dinosaur Eggs</td>\n",
              "      <td>Halsall</td>\n",
              "      <td>0.29</td>\n",
              "      <td>3</td>\n",
              "      <td>new</td>\n",
              "      <td>3</td>\n",
              "      <td>2</td>\n",
              "      <td>4.0</td>\n",
              "      <td>Figures &amp; Playsets &gt; Dinosaurs</td>\n",
              "      <td>http://www.amazon.co.uk/Hatch-em-TY63-Hatching...</td>\n",
              "      <td>Manufacturer's Description not available</td>\n",
              "      <td>Technical Details Item Weight82 g Product Dime...</td>\n",
              "      <td>Not available</td>\n",
              "      <td>http://www.amazon.co.uk/Hatch-em-TY63-Hatching...</td>\n",
              "      <td>None</td>\n",
              "      <td>Fascinating fun // 4.0 // 25 Nov. 2008 // By\\n...</td>\n",
              "    </tr>\n",
              "    <tr>\n",
              "      <th>1</th>\n",
              "      <td>ba85fb9368114fce646379ed12750a5f</td>\n",
              "      <td>Neopets 4 Trading Card Fun Packs (2 Bonus Cards)</td>\n",
              "      <td>Neopets</td>\n",
              "      <td>0.38</td>\n",
              "      <td>2</td>\n",
              "      <td>new</td>\n",
              "      <td>2</td>\n",
              "      <td>1</td>\n",
              "      <td>4.5</td>\n",
              "      <td>Hobbies &gt; Trading Cards &amp; Accessories &gt; Packs ...</td>\n",
              "      <td>Unknown</td>\n",
              "      <td>Manufacturer's Description not available</td>\n",
              "      <td>Technical Details Item Weight454 g Product Dim...</td>\n",
              "      <td>Not available</td>\n",
              "      <td>Not available</td>\n",
              "      <td>None</td>\n",
              "      <td>Never Too Old // 4.0 // 6 Nov. 2013 // By\\n   ...</td>\n",
              "    </tr>\n",
              "    <tr>\n",
              "      <th>2</th>\n",
              "      <td>14e24c29ba38c2717754baa2638f242a</td>\n",
              "      <td>Latex Assorted Water Balloons, Pack of 40</td>\n",
              "      <td>Unique Party</td>\n",
              "      <td>0.39</td>\n",
              "      <td>7</td>\n",
              "      <td>new</td>\n",
              "      <td>2</td>\n",
              "      <td>1</td>\n",
              "      <td>4.5</td>\n",
              "      <td>Party Supplies &gt; Decorations &gt; Balloons</td>\n",
              "      <td>http://www.amazon.co.uk/Latex-Cannonball | htt...</td>\n",
              "      <td>Colour Name:Assorted Bold  |  Size Name:Pack o...</td>\n",
              "      <td>Technical Details Item Weight222 g Product Dim...</td>\n",
              "      <td>Colour Name:Assorted Bold  |  Size Name:Pack o...</td>\n",
              "      <td>http://www.amazon.co.uk/Water-Bombs-Pack-100-A...</td>\n",
              "      <td>None</td>\n",
              "      <td>Great item // 4.0 // 27 Dec. 2015 // By\\n    \\...</td>\n",
              "    </tr>\n",
              "    <tr>\n",
              "      <th>4</th>\n",
              "      <td>7b72f597db5d74d35c4f91ef69708cf1</td>\n",
              "      <td>4 Packs of Mini Colouring Pencils (4 pencils i...</td>\n",
              "      <td>unisex party bag fillers</td>\n",
              "      <td>0.60</td>\n",
              "      <td>7</td>\n",
              "      <td>new</td>\n",
              "      <td>21</td>\n",
              "      <td>1</td>\n",
              "      <td>4.3</td>\n",
              "      <td>Arts &amp; Crafts &gt; Colouring Pencils</td>\n",
              "      <td>http://www.amazon.co.uk/12-Mini-Christmas-Colo...</td>\n",
              "      <td>4 x Mini Colouring Pencils - Pack of 4 Size: 8...</td>\n",
              "      <td>Technical Details Item Weight59 g Product Dime...</td>\n",
              "      <td>4 x Mini Colouring Pencils - Pack of 4 Size: 8...</td>\n",
              "      <td>http://www.amazon.co.uk/20-Packs-Wax-Crayons-P...</td>\n",
              "      <td>How many packs in the box. // I got four Mimi ...</td>\n",
              "      <td>Well made and presented // 4.0 // 6 April 2015...</td>\n",
              "    </tr>\n",
              "    <tr>\n",
              "      <th>5</th>\n",
              "      <td>7b8a04095b5e4984c57fd45eb327feb1</td>\n",
              "      <td>100 Deep Red Rose Silk Petals Confetti - Weddi...</td>\n",
              "      <td>Shatchi</td>\n",
              "      <td>0.64</td>\n",
              "      <td>6</td>\n",
              "      <td>new</td>\n",
              "      <td>10</td>\n",
              "      <td>2</td>\n",
              "      <td>4.1</td>\n",
              "      <td>Party Supplies &gt; Banners, Stickers &amp; Confetti ...</td>\n",
              "      <td>http://www.amazon.co.uk/Valentines | http://ww...</td>\n",
              "      <td>Pack of 100 Deep Red Silk Rose Petals Luxury s...</td>\n",
              "      <td>Technical Details Manufacturer recommended age...</td>\n",
              "      <td>Pack of 100 Deep Red Silk Rose Petals Luxury s...</td>\n",
              "      <td>http://www.amazon.co.uk/300-Deep-Silk-Rose-Pet...</td>\n",
              "      <td>None</td>\n",
              "      <td>Five Stars // 5.0 // 2 Dec. 2015 // By\\n    \\n...</td>\n",
              "    </tr>\n",
              "  </tbody>\n",
              "</table>\n",
              "</div>\n",
              "      <button class=\"colab-df-convert\" onclick=\"convertToInteractive('df-c6d37bbd-2a52-4666-b558-f06f0b6fb246')\"\n",
              "              title=\"Convert this dataframe to an interactive table.\"\n",
              "              style=\"display:none;\">\n",
              "        \n",
              "  <svg xmlns=\"http://www.w3.org/2000/svg\" height=\"24px\"viewBox=\"0 0 24 24\"\n",
              "       width=\"24px\">\n",
              "    <path d=\"M0 0h24v24H0V0z\" fill=\"none\"/>\n",
              "    <path d=\"M18.56 5.44l.94 2.06.94-2.06 2.06-.94-2.06-.94-.94-2.06-.94 2.06-2.06.94zm-11 1L8.5 8.5l.94-2.06 2.06-.94-2.06-.94L8.5 2.5l-.94 2.06-2.06.94zm10 10l.94 2.06.94-2.06 2.06-.94-2.06-.94-.94-2.06-.94 2.06-2.06.94z\"/><path d=\"M17.41 7.96l-1.37-1.37c-.4-.4-.92-.59-1.43-.59-.52 0-1.04.2-1.43.59L10.3 9.45l-7.72 7.72c-.78.78-.78 2.05 0 2.83L4 21.41c.39.39.9.59 1.41.59.51 0 1.02-.2 1.41-.59l7.78-7.78 2.81-2.81c.8-.78.8-2.07 0-2.86zM5.41 20L4 18.59l7.72-7.72 1.47 1.35L5.41 20z\"/>\n",
              "  </svg>\n",
              "      </button>\n",
              "      \n",
              "  <style>\n",
              "    .colab-df-container {\n",
              "      display:flex;\n",
              "      flex-wrap:wrap;\n",
              "      gap: 12px;\n",
              "    }\n",
              "\n",
              "    .colab-df-convert {\n",
              "      background-color: #E8F0FE;\n",
              "      border: none;\n",
              "      border-radius: 50%;\n",
              "      cursor: pointer;\n",
              "      display: none;\n",
              "      fill: #1967D2;\n",
              "      height: 32px;\n",
              "      padding: 0 0 0 0;\n",
              "      width: 32px;\n",
              "    }\n",
              "\n",
              "    .colab-df-convert:hover {\n",
              "      background-color: #E2EBFA;\n",
              "      box-shadow: 0px 1px 2px rgba(60, 64, 67, 0.3), 0px 1px 3px 1px rgba(60, 64, 67, 0.15);\n",
              "      fill: #174EA6;\n",
              "    }\n",
              "\n",
              "    [theme=dark] .colab-df-convert {\n",
              "      background-color: #3B4455;\n",
              "      fill: #D2E3FC;\n",
              "    }\n",
              "\n",
              "    [theme=dark] .colab-df-convert:hover {\n",
              "      background-color: #434B5C;\n",
              "      box-shadow: 0px 1px 3px 1px rgba(0, 0, 0, 0.15);\n",
              "      filter: drop-shadow(0px 1px 2px rgba(0, 0, 0, 0.3));\n",
              "      fill: #FFFFFF;\n",
              "    }\n",
              "  </style>\n",
              "\n",
              "      <script>\n",
              "        const buttonEl =\n",
              "          document.querySelector('#df-c6d37bbd-2a52-4666-b558-f06f0b6fb246 button.colab-df-convert');\n",
              "        buttonEl.style.display =\n",
              "          google.colab.kernel.accessAllowed ? 'block' : 'none';\n",
              "\n",
              "        async function convertToInteractive(key) {\n",
              "          const element = document.querySelector('#df-c6d37bbd-2a52-4666-b558-f06f0b6fb246');\n",
              "          const dataTable =\n",
              "            await google.colab.kernel.invokeFunction('convertToInteractive',\n",
              "                                                     [key], {});\n",
              "          if (!dataTable) return;\n",
              "\n",
              "          const docLinkHtml = 'Like what you see? Visit the ' +\n",
              "            '<a target=\"_blank\" href=https://colab.research.google.com/notebooks/data_table.ipynb>data table notebook</a>'\n",
              "            + ' to learn more about interactive tables.';\n",
              "          element.innerHTML = '';\n",
              "          dataTable['output_type'] = 'display_data';\n",
              "          await google.colab.output.renderOutput(dataTable, element);\n",
              "          const docLink = document.createElement('div');\n",
              "          docLink.innerHTML = docLinkHtml;\n",
              "          element.appendChild(docLink);\n",
              "        }\n",
              "      </script>\n",
              "    </div>\n",
              "  </div>\n",
              "  "
            ]
          },
          "metadata": {},
          "execution_count": 66
        }
      ],
      "source": [
        "# Import the regular libraries. \n",
        "import numpy as np\n",
        "import pandas as pd \n",
        "import matplotlib.pyplot as plt\n",
        "from scipy import spatial\n",
        "import statsmodels.api as sm \n",
        "\n",
        "# Import the k nearest neighbor libraries. \n",
        "from sklearn.neighbors import KNeighborsClassifier \n",
        "import matplotlib.patches as mpatches \n",
        "from sklearn import neighbors, datasets\n",
        "from sklearn.model_selection import cross_val_score, train_test_split \n",
        "%matplotlib inline \n",
        "\n",
        "# Import the analysis libraries. \n",
        "from sklearn.metrics import confusion_matrix \n",
        "from sklearn.metrics import plot_confusion_matrix \n",
        "from sklearn.metrics import classification_report \n",
        "\n",
        "# Import the naive bayes libraries. \n",
        "from sklearn.naive_bayes import GaussianNB \n",
        "from sklearn.metrics import accuracy_score \n",
        "amazon = pd.read_csv(\"https://raw.githubusercontent.com/sekharmm/mandava_IT533/main/amazon_toy_sample_clean.csv\", encoding=\"ISO-8859-1\") # use your own GitHub link here\n",
        "amazon.dropna(inplace=True)\n",
        "amazon.head(5) "
      ]
    },
    {
      "cell_type": "code",
      "source": [
        "pip install pandas-profiling # installing the current GA version"
      ],
      "metadata": {
        "colab": {
          "base_uri": "https://localhost:8080/"
        },
        "id": "fpZjkT0OyiU7",
        "outputId": "65a2f22d-776c-481f-f431-743b1c186932"
      },
      "execution_count": 10,
      "outputs": [
        {
          "output_type": "stream",
          "name": "stdout",
          "text": [
            "Looking in indexes: https://pypi.org/simple, https://us-python.pkg.dev/colab-wheels/public/simple/\n",
            "Requirement already satisfied: pandas-profiling in /usr/local/lib/python3.7/dist-packages (1.4.1)\n",
            "Requirement already satisfied: jinja2>=2.8 in /usr/local/lib/python3.7/dist-packages (from pandas-profiling) (2.11.3)\n",
            "Requirement already satisfied: pandas>=0.19 in /usr/local/lib/python3.7/dist-packages (from pandas-profiling) (1.3.5)\n",
            "Requirement already satisfied: six>=1.9 in /usr/local/lib/python3.7/dist-packages (from pandas-profiling) (1.15.0)\n",
            "Requirement already satisfied: matplotlib>=1.4 in /usr/local/lib/python3.7/dist-packages (from pandas-profiling) (3.2.2)\n",
            "Requirement already satisfied: MarkupSafe>=0.23 in /usr/local/lib/python3.7/dist-packages (from jinja2>=2.8->pandas-profiling) (2.0.1)\n",
            "Requirement already satisfied: pyparsing!=2.0.4,!=2.1.2,!=2.1.6,>=2.0.1 in /usr/local/lib/python3.7/dist-packages (from matplotlib>=1.4->pandas-profiling) (3.0.9)\n",
            "Requirement already satisfied: python-dateutil>=2.1 in /usr/local/lib/python3.7/dist-packages (from matplotlib>=1.4->pandas-profiling) (2.8.2)\n",
            "Requirement already satisfied: kiwisolver>=1.0.1 in /usr/local/lib/python3.7/dist-packages (from matplotlib>=1.4->pandas-profiling) (1.4.3)\n",
            "Requirement already satisfied: cycler>=0.10 in /usr/local/lib/python3.7/dist-packages (from matplotlib>=1.4->pandas-profiling) (0.11.0)\n",
            "Requirement already satisfied: numpy>=1.11 in /usr/local/lib/python3.7/dist-packages (from matplotlib>=1.4->pandas-profiling) (1.21.6)\n",
            "Requirement already satisfied: typing-extensions in /usr/local/lib/python3.7/dist-packages (from kiwisolver>=1.0.1->matplotlib>=1.4->pandas-profiling) (4.1.1)\n",
            "Requirement already satisfied: pytz>=2017.3 in /usr/local/lib/python3.7/dist-packages (from pandas>=0.19->pandas-profiling) (2022.1)\n"
          ]
        }
      ]
    },
    {
      "cell_type": "code",
      "source": [
        "amazon.info()"
      ],
      "metadata": {
        "colab": {
          "base_uri": "https://localhost:8080/"
        },
        "id": "JWzBe_T7wSXz",
        "outputId": "7600110a-88d0-417a-866a-0c5025ced59b"
      },
      "execution_count": 67,
      "outputs": [
        {
          "output_type": "stream",
          "name": "stdout",
          "text": [
            "<class 'pandas.core.frame.DataFrame'>\n",
            "Int64Index: 6312 entries, 0 to 6335\n",
            "Data columns (total 17 columns):\n",
            " #   Column                                       Non-Null Count  Dtype  \n",
            "---  ------                                       --------------  -----  \n",
            " 0   uniq_id                                      6312 non-null   object \n",
            " 1   product_name                                 6312 non-null   object \n",
            " 2   manufacturer                                 6312 non-null   object \n",
            " 3   price                                        6312 non-null   float64\n",
            " 4   number_available_in_stock                    6312 non-null   int64  \n",
            " 5   status                                       6312 non-null   object \n",
            " 6   number_of_reviews                            6312 non-null   int64  \n",
            " 7   number_of_answered_questions                 6312 non-null   int64  \n",
            " 8   average_review_rating_of_5                   6312 non-null   float64\n",
            " 9   amazon_category_and_sub_category             6312 non-null   object \n",
            " 10  customers_who_bought_this_item_also_bought   6312 non-null   object \n",
            " 11  description                                  6312 non-null   object \n",
            " 12  product_information                          6312 non-null   object \n",
            " 13  product_description                          6312 non-null   object \n",
            " 14  items_customers_buy_after_viewing_this_item  6312 non-null   object \n",
            " 15  customer_questions_and_answers               6312 non-null   object \n",
            " 16  customer_reviews                             6312 non-null   object \n",
            "dtypes: float64(2), int64(3), object(12)\n",
            "memory usage: 887.6+ KB\n"
          ]
        }
      ]
    },
    {
      "cell_type": "code",
      "source": [
        "amazon2 = pd.DataFrame(amazon, columns = ['price', 'number_available_in_stock', 'number_of_reviews','number_of_answered_questions','average_review_rating_of_5','status'])\n",
        "amazon2.head()"
      ],
      "metadata": {
        "colab": {
          "base_uri": "https://localhost:8080/",
          "height": 206
        },
        "id": "QlRO1UhS-XK7",
        "outputId": "92de76b1-b3b5-457e-877a-268f39b43e50"
      },
      "execution_count": 68,
      "outputs": [
        {
          "output_type": "execute_result",
          "data": {
            "text/plain": [
              "   price  number_available_in_stock  number_of_reviews  \\\n",
              "0   0.29                          3                  3   \n",
              "1   0.38                          2                  2   \n",
              "2   0.39                          7                  2   \n",
              "4   0.60                          7                 21   \n",
              "5   0.64                          6                 10   \n",
              "\n",
              "   number_of_answered_questions  average_review_rating_of_5 status  \n",
              "0                             2                         4.0    new  \n",
              "1                             1                         4.5    new  \n",
              "2                             1                         4.5    new  \n",
              "4                             1                         4.3    new  \n",
              "5                             2                         4.1    new  "
            ],
            "text/html": [
              "\n",
              "  <div id=\"df-58f151ed-4743-41d6-9c5e-53a23ae667ba\">\n",
              "    <div class=\"colab-df-container\">\n",
              "      <div>\n",
              "<style scoped>\n",
              "    .dataframe tbody tr th:only-of-type {\n",
              "        vertical-align: middle;\n",
              "    }\n",
              "\n",
              "    .dataframe tbody tr th {\n",
              "        vertical-align: top;\n",
              "    }\n",
              "\n",
              "    .dataframe thead th {\n",
              "        text-align: right;\n",
              "    }\n",
              "</style>\n",
              "<table border=\"1\" class=\"dataframe\">\n",
              "  <thead>\n",
              "    <tr style=\"text-align: right;\">\n",
              "      <th></th>\n",
              "      <th>price</th>\n",
              "      <th>number_available_in_stock</th>\n",
              "      <th>number_of_reviews</th>\n",
              "      <th>number_of_answered_questions</th>\n",
              "      <th>average_review_rating_of_5</th>\n",
              "      <th>status</th>\n",
              "    </tr>\n",
              "  </thead>\n",
              "  <tbody>\n",
              "    <tr>\n",
              "      <th>0</th>\n",
              "      <td>0.29</td>\n",
              "      <td>3</td>\n",
              "      <td>3</td>\n",
              "      <td>2</td>\n",
              "      <td>4.0</td>\n",
              "      <td>new</td>\n",
              "    </tr>\n",
              "    <tr>\n",
              "      <th>1</th>\n",
              "      <td>0.38</td>\n",
              "      <td>2</td>\n",
              "      <td>2</td>\n",
              "      <td>1</td>\n",
              "      <td>4.5</td>\n",
              "      <td>new</td>\n",
              "    </tr>\n",
              "    <tr>\n",
              "      <th>2</th>\n",
              "      <td>0.39</td>\n",
              "      <td>7</td>\n",
              "      <td>2</td>\n",
              "      <td>1</td>\n",
              "      <td>4.5</td>\n",
              "      <td>new</td>\n",
              "    </tr>\n",
              "    <tr>\n",
              "      <th>4</th>\n",
              "      <td>0.60</td>\n",
              "      <td>7</td>\n",
              "      <td>21</td>\n",
              "      <td>1</td>\n",
              "      <td>4.3</td>\n",
              "      <td>new</td>\n",
              "    </tr>\n",
              "    <tr>\n",
              "      <th>5</th>\n",
              "      <td>0.64</td>\n",
              "      <td>6</td>\n",
              "      <td>10</td>\n",
              "      <td>2</td>\n",
              "      <td>4.1</td>\n",
              "      <td>new</td>\n",
              "    </tr>\n",
              "  </tbody>\n",
              "</table>\n",
              "</div>\n",
              "      <button class=\"colab-df-convert\" onclick=\"convertToInteractive('df-58f151ed-4743-41d6-9c5e-53a23ae667ba')\"\n",
              "              title=\"Convert this dataframe to an interactive table.\"\n",
              "              style=\"display:none;\">\n",
              "        \n",
              "  <svg xmlns=\"http://www.w3.org/2000/svg\" height=\"24px\"viewBox=\"0 0 24 24\"\n",
              "       width=\"24px\">\n",
              "    <path d=\"M0 0h24v24H0V0z\" fill=\"none\"/>\n",
              "    <path d=\"M18.56 5.44l.94 2.06.94-2.06 2.06-.94-2.06-.94-.94-2.06-.94 2.06-2.06.94zm-11 1L8.5 8.5l.94-2.06 2.06-.94-2.06-.94L8.5 2.5l-.94 2.06-2.06.94zm10 10l.94 2.06.94-2.06 2.06-.94-2.06-.94-.94-2.06-.94 2.06-2.06.94z\"/><path d=\"M17.41 7.96l-1.37-1.37c-.4-.4-.92-.59-1.43-.59-.52 0-1.04.2-1.43.59L10.3 9.45l-7.72 7.72c-.78.78-.78 2.05 0 2.83L4 21.41c.39.39.9.59 1.41.59.51 0 1.02-.2 1.41-.59l7.78-7.78 2.81-2.81c.8-.78.8-2.07 0-2.86zM5.41 20L4 18.59l7.72-7.72 1.47 1.35L5.41 20z\"/>\n",
              "  </svg>\n",
              "      </button>\n",
              "      \n",
              "  <style>\n",
              "    .colab-df-container {\n",
              "      display:flex;\n",
              "      flex-wrap:wrap;\n",
              "      gap: 12px;\n",
              "    }\n",
              "\n",
              "    .colab-df-convert {\n",
              "      background-color: #E8F0FE;\n",
              "      border: none;\n",
              "      border-radius: 50%;\n",
              "      cursor: pointer;\n",
              "      display: none;\n",
              "      fill: #1967D2;\n",
              "      height: 32px;\n",
              "      padding: 0 0 0 0;\n",
              "      width: 32px;\n",
              "    }\n",
              "\n",
              "    .colab-df-convert:hover {\n",
              "      background-color: #E2EBFA;\n",
              "      box-shadow: 0px 1px 2px rgba(60, 64, 67, 0.3), 0px 1px 3px 1px rgba(60, 64, 67, 0.15);\n",
              "      fill: #174EA6;\n",
              "    }\n",
              "\n",
              "    [theme=dark] .colab-df-convert {\n",
              "      background-color: #3B4455;\n",
              "      fill: #D2E3FC;\n",
              "    }\n",
              "\n",
              "    [theme=dark] .colab-df-convert:hover {\n",
              "      background-color: #434B5C;\n",
              "      box-shadow: 0px 1px 3px 1px rgba(0, 0, 0, 0.15);\n",
              "      filter: drop-shadow(0px 1px 2px rgba(0, 0, 0, 0.3));\n",
              "      fill: #FFFFFF;\n",
              "    }\n",
              "  </style>\n",
              "\n",
              "      <script>\n",
              "        const buttonEl =\n",
              "          document.querySelector('#df-58f151ed-4743-41d6-9c5e-53a23ae667ba button.colab-df-convert');\n",
              "        buttonEl.style.display =\n",
              "          google.colab.kernel.accessAllowed ? 'block' : 'none';\n",
              "\n",
              "        async function convertToInteractive(key) {\n",
              "          const element = document.querySelector('#df-58f151ed-4743-41d6-9c5e-53a23ae667ba');\n",
              "          const dataTable =\n",
              "            await google.colab.kernel.invokeFunction('convertToInteractive',\n",
              "                                                     [key], {});\n",
              "          if (!dataTable) return;\n",
              "\n",
              "          const docLinkHtml = 'Like what you see? Visit the ' +\n",
              "            '<a target=\"_blank\" href=https://colab.research.google.com/notebooks/data_table.ipynb>data table notebook</a>'\n",
              "            + ' to learn more about interactive tables.';\n",
              "          element.innerHTML = '';\n",
              "          dataTable['output_type'] = 'display_data';\n",
              "          await google.colab.output.renderOutput(dataTable, element);\n",
              "          const docLink = document.createElement('div');\n",
              "          docLink.innerHTML = docLinkHtml;\n",
              "          element.appendChild(docLink);\n",
              "        }\n",
              "      </script>\n",
              "    </div>\n",
              "  </div>\n",
              "  "
            ]
          },
          "metadata": {},
          "execution_count": 68
        }
      ]
    },
    {
      "cell_type": "code",
      "source": [
        "amazon2.status.unique"
      ],
      "metadata": {
        "colab": {
          "base_uri": "https://localhost:8080/"
        },
        "id": "Su_X8lQZ_R-z",
        "outputId": "ad77f97b-1744-4de9-c1f2-f5f2e4e245c8"
      },
      "execution_count": 69,
      "outputs": [
        {
          "output_type": "execute_result",
          "data": {
            "text/plain": [
              "<bound method Series.unique of 0        new\n",
              "1        new\n",
              "2        new\n",
              "4        new\n",
              "5        new\n",
              "        ... \n",
              "6331     new\n",
              "6332     new\n",
              "6333     new\n",
              "6334    used\n",
              "6335     new\n",
              "Name: status, Length: 6312, dtype: object>"
            ]
          },
          "metadata": {},
          "execution_count": 69
        }
      ]
    },
    {
      "cell_type": "code",
      "source": [
        "X = amazon2.iloc[:, :-1].values\n",
        "y = amazon2.iloc[:, 5].values"
      ],
      "metadata": {
        "id": "_YdYB3AFwUVw"
      },
      "execution_count": 77,
      "outputs": []
    },
    {
      "cell_type": "code",
      "source": [
        "from sklearn.model_selection import train_test_split\n",
        "X_train, X_test, y_train, y_test = train_test_split(X, y, random_state = 1)\n",
        "\n",
        "# So, what training data do we have?\n",
        "print(\"X_train shape: {}\".format(X_train.shape))\n",
        "print(\"y_train shape: {}\".format(y_train.shape))"
      ],
      "metadata": {
        "colab": {
          "base_uri": "https://localhost:8080/"
        },
        "id": "yzokSPyYxrMR",
        "outputId": "395d7e3e-8e5a-4472-9351-9aa6a6379a9b"
      },
      "execution_count": 78,
      "outputs": [
        {
          "output_type": "stream",
          "name": "stdout",
          "text": [
            "X_train shape: (4734, 5)\n",
            "y_train shape: (4734,)\n"
          ]
        }
      ]
    },
    {
      "cell_type": "code",
      "source": [
        "from sklearn import preprocessing\n",
        "from sklearn import utils\n",
        "from sklearn.neighbors import KNeighborsClassifier\n",
        "model1 = KNeighborsClassifier(n_neighbors = 1)"
      ],
      "metadata": {
        "id": "vfCJD8i8x6Jb"
      },
      "execution_count": 79,
      "outputs": []
    },
    {
      "cell_type": "code",
      "source": [
        "model1.fit(X_train, y_train)"
      ],
      "metadata": {
        "colab": {
          "base_uri": "https://localhost:8080/"
        },
        "id": "YasCBkjTx7c-",
        "outputId": "0a5a0a68-879e-4efd-9477-21caeab9fb67"
      },
      "execution_count": 80,
      "outputs": [
        {
          "output_type": "execute_result",
          "data": {
            "text/plain": [
              "KNeighborsClassifier(n_neighbors=1)"
            ]
          },
          "metadata": {},
          "execution_count": 80
        }
      ]
    },
    {
      "cell_type": "code",
      "source": [
        "y_pred = model1.predict(X_test)\n",
        "print(\"Test set predictions: \\n {}\".format(y_pred))"
      ],
      "metadata": {
        "colab": {
          "base_uri": "https://localhost:8080/"
        },
        "id": "kMhExT856DtD",
        "outputId": "72f3ad1a-7527-4446-e88d-64cba42b9b2d"
      },
      "execution_count": 81,
      "outputs": [
        {
          "output_type": "stream",
          "name": "stdout",
          "text": [
            "Test set predictions: \n",
            " ['new' 'new' 'new' ... 'new' 'new' 'new']\n"
          ]
        }
      ]
    },
    {
      "cell_type": "code",
      "source": [
        "# Accuracy score\n",
        "print(\"Test set score: {:.2f}\".format(model1.score(X_test, y_test)))"
      ],
      "metadata": {
        "colab": {
          "base_uri": "https://localhost:8080/"
        },
        "id": "lhku8__O6QfW",
        "outputId": "fd54aed6-8208-407c-90a5-9f2aa0853a6e"
      },
      "execution_count": 82,
      "outputs": [
        {
          "output_type": "stream",
          "name": "stdout",
          "text": [
            "Test set score: 0.99\n"
          ]
        }
      ]
    },
    {
      "cell_type": "code",
      "source": [
        "realvsmodel1 = pd.DataFrame(y_pred,y_test)\n",
        "realvsmodel1 = pd.DataFrame({'predicted':y_pred,'original':y_test})\n",
        "realvsmodel1.head()"
      ],
      "metadata": {
        "colab": {
          "base_uri": "https://localhost:8080/",
          "height": 206
        },
        "id": "sDYVOzzkAbJ1",
        "outputId": "09fae2f0-a014-4772-b07d-8a40000f7d4a"
      },
      "execution_count": 83,
      "outputs": [
        {
          "output_type": "execute_result",
          "data": {
            "text/plain": [
              "  predicted original\n",
              "0       new      new\n",
              "1       new      new\n",
              "2       new      new\n",
              "3       new      new\n",
              "4       new      new"
            ],
            "text/html": [
              "\n",
              "  <div id=\"df-332a3f7c-f4f0-4aca-940a-173b485093ed\">\n",
              "    <div class=\"colab-df-container\">\n",
              "      <div>\n",
              "<style scoped>\n",
              "    .dataframe tbody tr th:only-of-type {\n",
              "        vertical-align: middle;\n",
              "    }\n",
              "\n",
              "    .dataframe tbody tr th {\n",
              "        vertical-align: top;\n",
              "    }\n",
              "\n",
              "    .dataframe thead th {\n",
              "        text-align: right;\n",
              "    }\n",
              "</style>\n",
              "<table border=\"1\" class=\"dataframe\">\n",
              "  <thead>\n",
              "    <tr style=\"text-align: right;\">\n",
              "      <th></th>\n",
              "      <th>predicted</th>\n",
              "      <th>original</th>\n",
              "    </tr>\n",
              "  </thead>\n",
              "  <tbody>\n",
              "    <tr>\n",
              "      <th>0</th>\n",
              "      <td>new</td>\n",
              "      <td>new</td>\n",
              "    </tr>\n",
              "    <tr>\n",
              "      <th>1</th>\n",
              "      <td>new</td>\n",
              "      <td>new</td>\n",
              "    </tr>\n",
              "    <tr>\n",
              "      <th>2</th>\n",
              "      <td>new</td>\n",
              "      <td>new</td>\n",
              "    </tr>\n",
              "    <tr>\n",
              "      <th>3</th>\n",
              "      <td>new</td>\n",
              "      <td>new</td>\n",
              "    </tr>\n",
              "    <tr>\n",
              "      <th>4</th>\n",
              "      <td>new</td>\n",
              "      <td>new</td>\n",
              "    </tr>\n",
              "  </tbody>\n",
              "</table>\n",
              "</div>\n",
              "      <button class=\"colab-df-convert\" onclick=\"convertToInteractive('df-332a3f7c-f4f0-4aca-940a-173b485093ed')\"\n",
              "              title=\"Convert this dataframe to an interactive table.\"\n",
              "              style=\"display:none;\">\n",
              "        \n",
              "  <svg xmlns=\"http://www.w3.org/2000/svg\" height=\"24px\"viewBox=\"0 0 24 24\"\n",
              "       width=\"24px\">\n",
              "    <path d=\"M0 0h24v24H0V0z\" fill=\"none\"/>\n",
              "    <path d=\"M18.56 5.44l.94 2.06.94-2.06 2.06-.94-2.06-.94-.94-2.06-.94 2.06-2.06.94zm-11 1L8.5 8.5l.94-2.06 2.06-.94-2.06-.94L8.5 2.5l-.94 2.06-2.06.94zm10 10l.94 2.06.94-2.06 2.06-.94-2.06-.94-.94-2.06-.94 2.06-2.06.94z\"/><path d=\"M17.41 7.96l-1.37-1.37c-.4-.4-.92-.59-1.43-.59-.52 0-1.04.2-1.43.59L10.3 9.45l-7.72 7.72c-.78.78-.78 2.05 0 2.83L4 21.41c.39.39.9.59 1.41.59.51 0 1.02-.2 1.41-.59l7.78-7.78 2.81-2.81c.8-.78.8-2.07 0-2.86zM5.41 20L4 18.59l7.72-7.72 1.47 1.35L5.41 20z\"/>\n",
              "  </svg>\n",
              "      </button>\n",
              "      \n",
              "  <style>\n",
              "    .colab-df-container {\n",
              "      display:flex;\n",
              "      flex-wrap:wrap;\n",
              "      gap: 12px;\n",
              "    }\n",
              "\n",
              "    .colab-df-convert {\n",
              "      background-color: #E8F0FE;\n",
              "      border: none;\n",
              "      border-radius: 50%;\n",
              "      cursor: pointer;\n",
              "      display: none;\n",
              "      fill: #1967D2;\n",
              "      height: 32px;\n",
              "      padding: 0 0 0 0;\n",
              "      width: 32px;\n",
              "    }\n",
              "\n",
              "    .colab-df-convert:hover {\n",
              "      background-color: #E2EBFA;\n",
              "      box-shadow: 0px 1px 2px rgba(60, 64, 67, 0.3), 0px 1px 3px 1px rgba(60, 64, 67, 0.15);\n",
              "      fill: #174EA6;\n",
              "    }\n",
              "\n",
              "    [theme=dark] .colab-df-convert {\n",
              "      background-color: #3B4455;\n",
              "      fill: #D2E3FC;\n",
              "    }\n",
              "\n",
              "    [theme=dark] .colab-df-convert:hover {\n",
              "      background-color: #434B5C;\n",
              "      box-shadow: 0px 1px 3px 1px rgba(0, 0, 0, 0.15);\n",
              "      filter: drop-shadow(0px 1px 2px rgba(0, 0, 0, 0.3));\n",
              "      fill: #FFFFFF;\n",
              "    }\n",
              "  </style>\n",
              "\n",
              "      <script>\n",
              "        const buttonEl =\n",
              "          document.querySelector('#df-332a3f7c-f4f0-4aca-940a-173b485093ed button.colab-df-convert');\n",
              "        buttonEl.style.display =\n",
              "          google.colab.kernel.accessAllowed ? 'block' : 'none';\n",
              "\n",
              "        async function convertToInteractive(key) {\n",
              "          const element = document.querySelector('#df-332a3f7c-f4f0-4aca-940a-173b485093ed');\n",
              "          const dataTable =\n",
              "            await google.colab.kernel.invokeFunction('convertToInteractive',\n",
              "                                                     [key], {});\n",
              "          if (!dataTable) return;\n",
              "\n",
              "          const docLinkHtml = 'Like what you see? Visit the ' +\n",
              "            '<a target=\"_blank\" href=https://colab.research.google.com/notebooks/data_table.ipynb>data table notebook</a>'\n",
              "            + ' to learn more about interactive tables.';\n",
              "          element.innerHTML = '';\n",
              "          dataTable['output_type'] = 'display_data';\n",
              "          await google.colab.output.renderOutput(dataTable, element);\n",
              "          const docLink = document.createElement('div');\n",
              "          docLink.innerHTML = docLinkHtml;\n",
              "          element.appendChild(docLink);\n",
              "        }\n",
              "      </script>\n",
              "    </div>\n",
              "  </div>\n",
              "  "
            ]
          },
          "metadata": {},
          "execution_count": 83
        }
      ]
    },
    {
      "cell_type": "code",
      "source": [
        "#finding optimal k value\n",
        "error = [] \n",
        "\n",
        "# Will take some time\n",
        "for i in range(1,40):\n",
        "    neigh = KNeighborsClassifier(n_neighbors=i)\n",
        "    neigh.fit(X_train,y_train)\n",
        "    pred = neigh.predict(X_test) \n",
        "    error.append(np.mean(pred != y_test))"
      ],
      "metadata": {
        "id": "F5LsLmRPBSNg"
      },
      "execution_count": 84,
      "outputs": []
    },
    {
      "cell_type": "code",
      "source": [
        "plt.figure(figsize=(12,6))\n",
        "plt.plot(range(1,40),error)\n",
        "plt.title('Error and K Value')"
      ],
      "metadata": {
        "colab": {
          "base_uri": "https://localhost:8080/",
          "height": 410
        },
        "id": "rUVatDqXBo94",
        "outputId": "43b20401-ba7f-4103-b0cc-bfc3644407e0"
      },
      "execution_count": 85,
      "outputs": [
        {
          "output_type": "execute_result",
          "data": {
            "text/plain": [
              "Text(0.5, 1.0, 'Error and K Value')"
            ]
          },
          "metadata": {},
          "execution_count": 85
        },
        {
          "output_type": "display_data",
          "data": {
            "text/plain": [
              "<Figure size 864x432 with 1 Axes>"
            ],
            "image/png": "[encoded data removed]"
          },
          "metadata": {
            "needs_background": "light"
          }
        }
      ]
    },
    {
      "cell_type": "code",
      "source": [
        "neigh = KNeighborsClassifier(n_neighbors=28)\n",
        "neigh.fit(X_train,y_train)\n",
        "pred = neigh.predict(X_test) "
      ],
      "metadata": {
        "id": "Ktjq0_zjBxMn"
      },
      "execution_count": 86,
      "outputs": []
    },
    {
      "cell_type": "code",
      "source": [
        "# Accuracy score\n",
        "print(\"Test set score: {:.2f}\".format(neigh.score(X_test, y_pred)))"
      ],
      "metadata": {
        "colab": {
          "base_uri": "https://localhost:8080/"
        },
        "id": "j-Yf7HHwB0Ip",
        "outputId": "a455bf28-4239-4a75-a856-8618b4419215"
      },
      "execution_count": 87,
      "outputs": [
        {
          "output_type": "stream",
          "name": "stdout",
          "text": [
            "Test set score: 1.00\n"
          ]
        }
      ]
    },
    {
      "cell_type": "code",
      "source": [
        "from sklearn.metrics import confusion_matrix\n",
        "confusion_matrix(y_test, y_pred)"
      ],
      "metadata": {
        "colab": {
          "base_uri": "https://localhost:8080/"
        },
        "id": "X-MQ97UfB34O",
        "outputId": "360e859c-090e-4d4a-b714-1d21d527d4c8"
      },
      "execution_count": 88,
      "outputs": [
        {
          "output_type": "execute_result",
          "data": {
            "text/plain": [
              "array([[   0,    1,    0],\n",
              "       [   0, 1556,    4],\n",
              "       [   0,   15,    2]])"
            ]
          },
          "metadata": {},
          "execution_count": 88
        }
      ]
    },
    {
      "cell_type": "code",
      "source": [
        "from sklearn.metrics import accuracy_score\n",
        "accuracy_score(y_test, y_pred)"
      ],
      "metadata": {
        "colab": {
          "base_uri": "https://localhost:8080/"
        },
        "id": "Fh12l4GwB7lN",
        "outputId": "c47d49b4-412b-4d9e-d850-5ae8a0ca1fc8"
      },
      "execution_count": 89,
      "outputs": [
        {
          "output_type": "execute_result",
          "data": {
            "text/plain": [
              "0.9873257287705957"
            ]
          },
          "metadata": {},
          "execution_count": 89
        }
      ]
    },
    {
      "cell_type": "code",
      "source": [
        "from sklearn.metrics import classification_report\n",
        "target_names = ['class 0', 'class 1', 'class 2']\n",
        "print(classification_report(y_test, y_pred, target_names=target_names))"
      ],
      "metadata": {
        "colab": {
          "base_uri": "https://localhost:8080/"
        },
        "id": "fQFbDyhGCAKM",
        "outputId": "d3b14342-df15-426b-a04f-f5a2db81e2bd"
      },
      "execution_count": 91,
      "outputs": [
        {
          "output_type": "stream",
          "name": "stdout",
          "text": [
            "              precision    recall  f1-score   support\n",
            "\n",
            "     class 0       0.00      0.00      0.00         1\n",
            "     class 1       0.99      1.00      0.99      1560\n",
            "     class 2       0.33      0.12      0.17        17\n",
            "\n",
            "    accuracy                           0.99      1578\n",
            "   macro avg       0.44      0.37      0.39      1578\n",
            "weighted avg       0.98      0.99      0.98      1578\n",
            "\n"
          ]
        },
        {
          "output_type": "stream",
          "name": "stderr",
          "text": [
            "/usr/local/lib/python3.7/dist-packages/sklearn/metrics/_classification.py:1318: UndefinedMetricWarning: Precision and F-score are ill-defined and being set to 0.0 in labels with no predicted samples. Use `zero_division` parameter to control this behavior.\n",
            "  _warn_prf(average, modifier, msg_start, len(result))\n",
            "/usr/local/lib/python3.7/dist-packages/sklearn/metrics/_classification.py:1318: UndefinedMetricWarning: Precision and F-score are ill-defined and being set to 0.0 in labels with no predicted samples. Use `zero_division` parameter to control this behavior.\n",
            "  _warn_prf(average, modifier, msg_start, len(result))\n",
            "/usr/local/lib/python3.7/dist-packages/sklearn/metrics/_classification.py:1318: UndefinedMetricWarning: Precision and F-score are ill-defined and being set to 0.0 in labels with no predicted samples. Use `zero_division` parameter to control this behavior.\n",
            "  _warn_prf(average, modifier, msg_start, len(result))\n"
          ]
        }
      ]
    },
    {
      "cell_type": "code",
      "source": [
        "from sklearn.naive_bayes import GaussianNB\n",
        "#X_train, X_test, y_train, y_test = train_test_split(X, y, test_size=0.33, random_state=42)\n",
        "gnb = GaussianNB()\n",
        "gnb.fit(X_train, y_train)\n",
        "\n",
        "y_pred = gnb.predict(X_test)"
      ],
      "metadata": {
        "id": "NsZ3IjnXDYzT"
      },
      "execution_count": 92,
      "outputs": []
    },
    {
      "cell_type": "code",
      "source": [
        "confusion_matrix(y_test, y_pred)"
      ],
      "metadata": {
        "colab": {
          "base_uri": "https://localhost:8080/"
        },
        "id": "RPhSd75WDbQD",
        "outputId": "d2c4cc0a-e1ed-492e-a3c8-b27b14ca1aaa"
      },
      "execution_count": 93,
      "outputs": [
        {
          "output_type": "execute_result",
          "data": {
            "text/plain": [
              "array([[   1,    0,    0],\n",
              "       [   0, 1544,   16],\n",
              "       [   7,    9,    1]])"
            ]
          },
          "metadata": {},
          "execution_count": 93
        }
      ]
    },
    {
      "cell_type": "code",
      "source": [
        "accuracy_score(y_test, y_pred)"
      ],
      "metadata": {
        "colab": {
          "base_uri": "https://localhost:8080/"
        },
        "id": "Gw9QqZmQDd5G",
        "outputId": "64fe88fe-0bf7-41da-c4b3-112973d380d5"
      },
      "execution_count": 94,
      "outputs": [
        {
          "output_type": "execute_result",
          "data": {
            "text/plain": [
              "0.9797211660329531"
            ]
          },
          "metadata": {},
          "execution_count": 94
        }
      ]
    },
    {
      "cell_type": "code",
      "source": [
        "from sklearn.metrics import classification_report\n",
        "target_names = ['class 0', 'class 1', 'class 2']\n",
        "print(classification_report(y_test, y_pred, target_names=target_names))"
      ],
      "metadata": {
        "colab": {
          "base_uri": "https://localhost:8080/"
        },
        "id": "IMPkNE44DiGo",
        "outputId": "5370b975-d702-4974-efe7-c01de2e09a1e"
      },
      "execution_count": 95,
      "outputs": [
        {
          "output_type": "stream",
          "name": "stdout",
          "text": [
            "              precision    recall  f1-score   support\n",
            "\n",
            "     class 0       0.12      1.00      0.22         1\n",
            "     class 1       0.99      0.99      0.99      1560\n",
            "     class 2       0.06      0.06      0.06        17\n",
            "\n",
            "    accuracy                           0.98      1578\n",
            "   macro avg       0.39      0.68      0.42      1578\n",
            "weighted avg       0.98      0.98      0.98      1578\n",
            "\n"
          ]
        }
      ]
    }
  ]
}