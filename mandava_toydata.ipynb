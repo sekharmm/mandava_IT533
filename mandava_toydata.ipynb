{
  "nbformat": 4,
  "nbformat_minor": 0,
  "metadata": {
    "colab": {
      "name": "mandava_toydata.ipynb",
      "provenance": [],
      "authorship_tag": "ABX9TyPANOjnx6WjlPaf5yORXsfx",
      "include_colab_link": true
    },
    "kernelspec": {
      "name": "python3",
      "display_name": "Python 3"
    },
    "language_info": {
      "name": "python"
    }
  },
  "cells": [
    {
      "cell_type": "markdown",
      "metadata": {
        "id": "view-in-github",
        "colab_type": "text"
      },
      "source": [
        "<a href=\"https://colab.research.google.com/github/sekharmm/mandava_IT533/blob/main/mandava_toydata.ipynb\" target=\"_parent\"><img src=\"https://colab.research.google.com/assets/colab-badge.svg\" alt=\"Open In Colab\"/></a>"
      ]
    },
    {
      "cell_type": "code",
      "execution_count": 4,
      "metadata": {
        "id": "R5JuTJDgL3YV"
      },
      "outputs": [],
      "source": [
        "import numpy as np\n",
        "import pandas as pd \n",
        "import matplotlib.pyplot as plt"
      ]
    },
    {
      "cell_type": "markdown",
      "source": [
        "load the csv data from the github account:"
      ],
      "metadata": {
        "id": "JFvLYmQBZyc6"
      }
    },
    {
      "cell_type": "code",
      "source": [
        " toydata = pd.read_csv(\"https://raw.githubusercontent.com/sekharmm/mandava_IT533/main/amazon_toy_sample_clean.csv\",encoding=\"ISO-8859-1\")"
      ],
      "metadata": {
        "id": "86pHD0YhL7zJ"
      },
      "execution_count": 11,
      "outputs": []
    },
    {
      "cell_type": "code",
      "source": [
        "toydata"
      ],
      "metadata": {
        "colab": {
          "base_uri": "https://localhost:8080/",
          "height": 1000
        },
        "id": "PJ3C_Y7yt1rY",
        "outputId": "db420997-d19e-4805-a718-f54870a3a911"
      },
      "execution_count": 19,
      "outputs": [
        {
          "output_type": "execute_result",
          "data": {
            "text/plain": [
              "                               uniq_id  \\\n",
              "0     dafc6b4ba4b4a3e7b4ff83402a196ae8   \n",
              "1     ba85fb9368114fce646379ed12750a5f   \n",
              "2     14e24c29ba38c2717754baa2638f242a   \n",
              "3     048d64d2ba61c23f6280663a7281ff19   \n",
              "4     7b72f597db5d74d35c4f91ef69708cf1   \n",
              "...                                ...   \n",
              "6331  8020c8cd2b86bd2e793241dd321d8921   \n",
              "6332  ddd1807f90417adcdf4cd45841239e01   \n",
              "6333  1e897bf37e4e89aba7cc962f24913fd4   \n",
              "6334  4f705c302bdcf5d2b0c1df973d98f99f   \n",
              "6335  75d96583894e50412ba5c0161375fef5   \n",
              "\n",
              "                                           product_name  \\\n",
              "0                                         Dinosaur Eggs   \n",
              "1      Neopets 4 Trading Card Fun Packs (2 Bonus Cards)   \n",
              "2             Latex Assorted Water Balloons, Pack of 40   \n",
              "3                   iCarly Shopper Bag - Lilac and Pink   \n",
              "4     4 Packs of Mini Colouring Pencils (4 pencils i...   \n",
              "...                                                 ...   \n",
              "6331                       Parrot Bebop Drone 2 (White)   \n",
              "6332  Star Images E.T. Stunt Puppet Replica Action F...   \n",
              "6333  Indiana Jones - 12 Inch Action Figures: Indian...   \n",
              "6334                    DJI Phantom 2 with H3-3D Gimbal   \n",
              "6335  Bowen Designs - Marvel Statue Thor Classic Act...   \n",
              "\n",
              "                  manufacturer    price  number_available_in_stock status  \\\n",
              "0                      Halsall     0.29                          3    new   \n",
              "1                      Neopets     0.38                          2    new   \n",
              "2                 Unique Party     0.39                          7    new   \n",
              "3       Trade Mark Collections     0.50                          4    new   \n",
              "4     unisex party bag fillers     0.60                          7    new   \n",
              "...                        ...      ...                        ...    ...   \n",
              "6331                    Parrot   439.95                         11    new   \n",
              "6332               Star images   447.99                          3    new   \n",
              "6333                  Sideshow   719.95                          2    new   \n",
              "6334                       DJI   995.11                          2   used   \n",
              "6335             Bowen Designs  2439.92                          2    new   \n",
              "\n",
              "      number_of_reviews  number_of_answered_questions  \\\n",
              "0                     3                             2   \n",
              "1                     2                             1   \n",
              "2                     2                             1   \n",
              "3                     7                             2   \n",
              "4                    21                             1   \n",
              "...                 ...                           ...   \n",
              "6331                  9                             3   \n",
              "6332                  1                             3   \n",
              "6333                  1                             1   \n",
              "6334                  4                            19   \n",
              "6335                  1                             1   \n",
              "\n",
              "      average_review_rating_of_5  \\\n",
              "0                            4.0   \n",
              "1                            4.5   \n",
              "2                            4.5   \n",
              "3                            4.6   \n",
              "4                            4.3   \n",
              "...                          ...   \n",
              "6331                         3.3   \n",
              "6332                         5.0   \n",
              "6333                         5.0   \n",
              "6334                         5.0   \n",
              "6335                         4.0   \n",
              "\n",
              "                       amazon_category_and_sub_category  \\\n",
              "0                        Figures & Playsets > Dinosaurs   \n",
              "1     Hobbies > Trading Cards & Accessories > Packs ...   \n",
              "2               Party Supplies > Decorations > Balloons   \n",
              "3     Sports Toys & Outdoor > Beach Toys > Airbeds &...   \n",
              "4                     Arts & Crafts > Colouring Pencils   \n",
              "...                                                 ...   \n",
              "6331  Hobbies > Remote Controlled Devices > Helicopt...   \n",
              "6332                   Figures & Playsets > Accessories   \n",
              "6333     Figures & Playsets > Science Fiction & Fantasy   \n",
              "6334  Hobbies > Remote Controlled Devices > Helicopt...   \n",
              "6335  Hobbies > Model Trains & Railway Sets > Access...   \n",
              "\n",
              "             customers_who_bought_this_item_also_bought  \\\n",
              "0     http://www.amazon.co.uk/Hatch-em-TY63-Hatching...   \n",
              "1                                               Unknown   \n",
              "2     http://www.amazon.co.uk/Latex-Cannonball | htt...   \n",
              "3     http://www.amazon.co.uk/iCarly-Large-Rectangle...   \n",
              "4     http://www.amazon.co.uk/12-Mini-Christmas-Colo...   \n",
              "...                                                 ...   \n",
              "6331  http://www.amazon.co.uk/BTG-Upgrade-Battery310...   \n",
              "6332  http://www.amazon.co.uk/12-Inch-Replica-Stunt-...   \n",
              "6333  http://www.amazon.co.uk/Indiana-Jones-Masterpi...   \n",
              "6334  http://www.amazon.co.uk/Propellers | http://ww...   \n",
              "6335  http://www.amazon.co.uk/Kotobukiya | http://ww...   \n",
              "\n",
              "                                            description  \\\n",
              "0              Manufacturer's Description not available   \n",
              "1              Manufacturer's Description not available   \n",
              "2     Colour Name:Assorted Bold  |  Size Name:Pack o...   \n",
              "3     Manufacturer's Description The iCarly Shopping...   \n",
              "4     4 x Mini Colouring Pencils - Pack of 4 Size: 8...   \n",
              "...                                                 ...   \n",
              "6331  Colour Name:White and Black Product Descriptio...   \n",
              "6332  Product Description E.T. Stunt Puppet Replica ...   \n",
              "6333  Figurine articulÃ©e taille env. 30 cm avec vÃª...   \n",
              "6334  Product Description Including the H3-3D Gimbal...   \n",
              "6335  Sideshow Collectibles is proud to present the ...   \n",
              "\n",
              "                                    product_information  \\\n",
              "0     Technical Details Item Weight82 g Product Dime...   \n",
              "1     Technical Details Item Weight454 g Product Dim...   \n",
              "2     Technical Details Item Weight222 g Product Dim...   \n",
              "3                                                   NaN   \n",
              "4     Technical Details Item Weight59 g Product Dime...   \n",
              "...                                                 ...   \n",
              "6331  Technical Details Item Weight503 g Product Dim...   \n",
              "6332  Technical Details Item Weight998 g Product Dim...   \n",
              "6333  Technical Details Item Weight1.1 Kg Product Di...   \n",
              "6334  Technical Details Item Weight2.5 Kg Product Di...   \n",
              "6335  Technical Details Item Weight6 Kg Product Dime...   \n",
              "\n",
              "                                    product_description  \\\n",
              "0                                         Not available   \n",
              "1                                         Not available   \n",
              "2     Colour Name:Assorted Bold  |  Size Name:Pack o...   \n",
              "3     Manufacturer's Description The iCarly Shopping...   \n",
              "4     4 x Mini Colouring Pencils - Pack of 4 Size: 8...   \n",
              "...                                                 ...   \n",
              "6331  Colour Name:White and Black Product Descriptio...   \n",
              "6332  Product Description E.T. Stunt Puppet Replica ...   \n",
              "6333  Figurine articulÃ©e taille env. 30 cm avec vÃª...   \n",
              "6334  Product Description Including the H3-3D Gimbal...   \n",
              "6335  Sideshow Collectibles is proud to present the ...   \n",
              "\n",
              "            items_customers_buy_after_viewing_this_item  \\\n",
              "0     http://www.amazon.co.uk/Hatch-em-TY63-Hatching...   \n",
              "1                                         Not available   \n",
              "2     http://www.amazon.co.uk/Water-Bombs-Pack-100-A...   \n",
              "3     http://www.amazon.co.uk/Namco-Bandai-Icarly/dp...   \n",
              "4     http://www.amazon.co.uk/20-Packs-Wax-Crayons-P...   \n",
              "...                                                 ...   \n",
              "6331                                      Not available   \n",
              "6332  http://www.amazon.co.uk/12-Inch-Replica-Stunt-...   \n",
              "6333                                      Not available   \n",
              "6334                                      Not available   \n",
              "6335                                      Not available   \n",
              "\n",
              "                         customer_questions_and_answers  \\\n",
              "0                                                  None   \n",
              "1                                                  None   \n",
              "2                                                  None   \n",
              "3                                                  None   \n",
              "4     How many packs in the box. // I got four Mimi ...   \n",
              "...                                                 ...   \n",
              "6331  Can you use the skycontroller from the origina...   \n",
              "6332  Is this made by Neca and is it the 3 foot life...   \n",
              "6333                                               None   \n",
              "6334  Does this come with the gimbal already install...   \n",
              "6335                                               None   \n",
              "\n",
              "                                       customer_reviews  \n",
              "0     Fascinating fun // 4.0 // 25 Nov. 2008 // By\\n...  \n",
              "1     Never Too Old // 4.0 // 6 Nov. 2013 // By\\n   ...  \n",
              "2     Great item // 4.0 // 27 Dec. 2015 // By\\n    \\...  \n",
              "3     Very good product // 5.0 // 26 Mar. 2014 // By...  \n",
              "4     Well made and presented // 4.0 // 6 April 2015...  \n",
              "...                                                 ...  \n",
              "6331  Much improved but slightly weird incremental u...  \n",
              "6332  Five Stars // 5.0 // 25 Oct. 2014 // By\\n    \\...  \n",
              "6333  \"It's not the years, sweet heart, it's the mil...  \n",
              "6334  Dji // 5.0 // 24 Aug. 2014 // By\\n    \\n    ol...  \n",
              "6335  Thortastic... // 4.0 // 12 Sept. 2012 // By\\n ...  \n",
              "\n",
              "[6336 rows x 17 columns]"
            ],
            "text/html": [
              "\n",
              "  <div id=\"df-d25670dc-cfe5-41cf-b8d6-129e9dd38c58\">\n",
              "    <div class=\"colab-df-container\">\n",
              "      <div>\n",
              "<style scoped>\n",
              "    .dataframe tbody tr th:only-of-type {\n",
              "        vertical-align: middle;\n",
              "    }\n",
              "\n",
              "    .dataframe tbody tr th {\n",
              "        vertical-align: top;\n",
              "    }\n",
              "\n",
              "    .dataframe thead th {\n",
              "        text-align: right;\n",
              "    }\n",
              "</style>\n",
              "<table border=\"1\" class=\"dataframe\">\n",
              "  <thead>\n",
              "    <tr style=\"text-align: right;\">\n",
              "      <th></th>\n",
              "      <th>uniq_id</th>\n",
              "      <th>product_name</th>\n",
              "      <th>manufacturer</th>\n",
              "      <th>price</th>\n",
              "      <th>number_available_in_stock</th>\n",
              "      <th>status</th>\n",
              "      <th>number_of_reviews</th>\n",
              "      <th>number_of_answered_questions</th>\n",
              "      <th>average_review_rating_of_5</th>\n",
              "      <th>amazon_category_and_sub_category</th>\n",
              "      <th>customers_who_bought_this_item_also_bought</th>\n",
              "      <th>description</th>\n",
              "      <th>product_information</th>\n",
              "      <th>product_description</th>\n",
              "      <th>items_customers_buy_after_viewing_this_item</th>\n",
              "      <th>customer_questions_and_answers</th>\n",
              "      <th>customer_reviews</th>\n",
              "    </tr>\n",
              "  </thead>\n",
              "  <tbody>\n",
              "    <tr>\n",
              "      <th>0</th>\n",
              "      <td>dafc6b4ba4b4a3e7b4ff83402a196ae8</td>\n",
              "      <td>Dinosaur Eggs</td>\n",
              "      <td>Halsall</td>\n",
              "      <td>0.29</td>\n",
              "      <td>3</td>\n",
              "      <td>new</td>\n",
              "      <td>3</td>\n",
              "      <td>2</td>\n",
              "      <td>4.0</td>\n",
              "      <td>Figures &amp; Playsets &gt; Dinosaurs</td>\n",
              "      <td>http://www.amazon.co.uk/Hatch-em-TY63-Hatching...</td>\n",
              "      <td>Manufacturer's Description not available</td>\n",
              "      <td>Technical Details Item Weight82 g Product Dime...</td>\n",
              "      <td>Not available</td>\n",
              "      <td>http://www.amazon.co.uk/Hatch-em-TY63-Hatching...</td>\n",
              "      <td>None</td>\n",
              "      <td>Fascinating fun // 4.0 // 25 Nov. 2008 // By\\n...</td>\n",
              "    </tr>\n",
              "    <tr>\n",
              "      <th>1</th>\n",
              "      <td>ba85fb9368114fce646379ed12750a5f</td>\n",
              "      <td>Neopets 4 Trading Card Fun Packs (2 Bonus Cards)</td>\n",
              "      <td>Neopets</td>\n",
              "      <td>0.38</td>\n",
              "      <td>2</td>\n",
              "      <td>new</td>\n",
              "      <td>2</td>\n",
              "      <td>1</td>\n",
              "      <td>4.5</td>\n",
              "      <td>Hobbies &gt; Trading Cards &amp; Accessories &gt; Packs ...</td>\n",
              "      <td>Unknown</td>\n",
              "      <td>Manufacturer's Description not available</td>\n",
              "      <td>Technical Details Item Weight454 g Product Dim...</td>\n",
              "      <td>Not available</td>\n",
              "      <td>Not available</td>\n",
              "      <td>None</td>\n",
              "      <td>Never Too Old // 4.0 // 6 Nov. 2013 // By\\n   ...</td>\n",
              "    </tr>\n",
              "    <tr>\n",
              "      <th>2</th>\n",
              "      <td>14e24c29ba38c2717754baa2638f242a</td>\n",
              "      <td>Latex Assorted Water Balloons, Pack of 40</td>\n",
              "      <td>Unique Party</td>\n",
              "      <td>0.39</td>\n",
              "      <td>7</td>\n",
              "      <td>new</td>\n",
              "      <td>2</td>\n",
              "      <td>1</td>\n",
              "      <td>4.5</td>\n",
              "      <td>Party Supplies &gt; Decorations &gt; Balloons</td>\n",
              "      <td>http://www.amazon.co.uk/Latex-Cannonball | htt...</td>\n",
              "      <td>Colour Name:Assorted Bold  |  Size Name:Pack o...</td>\n",
              "      <td>Technical Details Item Weight222 g Product Dim...</td>\n",
              "      <td>Colour Name:Assorted Bold  |  Size Name:Pack o...</td>\n",
              "      <td>http://www.amazon.co.uk/Water-Bombs-Pack-100-A...</td>\n",
              "      <td>None</td>\n",
              "      <td>Great item // 4.0 // 27 Dec. 2015 // By\\n    \\...</td>\n",
              "    </tr>\n",
              "    <tr>\n",
              "      <th>3</th>\n",
              "      <td>048d64d2ba61c23f6280663a7281ff19</td>\n",
              "      <td>iCarly Shopper Bag - Lilac and Pink</td>\n",
              "      <td>Trade Mark Collections</td>\n",
              "      <td>0.50</td>\n",
              "      <td>4</td>\n",
              "      <td>new</td>\n",
              "      <td>7</td>\n",
              "      <td>2</td>\n",
              "      <td>4.6</td>\n",
              "      <td>Sports Toys &amp; Outdoor &gt; Beach Toys &gt; Airbeds &amp;...</td>\n",
              "      <td>http://www.amazon.co.uk/iCarly-Large-Rectangle...</td>\n",
              "      <td>Manufacturer's Description The iCarly Shopping...</td>\n",
              "      <td>NaN</td>\n",
              "      <td>Manufacturer's Description The iCarly Shopping...</td>\n",
              "      <td>http://www.amazon.co.uk/Namco-Bandai-Icarly/dp...</td>\n",
              "      <td>None</td>\n",
              "      <td>Very good product // 5.0 // 26 Mar. 2014 // By...</td>\n",
              "    </tr>\n",
              "    <tr>\n",
              "      <th>4</th>\n",
              "      <td>7b72f597db5d74d35c4f91ef69708cf1</td>\n",
              "      <td>4 Packs of Mini Colouring Pencils (4 pencils i...</td>\n",
              "      <td>unisex party bag fillers</td>\n",
              "      <td>0.60</td>\n",
              "      <td>7</td>\n",
              "      <td>new</td>\n",
              "      <td>21</td>\n",
              "      <td>1</td>\n",
              "      <td>4.3</td>\n",
              "      <td>Arts &amp; Crafts &gt; Colouring Pencils</td>\n",
              "      <td>http://www.amazon.co.uk/12-Mini-Christmas-Colo...</td>\n",
              "      <td>4 x Mini Colouring Pencils - Pack of 4 Size: 8...</td>\n",
              "      <td>Technical Details Item Weight59 g Product Dime...</td>\n",
              "      <td>4 x Mini Colouring Pencils - Pack of 4 Size: 8...</td>\n",
              "      <td>http://www.amazon.co.uk/20-Packs-Wax-Crayons-P...</td>\n",
              "      <td>How many packs in the box. // I got four Mimi ...</td>\n",
              "      <td>Well made and presented // 4.0 // 6 April 2015...</td>\n",
              "    </tr>\n",
              "    <tr>\n",
              "      <th>...</th>\n",
              "      <td>...</td>\n",
              "      <td>...</td>\n",
              "      <td>...</td>\n",
              "      <td>...</td>\n",
              "      <td>...</td>\n",
              "      <td>...</td>\n",
              "      <td>...</td>\n",
              "      <td>...</td>\n",
              "      <td>...</td>\n",
              "      <td>...</td>\n",
              "      <td>...</td>\n",
              "      <td>...</td>\n",
              "      <td>...</td>\n",
              "      <td>...</td>\n",
              "      <td>...</td>\n",
              "      <td>...</td>\n",
              "      <td>...</td>\n",
              "    </tr>\n",
              "    <tr>\n",
              "      <th>6331</th>\n",
              "      <td>8020c8cd2b86bd2e793241dd321d8921</td>\n",
              "      <td>Parrot Bebop Drone 2 (White)</td>\n",
              "      <td>Parrot</td>\n",
              "      <td>439.95</td>\n",
              "      <td>11</td>\n",
              "      <td>new</td>\n",
              "      <td>9</td>\n",
              "      <td>3</td>\n",
              "      <td>3.3</td>\n",
              "      <td>Hobbies &gt; Remote Controlled Devices &gt; Helicopt...</td>\n",
              "      <td>http://www.amazon.co.uk/BTG-Upgrade-Battery310...</td>\n",
              "      <td>Colour Name:White and Black Product Descriptio...</td>\n",
              "      <td>Technical Details Item Weight503 g Product Dim...</td>\n",
              "      <td>Colour Name:White and Black Product Descriptio...</td>\n",
              "      <td>Not available</td>\n",
              "      <td>Can you use the skycontroller from the origina...</td>\n",
              "      <td>Much improved but slightly weird incremental u...</td>\n",
              "    </tr>\n",
              "    <tr>\n",
              "      <th>6332</th>\n",
              "      <td>ddd1807f90417adcdf4cd45841239e01</td>\n",
              "      <td>Star Images E.T. Stunt Puppet Replica Action F...</td>\n",
              "      <td>Star images</td>\n",
              "      <td>447.99</td>\n",
              "      <td>3</td>\n",
              "      <td>new</td>\n",
              "      <td>1</td>\n",
              "      <td>3</td>\n",
              "      <td>5.0</td>\n",
              "      <td>Figures &amp; Playsets &gt; Accessories</td>\n",
              "      <td>http://www.amazon.co.uk/12-Inch-Replica-Stunt-...</td>\n",
              "      <td>Product Description E.T. Stunt Puppet Replica ...</td>\n",
              "      <td>Technical Details Item Weight998 g Product Dim...</td>\n",
              "      <td>Product Description E.T. Stunt Puppet Replica ...</td>\n",
              "      <td>http://www.amazon.co.uk/12-Inch-Replica-Stunt-...</td>\n",
              "      <td>Is this made by Neca and is it the 3 foot life...</td>\n",
              "      <td>Five Stars // 5.0 // 25 Oct. 2014 // By\\n    \\...</td>\n",
              "    </tr>\n",
              "    <tr>\n",
              "      <th>6333</th>\n",
              "      <td>1e897bf37e4e89aba7cc962f24913fd4</td>\n",
              "      <td>Indiana Jones - 12 Inch Action Figures: Indian...</td>\n",
              "      <td>Sideshow</td>\n",
              "      <td>719.95</td>\n",
              "      <td>2</td>\n",
              "      <td>new</td>\n",
              "      <td>1</td>\n",
              "      <td>1</td>\n",
              "      <td>5.0</td>\n",
              "      <td>Figures &amp; Playsets &gt; Science Fiction &amp; Fantasy</td>\n",
              "      <td>http://www.amazon.co.uk/Indiana-Jones-Masterpi...</td>\n",
              "      <td>Figurine articulÃ©e taille env. 30 cm avec vÃª...</td>\n",
              "      <td>Technical Details Item Weight1.1 Kg Product Di...</td>\n",
              "      <td>Figurine articulÃ©e taille env. 30 cm avec vÃª...</td>\n",
              "      <td>Not available</td>\n",
              "      <td>None</td>\n",
              "      <td>\"It's not the years, sweet heart, it's the mil...</td>\n",
              "    </tr>\n",
              "    <tr>\n",
              "      <th>6334</th>\n",
              "      <td>4f705c302bdcf5d2b0c1df973d98f99f</td>\n",
              "      <td>DJI Phantom 2 with H3-3D Gimbal</td>\n",
              "      <td>DJI</td>\n",
              "      <td>995.11</td>\n",
              "      <td>2</td>\n",
              "      <td>used</td>\n",
              "      <td>4</td>\n",
              "      <td>19</td>\n",
              "      <td>5.0</td>\n",
              "      <td>Hobbies &gt; Remote Controlled Devices &gt; Helicopt...</td>\n",
              "      <td>http://www.amazon.co.uk/Propellers | http://ww...</td>\n",
              "      <td>Product Description Including the H3-3D Gimbal...</td>\n",
              "      <td>Technical Details Item Weight2.5 Kg Product Di...</td>\n",
              "      <td>Product Description Including the H3-3D Gimbal...</td>\n",
              "      <td>Not available</td>\n",
              "      <td>Does this come with the gimbal already install...</td>\n",
              "      <td>Dji // 5.0 // 24 Aug. 2014 // By\\n    \\n    ol...</td>\n",
              "    </tr>\n",
              "    <tr>\n",
              "      <th>6335</th>\n",
              "      <td>75d96583894e50412ba5c0161375fef5</td>\n",
              "      <td>Bowen Designs - Marvel Statue Thor Classic Act...</td>\n",
              "      <td>Bowen Designs</td>\n",
              "      <td>2439.92</td>\n",
              "      <td>2</td>\n",
              "      <td>new</td>\n",
              "      <td>1</td>\n",
              "      <td>1</td>\n",
              "      <td>4.0</td>\n",
              "      <td>Hobbies &gt; Model Trains &amp; Railway Sets &gt; Access...</td>\n",
              "      <td>http://www.amazon.co.uk/Kotobukiya | http://ww...</td>\n",
              "      <td>Sideshow Collectibles is proud to present the ...</td>\n",
              "      <td>Technical Details Item Weight6 Kg Product Dime...</td>\n",
              "      <td>Sideshow Collectibles is proud to present the ...</td>\n",
              "      <td>Not available</td>\n",
              "      <td>None</td>\n",
              "      <td>Thortastic... // 4.0 // 12 Sept. 2012 // By\\n ...</td>\n",
              "    </tr>\n",
              "  </tbody>\n",
              "</table>\n",
              "<p>6336 rows × 17 columns</p>\n",
              "</div>\n",
              "      <button class=\"colab-df-convert\" onclick=\"convertToInteractive('df-d25670dc-cfe5-41cf-b8d6-129e9dd38c58')\"\n",
              "              title=\"Convert this dataframe to an interactive table.\"\n",
              "              style=\"display:none;\">\n",
              "        \n",
              "  <svg xmlns=\"http://www.w3.org/2000/svg\" height=\"24px\"viewBox=\"0 0 24 24\"\n",
              "       width=\"24px\">\n",
              "    <path d=\"M0 0h24v24H0V0z\" fill=\"none\"/>\n",
              "    <path d=\"M18.56 5.44l.94 2.06.94-2.06 2.06-.94-2.06-.94-.94-2.06-.94 2.06-2.06.94zm-11 1L8.5 8.5l.94-2.06 2.06-.94-2.06-.94L8.5 2.5l-.94 2.06-2.06.94zm10 10l.94 2.06.94-2.06 2.06-.94-2.06-.94-.94-2.06-.94 2.06-2.06.94z\"/><path d=\"M17.41 7.96l-1.37-1.37c-.4-.4-.92-.59-1.43-.59-.52 0-1.04.2-1.43.59L10.3 9.45l-7.72 7.72c-.78.78-.78 2.05 0 2.83L4 21.41c.39.39.9.59 1.41.59.51 0 1.02-.2 1.41-.59l7.78-7.78 2.81-2.81c.8-.78.8-2.07 0-2.86zM5.41 20L4 18.59l7.72-7.72 1.47 1.35L5.41 20z\"/>\n",
              "  </svg>\n",
              "      </button>\n",
              "      \n",
              "  <style>\n",
              "    .colab-df-container {\n",
              "      display:flex;\n",
              "      flex-wrap:wrap;\n",
              "      gap: 12px;\n",
              "    }\n",
              "\n",
              "    .colab-df-convert {\n",
              "      background-color: #E8F0FE;\n",
              "      border: none;\n",
              "      border-radius: 50%;\n",
              "      cursor: pointer;\n",
              "      display: none;\n",
              "      fill: #1967D2;\n",
              "      height: 32px;\n",
              "      padding: 0 0 0 0;\n",
              "      width: 32px;\n",
              "    }\n",
              "\n",
              "    .colab-df-convert:hover {\n",
              "      background-color: #E2EBFA;\n",
              "      box-shadow: 0px 1px 2px rgba(60, 64, 67, 0.3), 0px 1px 3px 1px rgba(60, 64, 67, 0.15);\n",
              "      fill: #174EA6;\n",
              "    }\n",
              "\n",
              "    [theme=dark] .colab-df-convert {\n",
              "      background-color: #3B4455;\n",
              "      fill: #D2E3FC;\n",
              "    }\n",
              "\n",
              "    [theme=dark] .colab-df-convert:hover {\n",
              "      background-color: #434B5C;\n",
              "      box-shadow: 0px 1px 3px 1px rgba(0, 0, 0, 0.15);\n",
              "      filter: drop-shadow(0px 1px 2px rgba(0, 0, 0, 0.3));\n",
              "      fill: #FFFFFF;\n",
              "    }\n",
              "  </style>\n",
              "\n",
              "      <script>\n",
              "        const buttonEl =\n",
              "          document.querySelector('#df-d25670dc-cfe5-41cf-b8d6-129e9dd38c58 button.colab-df-convert');\n",
              "        buttonEl.style.display =\n",
              "          google.colab.kernel.accessAllowed ? 'block' : 'none';\n",
              "\n",
              "        async function convertToInteractive(key) {\n",
              "          const element = document.querySelector('#df-d25670dc-cfe5-41cf-b8d6-129e9dd38c58');\n",
              "          const dataTable =\n",
              "            await google.colab.kernel.invokeFunction('convertToInteractive',\n",
              "                                                     [key], {});\n",
              "          if (!dataTable) return;\n",
              "\n",
              "          const docLinkHtml = 'Like what you see? Visit the ' +\n",
              "            '<a target=\"_blank\" href=https://colab.research.google.com/notebooks/data_table.ipynb>data table notebook</a>'\n",
              "            + ' to learn more about interactive tables.';\n",
              "          element.innerHTML = '';\n",
              "          dataTable['output_type'] = 'display_data';\n",
              "          await google.colab.output.renderOutput(dataTable, element);\n",
              "          const docLink = document.createElement('div');\n",
              "          docLink.innerHTML = docLinkHtml;\n",
              "          element.appendChild(docLink);\n",
              "        }\n",
              "      </script>\n",
              "    </div>\n",
              "  </div>\n",
              "  "
            ]
          },
          "metadata": {},
          "execution_count": 19
        }
      ]
    },
    {
      "cell_type": "markdown",
      "source": [
        "find the rows and columns"
      ],
      "metadata": {
        "id": "LqDeK-aB1vyP"
      }
    },
    {
      "cell_type": "code",
      "source": [
        "toydata.shape"
      ],
      "metadata": {
        "colab": {
          "base_uri": "https://localhost:8080/"
        },
        "id": "-F5VMpkg1u_w",
        "outputId": "f10e957c-6731-4ca0-af86-305ae7a6939c"
      },
      "execution_count": 20,
      "outputs": [
        {
          "output_type": "execute_result",
          "data": {
            "text/plain": [
              "(6336, 17)"
            ]
          },
          "metadata": {},
          "execution_count": 20
        }
      ]
    },
    {
      "cell_type": "code",
      "source": [
        "print(toydata.info())"
      ],
      "metadata": {
        "colab": {
          "base_uri": "https://localhost:8080/"
        },
        "id": "FIdjm4__ZxGQ",
        "outputId": "35cdf578-73a8-4689-d132-514acd431a73"
      },
      "execution_count": 7,
      "outputs": [
        {
          "output_type": "stream",
          "name": "stdout",
          "text": [
            "<class 'pandas.core.frame.DataFrame'>\n",
            "RangeIndex: 6336 entries, 0 to 6335\n",
            "Data columns (total 17 columns):\n",
            " #   Column                                       Non-Null Count  Dtype  \n",
            "---  ------                                       --------------  -----  \n",
            " 0   uniq_id                                      6336 non-null   object \n",
            " 1   product_name                                 6336 non-null   object \n",
            " 2   manufacturer                                 6336 non-null   object \n",
            " 3   price                                        6336 non-null   float64\n",
            " 4   number_available_in_stock                    6336 non-null   int64  \n",
            " 5   status                                       6336 non-null   object \n",
            " 6   number_of_reviews                            6336 non-null   int64  \n",
            " 7   number_of_answered_questions                 6336 non-null   int64  \n",
            " 8   average_review_rating_of_5                   6336 non-null   float64\n",
            " 9   amazon_category_and_sub_category             6336 non-null   object \n",
            " 10  customers_who_bought_this_item_also_bought   6336 non-null   object \n",
            " 11  description                                  6335 non-null   object \n",
            " 12  product_information                          6313 non-null   object \n",
            " 13  product_description                          6335 non-null   object \n",
            " 14  items_customers_buy_after_viewing_this_item  6336 non-null   object \n",
            " 15  customer_questions_and_answers               6336 non-null   object \n",
            " 16  customer_reviews                             6336 non-null   object \n",
            "dtypes: float64(2), int64(3), object(12)\n",
            "memory usage: 841.6+ KB\n",
            "None\n"
          ]
        }
      ]
    },
    {
      "cell_type": "code",
      "source": [
        "toydata.dtypes"
      ],
      "metadata": {
        "colab": {
          "base_uri": "https://localhost:8080/"
        },
        "id": "CeGVuR-rbNX-",
        "outputId": "d6cc522f-8259-43c4-d9cc-e63ee64b8b5c"
      },
      "execution_count": 9,
      "outputs": [
        {
          "output_type": "execute_result",
          "data": {
            "text/plain": [
              "uniq_id                                         object\n",
              "product_name                                    object\n",
              "manufacturer                                    object\n",
              "price                                          float64\n",
              "number_available_in_stock                        int64\n",
              "status                                          object\n",
              "number_of_reviews                                int64\n",
              "number_of_answered_questions                     int64\n",
              "average_review_rating_of_5                     float64\n",
              "amazon_category_and_sub_category                object\n",
              "customers_who_bought_this_item_also_bought      object\n",
              "description                                     object\n",
              "product_information                             object\n",
              "product_description                             object\n",
              "items_customers_buy_after_viewing_this_item     object\n",
              "customer_questions_and_answers                  object\n",
              "customer_reviews                                object\n",
              "dtype: object"
            ]
          },
          "metadata": {},
          "execution_count": 9
        }
      ]
    },
    {
      "cell_type": "markdown",
      "source": [
        ""
      ],
      "metadata": {
        "id": "w-KV4v6X17KD"
      }
    },
    {
      "cell_type": "code",
      "source": [
        "toydata.number_of_reviews.mean()\n"
      ],
      "metadata": {
        "colab": {
          "base_uri": "https://localhost:8080/"
        },
        "id": "u9sacWduxFGg",
        "outputId": "947d714a-a15d-46fc-8b34-4234da8fe3c4"
      },
      "execution_count": 22,
      "outputs": [
        {
          "output_type": "execute_result",
          "data": {
            "text/plain": [
              "11.220012626262626"
            ]
          },
          "metadata": {},
          "execution_count": 22
        }
      ]
    },
    {
      "cell_type": "code",
      "source": [
        "toydata.number_of_reviews.median()"
      ],
      "metadata": {
        "colab": {
          "base_uri": "https://localhost:8080/"
        },
        "id": "N5fJLB8ucBDK",
        "outputId": "814d7bd5-479b-4c9b-92d9-90889628a42f"
      },
      "execution_count": 24,
      "outputs": [
        {
          "output_type": "execute_result",
          "data": {
            "text/plain": [
              "2.0"
            ]
          },
          "metadata": {},
          "execution_count": 24
        }
      ]
    },
    {
      "cell_type": "code",
      "source": [
        "toydata.number_of_reviews.mode()"
      ],
      "metadata": {
        "colab": {
          "base_uri": "https://localhost:8080/"
        },
        "id": "BSUNgGZtblBN",
        "outputId": "eda80f04-cd49-4de9-b211-5627a969f082"
      },
      "execution_count": 25,
      "outputs": [
        {
          "output_type": "execute_result",
          "data": {
            "text/plain": [
              "0    1\n",
              "dtype: int64"
            ]
          },
          "metadata": {},
          "execution_count": 25
        }
      ]
    },
    {
      "cell_type": "code",
      "source": [
        "toydata.number_of_reviews.max()"
      ],
      "metadata": {
        "colab": {
          "base_uri": "https://localhost:8080/"
        },
        "id": "Fy1BBoDS2UCR",
        "outputId": "960372c3-1523-4bf7-e83f-889348ed7bda"
      },
      "execution_count": 26,
      "outputs": [
        {
          "output_type": "execute_result",
          "data": {
            "text/plain": [
              "1399"
            ]
          },
          "metadata": {},
          "execution_count": 26
        }
      ]
    },
    {
      "cell_type": "code",
      "source": [
        "toydata.number_of_reviews.std()"
      ],
      "metadata": {
        "colab": {
          "base_uri": "https://localhost:8080/"
        },
        "id": "FZktJzus2dBr",
        "outputId": "ad91f12e-e9c2-4e83-e2f8-93c3df726a74"
      },
      "execution_count": 27,
      "outputs": [
        {
          "output_type": "execute_result",
          "data": {
            "text/plain": [
              "39.292836009946384"
            ]
          },
          "metadata": {},
          "execution_count": 27
        }
      ]
    },
    {
      "cell_type": "code",
      "source": [
        "toydata.boxplot(['number_of_reviews'])"
      ],
      "metadata": {
        "colab": {
          "base_uri": "https://localhost:8080/",
          "height": 283
        },
        "id": "aSVgFbVQ2hU3",
        "outputId": "3abe3e5d-ef90-4374-e895-963e6d9c6df2"
      },
      "execution_count": 28,
      "outputs": [
        {
          "output_type": "execute_result",
          "data": {
            "text/plain": [
              "<matplotlib.axes._subplots.AxesSubplot at 0x7f1bde90bc10>"
            ]
          },
          "metadata": {},
          "execution_count": 28
        },
        {
          "output_type": "display_data",
          "data": {
            "text/plain": [
              "<Figure size 432x288 with 1 Axes>"
            ],
            "image/png": "[encoded data removed]"
          },
          "metadata": {
            "needs_background": "light"
          }
        }
      ]
    },
    {
      "cell_type": "code",
      "source": [
        "toydata.dtypes"
      ],
      "metadata": {
        "colab": {
          "base_uri": "https://localhost:8080/"
        },
        "id": "CtvDHfXf2sBo",
        "outputId": "829805fe-4a43-41e7-c750-0d06145b47a2"
      },
      "execution_count": 29,
      "outputs": [
        {
          "output_type": "execute_result",
          "data": {
            "text/plain": [
              "uniq_id                                         object\n",
              "product_name                                    object\n",
              "manufacturer                                    object\n",
              "price                                          float64\n",
              "number_available_in_stock                        int64\n",
              "status                                          object\n",
              "number_of_reviews                                int64\n",
              "number_of_answered_questions                     int64\n",
              "average_review_rating_of_5                     float64\n",
              "amazon_category_and_sub_category                object\n",
              "customers_who_bought_this_item_also_bought      object\n",
              "description                                     object\n",
              "product_information                             object\n",
              "product_description                             object\n",
              "items_customers_buy_after_viewing_this_item     object\n",
              "customer_questions_and_answers                  object\n",
              "customer_reviews                                object\n",
              "dtype: object"
            ]
          },
          "metadata": {},
          "execution_count": 29
        }
      ]
    },
    {
      "cell_type": "code",
      "source": [
        "toydata.average_review_rating_of_5.mean()"
      ],
      "metadata": {
        "colab": {
          "base_uri": "https://localhost:8080/"
        },
        "id": "NsoLnBxk2xXa",
        "outputId": "fe0c7b85-a7bf-4f50-91cb-0128f9d12759"
      },
      "execution_count": 30,
      "outputs": [
        {
          "output_type": "execute_result",
          "data": {
            "text/plain": [
              "4.6862215909090725"
            ]
          },
          "metadata": {},
          "execution_count": 30
        }
      ]
    },
    {
      "cell_type": "code",
      "source": [
        "toydata.average_review_rating_of_5.median()"
      ],
      "metadata": {
        "colab": {
          "base_uri": "https://localhost:8080/"
        },
        "id": "VRhbOO-r25-g",
        "outputId": "8e193586-2f02-4d2b-8527-611f78923dfe"
      },
      "execution_count": 31,
      "outputs": [
        {
          "output_type": "execute_result",
          "data": {
            "text/plain": [
              "4.9"
            ]
          },
          "metadata": {},
          "execution_count": 31
        }
      ]
    },
    {
      "cell_type": "code",
      "source": [
        "toydata.average_review_rating_of_5.mode()"
      ],
      "metadata": {
        "colab": {
          "base_uri": "https://localhost:8080/"
        },
        "id": "vgPlpAXY3ADU",
        "outputId": "e963ebba-c7f0-44ef-dfbc-a8cf361c07a1"
      },
      "execution_count": 33,
      "outputs": [
        {
          "output_type": "execute_result",
          "data": {
            "text/plain": [
              "0    5.0\n",
              "dtype: float64"
            ]
          },
          "metadata": {},
          "execution_count": 33
        }
      ]
    },
    {
      "cell_type": "code",
      "source": [
        "toydata.average_review_rating_of_5.max()"
      ],
      "metadata": {
        "colab": {
          "base_uri": "https://localhost:8080/"
        },
        "id": "b7F0-M6Z3Ehp",
        "outputId": "5f51536c-1e41-4c6a-9b93-afa496a93bd9"
      },
      "execution_count": 34,
      "outputs": [
        {
          "output_type": "execute_result",
          "data": {
            "text/plain": [
              "5.0"
            ]
          },
          "metadata": {},
          "execution_count": 34
        }
      ]
    },
    {
      "cell_type": "code",
      "source": [
        "toydata.average_review_rating_of_5.std()"
      ],
      "metadata": {
        "colab": {
          "base_uri": "https://localhost:8080/"
        },
        "id": "T1dOZCyA3J9b",
        "outputId": "d58e0fa6-5d1e-422f-8932-23119c47e25a"
      },
      "execution_count": 35,
      "outputs": [
        {
          "output_type": "execute_result",
          "data": {
            "text/plain": [
              "0.42765621863783376"
            ]
          },
          "metadata": {},
          "execution_count": 35
        }
      ]
    },
    {
      "cell_type": "code",
      "source": [
        "toydata.boxplot(['average_review_rating_of_5'])"
      ],
      "metadata": {
        "colab": {
          "base_uri": "https://localhost:8080/",
          "height": 283
        },
        "id": "UWVBwxe_3NcQ",
        "outputId": "4f9dfa78-893d-4744-9dc3-e96c20dfc27f"
      },
      "execution_count": 36,
      "outputs": [
        {
          "output_type": "execute_result",
          "data": {
            "text/plain": [
              "<matplotlib.axes._subplots.AxesSubplot at 0x7f1bde8adfd0>"
            ]
          },
          "metadata": {},
          "execution_count": 36
        },
        {
          "output_type": "display_data",
          "data": {
            "text/plain": [
              "<Figure size 432x288 with 1 Axes>"
            ],
            "image/png": "[encoded data removed]"
          },
          "metadata": {
            "needs_background": "light"
          }
        }
      ]
    },
    {
      "cell_type": "code",
      "source": [
        "toydata.describe(include='all') "
      ],
      "metadata": {
        "colab": {
          "base_uri": "https://localhost:8080/",
          "height": 510
        },
        "id": "DRG3gcCO3S3Z",
        "outputId": "f0bd92c5-5089-4809-9d6e-e128f15f5280"
      },
      "execution_count": 37,
      "outputs": [
        {
          "output_type": "execute_result",
          "data": {
            "text/plain": [
              "                                 uniq_id  \\\n",
              "count                               6336   \n",
              "unique                              6336   \n",
              "top     dafc6b4ba4b4a3e7b4ff83402a196ae8   \n",
              "freq                                   1   \n",
              "mean                                 NaN   \n",
              "std                                  NaN   \n",
              "min                                  NaN   \n",
              "25%                                  NaN   \n",
              "50%                                  NaN   \n",
              "75%                                  NaN   \n",
              "max                                  NaN   \n",
              "\n",
              "                                             product_name    manufacturer  \\\n",
              "count                                                6336            6336   \n",
              "unique                                               6315            1763   \n",
              "top     Zoo Animal Hand Sock Glove Finger Puppets Sack...  Oxford Diecast   \n",
              "freq                                                    3             137   \n",
              "mean                                                  NaN             NaN   \n",
              "std                                                   NaN             NaN   \n",
              "min                                                   NaN             NaN   \n",
              "25%                                                   NaN             NaN   \n",
              "50%                                                   NaN             NaN   \n",
              "75%                                                   NaN             NaN   \n",
              "max                                                   NaN             NaN   \n",
              "\n",
              "              price  number_available_in_stock status  number_of_reviews  \\\n",
              "count   6336.000000                6336.000000   6336        6336.000000   \n",
              "unique          NaN                        NaN      4                NaN   \n",
              "top             NaN                        NaN    new                NaN   \n",
              "freq            NaN                        NaN   6270                NaN   \n",
              "mean      20.213677                   8.735322    NaN          11.220013   \n",
              "std       46.288201                   9.117969    NaN          39.292836   \n",
              "min        0.290000                   1.000000    NaN           0.000000   \n",
              "25%        5.832500                   3.000000    NaN           1.000000   \n",
              "50%       11.280000                   5.000000    NaN           2.000000   \n",
              "75%       20.500000                  11.000000    NaN           8.000000   \n",
              "max     2439.920000                  92.000000    NaN        1399.000000   \n",
              "\n",
              "        number_of_answered_questions  average_review_rating_of_5  \\\n",
              "count                    6336.000000                 6336.000000   \n",
              "unique                           NaN                         NaN   \n",
              "top                              NaN                         NaN   \n",
              "freq                             NaN                         NaN   \n",
              "mean                        3.927715                    4.686222   \n",
              "std                        13.417801                    0.427656   \n",
              "min                         1.000000                    0.000000   \n",
              "25%                         1.000000                    4.500000   \n",
              "50%                         1.000000                    4.900000   \n",
              "75%                         2.000000                    5.000000   \n",
              "max                       523.000000                    5.000000   \n",
              "\n",
              "                         amazon_category_and_sub_category  \\\n",
              "count                                                6336   \n",
              "unique                                                211   \n",
              "top     Die-Cast & Toy Vehicles > Toy Vehicles & Acces...   \n",
              "freq                                                  589   \n",
              "mean                                                  NaN   \n",
              "std                                                   NaN   \n",
              "min                                                   NaN   \n",
              "25%                                                   NaN   \n",
              "50%                                                   NaN   \n",
              "75%                                                   NaN   \n",
              "max                                                   NaN   \n",
              "\n",
              "       customers_who_bought_this_item_also_bought  \\\n",
              "count                                        6336   \n",
              "unique                                       5745   \n",
              "top                                       Unknown   \n",
              "freq                                          483   \n",
              "mean                                          NaN   \n",
              "std                                           NaN   \n",
              "min                                           NaN   \n",
              "25%                                           NaN   \n",
              "50%                                           NaN   \n",
              "75%                                           NaN   \n",
              "max                                           NaN   \n",
              "\n",
              "                                     description  \\\n",
              "count                                       6335   \n",
              "unique                                      5558   \n",
              "top     Manufacturer's Description not available   \n",
              "freq                                         322   \n",
              "mean                                         NaN   \n",
              "std                                          NaN   \n",
              "min                                          NaN   \n",
              "25%                                          NaN   \n",
              "50%                                          NaN   \n",
              "75%                                          NaN   \n",
              "max                                          NaN   \n",
              "\n",
              "                                      product_information product_description  \\\n",
              "count                                                6313                6335   \n",
              "unique                                               6311                5558   \n",
              "top     Technical Details Item Weight680 g Product Dim...       Not available   \n",
              "freq                                                    2                 322   \n",
              "mean                                                  NaN                 NaN   \n",
              "std                                                   NaN                 NaN   \n",
              "min                                                   NaN                 NaN   \n",
              "25%                                                   NaN                 NaN   \n",
              "50%                                                   NaN                 NaN   \n",
              "75%                                                   NaN                 NaN   \n",
              "max                                                   NaN                 NaN   \n",
              "\n",
              "       items_customers_buy_after_viewing_this_item  \\\n",
              "count                                         6336   \n",
              "unique                                        4533   \n",
              "top                                  Not available   \n",
              "freq                                          1686   \n",
              "mean                                           NaN   \n",
              "std                                            NaN   \n",
              "min                                            NaN   \n",
              "25%                                            NaN   \n",
              "50%                                            NaN   \n",
              "75%                                            NaN   \n",
              "max                                            NaN   \n",
              "\n",
              "       customer_questions_and_answers customer_reviews  \n",
              "count                            6336             6336  \n",
              "unique                            680             6285  \n",
              "top                              None          Awesome  \n",
              "freq                             5653                6  \n",
              "mean                              NaN              NaN  \n",
              "std                               NaN              NaN  \n",
              "min                               NaN              NaN  \n",
              "25%                               NaN              NaN  \n",
              "50%                               NaN              NaN  \n",
              "75%                               NaN              NaN  \n",
              "max                               NaN              NaN  "
            ],
            "text/html": [
              "\n",
              "  <div id=\"df-2695c4be-96aa-4b57-8eaf-e460044a1942\">\n",
              "    <div class=\"colab-df-container\">\n",
              "      <div>\n",
              "<style scoped>\n",
              "    .dataframe tbody tr th:only-of-type {\n",
              "        vertical-align: middle;\n",
              "    }\n",
              "\n",
              "    .dataframe tbody tr th {\n",
              "        vertical-align: top;\n",
              "    }\n",
              "\n",
              "    .dataframe thead th {\n",
              "        text-align: right;\n",
              "    }\n",
              "</style>\n",
              "<table border=\"1\" class=\"dataframe\">\n",
              "  <thead>\n",
              "    <tr style=\"text-align: right;\">\n",
              "      <th></th>\n",
              "      <th>uniq_id</th>\n",
              "      <th>product_name</th>\n",
              "      <th>manufacturer</th>\n",
              "      <th>price</th>\n",
              "      <th>number_available_in_stock</th>\n",
              "      <th>status</th>\n",
              "      <th>number_of_reviews</th>\n",
              "      <th>number_of_answered_questions</th>\n",
              "      <th>average_review_rating_of_5</th>\n",
              "      <th>amazon_category_and_sub_category</th>\n",
              "      <th>customers_who_bought_this_item_also_bought</th>\n",
              "      <th>description</th>\n",
              "      <th>product_information</th>\n",
              "      <th>product_description</th>\n",
              "      <th>items_customers_buy_after_viewing_this_item</th>\n",
              "      <th>customer_questions_and_answers</th>\n",
              "      <th>customer_reviews</th>\n",
              "    </tr>\n",
              "  </thead>\n",
              "  <tbody>\n",
              "    <tr>\n",
              "      <th>count</th>\n",
              "      <td>6336</td>\n",
              "      <td>6336</td>\n",
              "      <td>6336</td>\n",
              "      <td>6336.000000</td>\n",
              "      <td>6336.000000</td>\n",
              "      <td>6336</td>\n",
              "      <td>6336.000000</td>\n",
              "      <td>6336.000000</td>\n",
              "      <td>6336.000000</td>\n",
              "      <td>6336</td>\n",
              "      <td>6336</td>\n",
              "      <td>6335</td>\n",
              "      <td>6313</td>\n",
              "      <td>6335</td>\n",
              "      <td>6336</td>\n",
              "      <td>6336</td>\n",
              "      <td>6336</td>\n",
              "    </tr>\n",
              "    <tr>\n",
              "      <th>unique</th>\n",
              "      <td>6336</td>\n",
              "      <td>6315</td>\n",
              "      <td>1763</td>\n",
              "      <td>NaN</td>\n",
              "      <td>NaN</td>\n",
              "      <td>4</td>\n",
              "      <td>NaN</td>\n",
              "      <td>NaN</td>\n",
              "      <td>NaN</td>\n",
              "      <td>211</td>\n",
              "      <td>5745</td>\n",
              "      <td>5558</td>\n",
              "      <td>6311</td>\n",
              "      <td>5558</td>\n",
              "      <td>4533</td>\n",
              "      <td>680</td>\n",
              "      <td>6285</td>\n",
              "    </tr>\n",
              "    <tr>\n",
              "      <th>top</th>\n",
              "      <td>dafc6b4ba4b4a3e7b4ff83402a196ae8</td>\n",
              "      <td>Zoo Animal Hand Sock Glove Finger Puppets Sack...</td>\n",
              "      <td>Oxford Diecast</td>\n",
              "      <td>NaN</td>\n",
              "      <td>NaN</td>\n",
              "      <td>new</td>\n",
              "      <td>NaN</td>\n",
              "      <td>NaN</td>\n",
              "      <td>NaN</td>\n",
              "      <td>Die-Cast &amp; Toy Vehicles &gt; Toy Vehicles &amp; Acces...</td>\n",
              "      <td>Unknown</td>\n",
              "      <td>Manufacturer's Description not available</td>\n",
              "      <td>Technical Details Item Weight680 g Product Dim...</td>\n",
              "      <td>Not available</td>\n",
              "      <td>Not available</td>\n",
              "      <td>None</td>\n",
              "      <td>Awesome</td>\n",
              "    </tr>\n",
              "    <tr>\n",
              "      <th>freq</th>\n",
              "      <td>1</td>\n",
              "      <td>3</td>\n",
              "      <td>137</td>\n",
              "      <td>NaN</td>\n",
              "      <td>NaN</td>\n",
              "      <td>6270</td>\n",
              "      <td>NaN</td>\n",
              "      <td>NaN</td>\n",
              "      <td>NaN</td>\n",
              "      <td>589</td>\n",
              "      <td>483</td>\n",
              "      <td>322</td>\n",
              "      <td>2</td>\n",
              "      <td>322</td>\n",
              "      <td>1686</td>\n",
              "      <td>5653</td>\n",
              "      <td>6</td>\n",
              "    </tr>\n",
              "    <tr>\n",
              "      <th>mean</th>\n",
              "      <td>NaN</td>\n",
              "      <td>NaN</td>\n",
              "      <td>NaN</td>\n",
              "      <td>20.213677</td>\n",
              "      <td>8.735322</td>\n",
              "      <td>NaN</td>\n",
              "      <td>11.220013</td>\n",
              "      <td>3.927715</td>\n",
              "      <td>4.686222</td>\n",
              "      <td>NaN</td>\n",
              "      <td>NaN</td>\n",
              "      <td>NaN</td>\n",
              "      <td>NaN</td>\n",
              "      <td>NaN</td>\n",
              "      <td>NaN</td>\n",
              "      <td>NaN</td>\n",
              "      <td>NaN</td>\n",
              "    </tr>\n",
              "    <tr>\n",
              "      <th>std</th>\n",
              "      <td>NaN</td>\n",
              "      <td>NaN</td>\n",
              "      <td>NaN</td>\n",
              "      <td>46.288201</td>\n",
              "      <td>9.117969</td>\n",
              "      <td>NaN</td>\n",
              "      <td>39.292836</td>\n",
              "      <td>13.417801</td>\n",
              "      <td>0.427656</td>\n",
              "      <td>NaN</td>\n",
              "      <td>NaN</td>\n",
              "      <td>NaN</td>\n",
              "      <td>NaN</td>\n",
              "      <td>NaN</td>\n",
              "      <td>NaN</td>\n",
              "      <td>NaN</td>\n",
              "      <td>NaN</td>\n",
              "    </tr>\n",
              "    <tr>\n",
              "      <th>min</th>\n",
              "      <td>NaN</td>\n",
              "      <td>NaN</td>\n",
              "      <td>NaN</td>\n",
              "      <td>0.290000</td>\n",
              "      <td>1.000000</td>\n",
              "      <td>NaN</td>\n",
              "      <td>0.000000</td>\n",
              "      <td>1.000000</td>\n",
              "      <td>0.000000</td>\n",
              "      <td>NaN</td>\n",
              "      <td>NaN</td>\n",
              "      <td>NaN</td>\n",
              "      <td>NaN</td>\n",
              "      <td>NaN</td>\n",
              "      <td>NaN</td>\n",
              "      <td>NaN</td>\n",
              "      <td>NaN</td>\n",
              "    </tr>\n",
              "    <tr>\n",
              "      <th>25%</th>\n",
              "      <td>NaN</td>\n",
              "      <td>NaN</td>\n",
              "      <td>NaN</td>\n",
              "      <td>5.832500</td>\n",
              "      <td>3.000000</td>\n",
              "      <td>NaN</td>\n",
              "      <td>1.000000</td>\n",
              "      <td>1.000000</td>\n",
              "      <td>4.500000</td>\n",
              "      <td>NaN</td>\n",
              "      <td>NaN</td>\n",
              "      <td>NaN</td>\n",
              "      <td>NaN</td>\n",
              "      <td>NaN</td>\n",
              "      <td>NaN</td>\n",
              "      <td>NaN</td>\n",
              "      <td>NaN</td>\n",
              "    </tr>\n",
              "    <tr>\n",
              "      <th>50%</th>\n",
              "      <td>NaN</td>\n",
              "      <td>NaN</td>\n",
              "      <td>NaN</td>\n",
              "      <td>11.280000</td>\n",
              "      <td>5.000000</td>\n",
              "      <td>NaN</td>\n",
              "      <td>2.000000</td>\n",
              "      <td>1.000000</td>\n",
              "      <td>4.900000</td>\n",
              "      <td>NaN</td>\n",
              "      <td>NaN</td>\n",
              "      <td>NaN</td>\n",
              "      <td>NaN</td>\n",
              "      <td>NaN</td>\n",
              "      <td>NaN</td>\n",
              "      <td>NaN</td>\n",
              "      <td>NaN</td>\n",
              "    </tr>\n",
              "    <tr>\n",
              "      <th>75%</th>\n",
              "      <td>NaN</td>\n",
              "      <td>NaN</td>\n",
              "      <td>NaN</td>\n",
              "      <td>20.500000</td>\n",
              "      <td>11.000000</td>\n",
              "      <td>NaN</td>\n",
              "      <td>8.000000</td>\n",
              "      <td>2.000000</td>\n",
              "      <td>5.000000</td>\n",
              "      <td>NaN</td>\n",
              "      <td>NaN</td>\n",
              "      <td>NaN</td>\n",
              "      <td>NaN</td>\n",
              "      <td>NaN</td>\n",
              "      <td>NaN</td>\n",
              "      <td>NaN</td>\n",
              "      <td>NaN</td>\n",
              "    </tr>\n",
              "    <tr>\n",
              "      <th>max</th>\n",
              "      <td>NaN</td>\n",
              "      <td>NaN</td>\n",
              "      <td>NaN</td>\n",
              "      <td>2439.920000</td>\n",
              "      <td>92.000000</td>\n",
              "      <td>NaN</td>\n",
              "      <td>1399.000000</td>\n",
              "      <td>523.000000</td>\n",
              "      <td>5.000000</td>\n",
              "      <td>NaN</td>\n",
              "      <td>NaN</td>\n",
              "      <td>NaN</td>\n",
              "      <td>NaN</td>\n",
              "      <td>NaN</td>\n",
              "      <td>NaN</td>\n",
              "      <td>NaN</td>\n",
              "      <td>NaN</td>\n",
              "    </tr>\n",
              "  </tbody>\n",
              "</table>\n",
              "</div>\n",
              "      <button class=\"colab-df-convert\" onclick=\"convertToInteractive('df-2695c4be-96aa-4b57-8eaf-e460044a1942')\"\n",
              "              title=\"Convert this dataframe to an interactive table.\"\n",
              "              style=\"display:none;\">\n",
              "        \n",
              "  <svg xmlns=\"http://www.w3.org/2000/svg\" height=\"24px\"viewBox=\"0 0 24 24\"\n",
              "       width=\"24px\">\n",
              "    <path d=\"M0 0h24v24H0V0z\" fill=\"none\"/>\n",
              "    <path d=\"M18.56 5.44l.94 2.06.94-2.06 2.06-.94-2.06-.94-.94-2.06-.94 2.06-2.06.94zm-11 1L8.5 8.5l.94-2.06 2.06-.94-2.06-.94L8.5 2.5l-.94 2.06-2.06.94zm10 10l.94 2.06.94-2.06 2.06-.94-2.06-.94-.94-2.06-.94 2.06-2.06.94z\"/><path d=\"M17.41 7.96l-1.37-1.37c-.4-.4-.92-.59-1.43-.59-.52 0-1.04.2-1.43.59L10.3 9.45l-7.72 7.72c-.78.78-.78 2.05 0 2.83L4 21.41c.39.39.9.59 1.41.59.51 0 1.02-.2 1.41-.59l7.78-7.78 2.81-2.81c.8-.78.8-2.07 0-2.86zM5.41 20L4 18.59l7.72-7.72 1.47 1.35L5.41 20z\"/>\n",
              "  </svg>\n",
              "      </button>\n",
              "      \n",
              "  <style>\n",
              "    .colab-df-container {\n",
              "      display:flex;\n",
              "      flex-wrap:wrap;\n",
              "      gap: 12px;\n",
              "    }\n",
              "\n",
              "    .colab-df-convert {\n",
              "      background-color: #E8F0FE;\n",
              "      border: none;\n",
              "      border-radius: 50%;\n",
              "      cursor: pointer;\n",
              "      display: none;\n",
              "      fill: #1967D2;\n",
              "      height: 32px;\n",
              "      padding: 0 0 0 0;\n",
              "      width: 32px;\n",
              "    }\n",
              "\n",
              "    .colab-df-convert:hover {\n",
              "      background-color: #E2EBFA;\n",
              "      box-shadow: 0px 1px 2px rgba(60, 64, 67, 0.3), 0px 1px 3px 1px rgba(60, 64, 67, 0.15);\n",
              "      fill: #174EA6;\n",
              "    }\n",
              "\n",
              "    [theme=dark] .colab-df-convert {\n",
              "      background-color: #3B4455;\n",
              "      fill: #D2E3FC;\n",
              "    }\n",
              "\n",
              "    [theme=dark] .colab-df-convert:hover {\n",
              "      background-color: #434B5C;\n",
              "      box-shadow: 0px 1px 3px 1px rgba(0, 0, 0, 0.15);\n",
              "      filter: drop-shadow(0px 1px 2px rgba(0, 0, 0, 0.3));\n",
              "      fill: #FFFFFF;\n",
              "    }\n",
              "  </style>\n",
              "\n",
              "      <script>\n",
              "        const buttonEl =\n",
              "          document.querySelector('#df-2695c4be-96aa-4b57-8eaf-e460044a1942 button.colab-df-convert');\n",
              "        buttonEl.style.display =\n",
              "          google.colab.kernel.accessAllowed ? 'block' : 'none';\n",
              "\n",
              "        async function convertToInteractive(key) {\n",
              "          const element = document.querySelector('#df-2695c4be-96aa-4b57-8eaf-e460044a1942');\n",
              "          const dataTable =\n",
              "            await google.colab.kernel.invokeFunction('convertToInteractive',\n",
              "                                                     [key], {});\n",
              "          if (!dataTable) return;\n",
              "\n",
              "          const docLinkHtml = 'Like what you see? Visit the ' +\n",
              "            '<a target=\"_blank\" href=https://colab.research.google.com/notebooks/data_table.ipynb>data table notebook</a>'\n",
              "            + ' to learn more about interactive tables.';\n",
              "          element.innerHTML = '';\n",
              "          dataTable['output_type'] = 'display_data';\n",
              "          await google.colab.output.renderOutput(dataTable, element);\n",
              "          const docLink = document.createElement('div');\n",
              "          docLink.innerHTML = docLinkHtml;\n",
              "          element.appendChild(docLink);\n",
              "        }\n",
              "      </script>\n",
              "    </div>\n",
              "  </div>\n",
              "  "
            ]
          },
          "metadata": {},
          "execution_count": 37
        }
      ]
    },
    {
      "cell_type": "code",
      "source": [
        "point1 = np.array(toydata.number_of_reviews)\n",
        "point2 = np.array(toydata.average_review_rating_of_5)\n",
        "print (\"array 1:\")\n",
        "print(point1)\n",
        "print (\"array 2:\")\n",
        "print(point2)"
      ],
      "metadata": {
        "colab": {
          "base_uri": "https://localhost:8080/"
        },
        "id": "rLol1ZNL3pDC",
        "outputId": "1cc677f6-1b4c-49cd-a787-f3e5916d7581"
      },
      "execution_count": 42,
      "outputs": [
        {
          "output_type": "stream",
          "name": "stdout",
          "text": [
            "array 1:\n",
            "[3 2 2 ... 1 4 1]\n",
            "array 2:\n",
            "[4.  4.5 4.5 ... 5.  5.  4. ]\n"
          ]
        }
      ]
    },
    {
      "cell_type": "code",
      "source": [
        "dist = np.linalg.norm(point1 - point2)"
      ],
      "metadata": {
        "id": "6pz9E9iV4YWt"
      },
      "execution_count": 43,
      "outputs": []
    },
    {
      "cell_type": "code",
      "source": [
        "print(\"Euclidean distance between our two arrays is:\",dist)"
      ],
      "metadata": {
        "colab": {
          "base_uri": "https://localhost:8080/"
        },
        "id": "bjUDo87u5Jr9",
        "outputId": "8403530f-81b2-41db-dc47-6ee66cd0aef9"
      },
      "execution_count": 44,
      "outputs": [
        {
          "output_type": "stream",
          "name": "stdout",
          "text": [
            "Euclidean distance between our two arrays is: 3173.5915033286815\n"
          ]
        }
      ]
    },
    {
      "cell_type": "code",
      "source": [
        ""
      ],
      "metadata": {
        "id": "1H-u4YCK5TJ6"
      },
      "execution_count": null,
      "outputs": []
    }
  ]
}