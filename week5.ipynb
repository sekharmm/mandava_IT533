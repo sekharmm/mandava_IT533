{
  "nbformat": 4,
  "nbformat_minor": 0,
  "metadata": {
    "colab": {
      "name": "week5.ipynb",
      "provenance": [],
      "authorship_tag": "ABX9TyMsaQs5mzB3kT8m0SYHV3ij",
      "include_colab_link": true
    },
    "kernelspec": {
      "name": "python3",
      "display_name": "Python 3"
    },
    "language_info": {
      "name": "python"
    }
  },
  "cells": [
    {
      "cell_type": "markdown",
      "metadata": {
        "id": "view-in-github",
        "colab_type": "text"
      },
      "source": [
        "<a href=\"https://colab.research.google.com/github/sekharmm/mandava_IT533/blob/main/week5.ipynb\" target=\"_parent\"><img src=\"https://colab.research.google.com/assets/colab-badge.svg\" alt=\"Open In Colab\"/></a>"
      ]
    },
    {
      "cell_type": "code",
      "execution_count": null,
      "metadata": {
        "id": "Zi_d0BPDLMnl",
        "colab": {
          "base_uri": "https://localhost:8080/"
        },
        "outputId": "c2ef7ed2-f81e-4d1b-a978-4ced56c121e6"
      },
      "outputs": [
        {
          "output_type": "stream",
          "name": "stderr",
          "text": [
            "/usr/local/lib/python3.7/dist-packages/statsmodels/tools/_testing.py:19: FutureWarning: pandas.util.testing is deprecated. Use the functions in the public API at pandas.testing instead.\n",
            "  import pandas.util.testing as tm\n"
          ]
        }
      ],
      "source": [
        "import numpy as np\n",
        "import pandas as pd \n",
        "import matplotlib.pyplot as plt \n",
        "from scipy import spatial\n",
        "import statsmodels.api as sm\n",
        "from statsmodels.formula.api import ols \n",
        "from sklearn import linear_model  \n",
        "from sklearn.linear_model import LogisticRegression \n",
        "amazon = pd.read_csv(\"https://raw.githubusercontent.com/sekharmm/mandava_IT533/main/amazon_toy_sample_clean.csv\", encoding=\"ISO-8859-1\") # use your own GitHub link here\n",
        "amazon.dropna(inplace=True)\n",
        "from sklearn.linear_model import LogisticRegression \n",
        "model = LogisticRegression( )"
      ]
    },
    {
      "cell_type": "code",
      "source": [
        "amazon.head()"
      ],
      "metadata": {
        "colab": {
          "base_uri": "https://localhost:8080/",
          "height": 513
        },
        "id": "JuT9Qe9aL_JE",
        "outputId": "6b102e93-5d8b-43f0-96b1-b693ff6dbd95"
      },
      "execution_count": null,
      "outputs": [
        {
          "output_type": "execute_result",
          "data": {
            "text/plain": [
              "                            uniq_id  \\\n",
              "0  dafc6b4ba4b4a3e7b4ff83402a196ae8   \n",
              "1  ba85fb9368114fce646379ed12750a5f   \n",
              "2  14e24c29ba38c2717754baa2638f242a   \n",
              "4  7b72f597db5d74d35c4f91ef69708cf1   \n",
              "5  7b8a04095b5e4984c57fd45eb327feb1   \n",
              "\n",
              "                                        product_name  \\\n",
              "0                                      Dinosaur Eggs   \n",
              "1   Neopets 4 Trading Card Fun Packs (2 Bonus Cards)   \n",
              "2          Latex Assorted Water Balloons, Pack of 40   \n",
              "4  4 Packs of Mini Colouring Pencils (4 pencils i...   \n",
              "5  100 Deep Red Rose Silk Petals Confetti - Weddi...   \n",
              "\n",
              "               manufacturer  price  number_available_in_stock status  \\\n",
              "0                   Halsall   0.29                          3    new   \n",
              "1                   Neopets   0.38                          2    new   \n",
              "2              Unique Party   0.39                          7    new   \n",
              "4  unisex party bag fillers   0.60                          7    new   \n",
              "5                   Shatchi   0.64                          6    new   \n",
              "\n",
              "   number_of_reviews  number_of_answered_questions  \\\n",
              "0                  3                             2   \n",
              "1                  2                             1   \n",
              "2                  2                             1   \n",
              "4                 21                             1   \n",
              "5                 10                             2   \n",
              "\n",
              "   average_review_rating_of_5  \\\n",
              "0                         4.0   \n",
              "1                         4.5   \n",
              "2                         4.5   \n",
              "4                         4.3   \n",
              "5                         4.1   \n",
              "\n",
              "                    amazon_category_and_sub_category  \\\n",
              "0                     Figures & Playsets > Dinosaurs   \n",
              "1  Hobbies > Trading Cards & Accessories > Packs ...   \n",
              "2            Party Supplies > Decorations > Balloons   \n",
              "4                  Arts & Crafts > Colouring Pencils   \n",
              "5  Party Supplies > Banners, Stickers & Confetti ...   \n",
              "\n",
              "          customers_who_bought_this_item_also_bought  \\\n",
              "0  http://www.amazon.co.uk/Hatch-em-TY63-Hatching...   \n",
              "1                                            Unknown   \n",
              "2  http://www.amazon.co.uk/Latex-Cannonball | htt...   \n",
              "4  http://www.amazon.co.uk/12-Mini-Christmas-Colo...   \n",
              "5  http://www.amazon.co.uk/Valentines | http://ww...   \n",
              "\n",
              "                                         description  \\\n",
              "0           Manufacturer's Description not available   \n",
              "1           Manufacturer's Description not available   \n",
              "2  Colour Name:Assorted Bold  |  Size Name:Pack o...   \n",
              "4  4 x Mini Colouring Pencils - Pack of 4 Size: 8...   \n",
              "5  Pack of 100 Deep Red Silk Rose Petals Luxury s...   \n",
              "\n",
              "                                 product_information  \\\n",
              "0  Technical Details Item Weight82 g Product Dime...   \n",
              "1  Technical Details Item Weight454 g Product Dim...   \n",
              "2  Technical Details Item Weight222 g Product Dim...   \n",
              "4  Technical Details Item Weight59 g Product Dime...   \n",
              "5  Technical Details Manufacturer recommended age...   \n",
              "\n",
              "                                 product_description  \\\n",
              "0                                      Not available   \n",
              "1                                      Not available   \n",
              "2  Colour Name:Assorted Bold  |  Size Name:Pack o...   \n",
              "4  4 x Mini Colouring Pencils - Pack of 4 Size: 8...   \n",
              "5  Pack of 100 Deep Red Silk Rose Petals Luxury s...   \n",
              "\n",
              "         items_customers_buy_after_viewing_this_item  \\\n",
              "0  http://www.amazon.co.uk/Hatch-em-TY63-Hatching...   \n",
              "1                                      Not available   \n",
              "2  http://www.amazon.co.uk/Water-Bombs-Pack-100-A...   \n",
              "4  http://www.amazon.co.uk/20-Packs-Wax-Crayons-P...   \n",
              "5  http://www.amazon.co.uk/300-Deep-Silk-Rose-Pet...   \n",
              "\n",
              "                      customer_questions_and_answers  \\\n",
              "0                                               None   \n",
              "1                                               None   \n",
              "2                                               None   \n",
              "4  How many packs in the box. // I got four Mimi ...   \n",
              "5                                               None   \n",
              "\n",
              "                                    customer_reviews  \n",
              "0  Fascinating fun // 4.0 // 25 Nov. 2008 // By\\n...  \n",
              "1  Never Too Old // 4.0 // 6 Nov. 2013 // By\\n   ...  \n",
              "2  Great item // 4.0 // 27 Dec. 2015 // By\\n    \\...  \n",
              "4  Well made and presented // 4.0 // 6 April 2015...  \n",
              "5  Five Stars // 5.0 // 2 Dec. 2015 // By\\n    \\n...  "
            ],
            "text/html": [
              "\n",
              "  <div id=\"df-e6e59bca-75c3-4708-8869-e650143779eb\">\n",
              "    <div class=\"colab-df-container\">\n",
              "      <div>\n",
              "<style scoped>\n",
              "    .dataframe tbody tr th:only-of-type {\n",
              "        vertical-align: middle;\n",
              "    }\n",
              "\n",
              "    .dataframe tbody tr th {\n",
              "        vertical-align: top;\n",
              "    }\n",
              "\n",
              "    .dataframe thead th {\n",
              "        text-align: right;\n",
              "    }\n",
              "</style>\n",
              "<table border=\"1\" class=\"dataframe\">\n",
              "  <thead>\n",
              "    <tr style=\"text-align: right;\">\n",
              "      <th></th>\n",
              "      <th>uniq_id</th>\n",
              "      <th>product_name</th>\n",
              "      <th>manufacturer</th>\n",
              "      <th>price</th>\n",
              "      <th>number_available_in_stock</th>\n",
              "      <th>status</th>\n",
              "      <th>number_of_reviews</th>\n",
              "      <th>number_of_answered_questions</th>\n",
              "      <th>average_review_rating_of_5</th>\n",
              "      <th>amazon_category_and_sub_category</th>\n",
              "      <th>customers_who_bought_this_item_also_bought</th>\n",
              "      <th>description</th>\n",
              "      <th>product_information</th>\n",
              "      <th>product_description</th>\n",
              "      <th>items_customers_buy_after_viewing_this_item</th>\n",
              "      <th>customer_questions_and_answers</th>\n",
              "      <th>customer_reviews</th>\n",
              "    </tr>\n",
              "  </thead>\n",
              "  <tbody>\n",
              "    <tr>\n",
              "      <th>0</th>\n",
              "      <td>dafc6b4ba4b4a3e7b4ff83402a196ae8</td>\n",
              "      <td>Dinosaur Eggs</td>\n",
              "      <td>Halsall</td>\n",
              "      <td>0.29</td>\n",
              "      <td>3</td>\n",
              "      <td>new</td>\n",
              "      <td>3</td>\n",
              "      <td>2</td>\n",
              "      <td>4.0</td>\n",
              "      <td>Figures &amp; Playsets &gt; Dinosaurs</td>\n",
              "      <td>http://www.amazon.co.uk/Hatch-em-TY63-Hatching...</td>\n",
              "      <td>Manufacturer's Description not available</td>\n",
              "      <td>Technical Details Item Weight82 g Product Dime...</td>\n",
              "      <td>Not available</td>\n",
              "      <td>http://www.amazon.co.uk/Hatch-em-TY63-Hatching...</td>\n",
              "      <td>None</td>\n",
              "      <td>Fascinating fun // 4.0 // 25 Nov. 2008 // By\\n...</td>\n",
              "    </tr>\n",
              "    <tr>\n",
              "      <th>1</th>\n",
              "      <td>ba85fb9368114fce646379ed12750a5f</td>\n",
              "      <td>Neopets 4 Trading Card Fun Packs (2 Bonus Cards)</td>\n",
              "      <td>Neopets</td>\n",
              "      <td>0.38</td>\n",
              "      <td>2</td>\n",
              "      <td>new</td>\n",
              "      <td>2</td>\n",
              "      <td>1</td>\n",
              "      <td>4.5</td>\n",
              "      <td>Hobbies &gt; Trading Cards &amp; Accessories &gt; Packs ...</td>\n",
              "      <td>Unknown</td>\n",
              "      <td>Manufacturer's Description not available</td>\n",
              "      <td>Technical Details Item Weight454 g Product Dim...</td>\n",
              "      <td>Not available</td>\n",
              "      <td>Not available</td>\n",
              "      <td>None</td>\n",
              "      <td>Never Too Old // 4.0 // 6 Nov. 2013 // By\\n   ...</td>\n",
              "    </tr>\n",
              "    <tr>\n",
              "      <th>2</th>\n",
              "      <td>14e24c29ba38c2717754baa2638f242a</td>\n",
              "      <td>Latex Assorted Water Balloons, Pack of 40</td>\n",
              "      <td>Unique Party</td>\n",
              "      <td>0.39</td>\n",
              "      <td>7</td>\n",
              "      <td>new</td>\n",
              "      <td>2</td>\n",
              "      <td>1</td>\n",
              "      <td>4.5</td>\n",
              "      <td>Party Supplies &gt; Decorations &gt; Balloons</td>\n",
              "      <td>http://www.amazon.co.uk/Latex-Cannonball | htt...</td>\n",
              "      <td>Colour Name:Assorted Bold  |  Size Name:Pack o...</td>\n",
              "      <td>Technical Details Item Weight222 g Product Dim...</td>\n",
              "      <td>Colour Name:Assorted Bold  |  Size Name:Pack o...</td>\n",
              "      <td>http://www.amazon.co.uk/Water-Bombs-Pack-100-A...</td>\n",
              "      <td>None</td>\n",
              "      <td>Great item // 4.0 // 27 Dec. 2015 // By\\n    \\...</td>\n",
              "    </tr>\n",
              "    <tr>\n",
              "      <th>4</th>\n",
              "      <td>7b72f597db5d74d35c4f91ef69708cf1</td>\n",
              "      <td>4 Packs of Mini Colouring Pencils (4 pencils i...</td>\n",
              "      <td>unisex party bag fillers</td>\n",
              "      <td>0.60</td>\n",
              "      <td>7</td>\n",
              "      <td>new</td>\n",
              "      <td>21</td>\n",
              "      <td>1</td>\n",
              "      <td>4.3</td>\n",
              "      <td>Arts &amp; Crafts &gt; Colouring Pencils</td>\n",
              "      <td>http://www.amazon.co.uk/12-Mini-Christmas-Colo...</td>\n",
              "      <td>4 x Mini Colouring Pencils - Pack of 4 Size: 8...</td>\n",
              "      <td>Technical Details Item Weight59 g Product Dime...</td>\n",
              "      <td>4 x Mini Colouring Pencils - Pack of 4 Size: 8...</td>\n",
              "      <td>http://www.amazon.co.uk/20-Packs-Wax-Crayons-P...</td>\n",
              "      <td>How many packs in the box. // I got four Mimi ...</td>\n",
              "      <td>Well made and presented // 4.0 // 6 April 2015...</td>\n",
              "    </tr>\n",
              "    <tr>\n",
              "      <th>5</th>\n",
              "      <td>7b8a04095b5e4984c57fd45eb327feb1</td>\n",
              "      <td>100 Deep Red Rose Silk Petals Confetti - Weddi...</td>\n",
              "      <td>Shatchi</td>\n",
              "      <td>0.64</td>\n",
              "      <td>6</td>\n",
              "      <td>new</td>\n",
              "      <td>10</td>\n",
              "      <td>2</td>\n",
              "      <td>4.1</td>\n",
              "      <td>Party Supplies &gt; Banners, Stickers &amp; Confetti ...</td>\n",
              "      <td>http://www.amazon.co.uk/Valentines | http://ww...</td>\n",
              "      <td>Pack of 100 Deep Red Silk Rose Petals Luxury s...</td>\n",
              "      <td>Technical Details Manufacturer recommended age...</td>\n",
              "      <td>Pack of 100 Deep Red Silk Rose Petals Luxury s...</td>\n",
              "      <td>http://www.amazon.co.uk/300-Deep-Silk-Rose-Pet...</td>\n",
              "      <td>None</td>\n",
              "      <td>Five Stars // 5.0 // 2 Dec. 2015 // By\\n    \\n...</td>\n",
              "    </tr>\n",
              "  </tbody>\n",
              "</table>\n",
              "</div>\n",
              "      <button class=\"colab-df-convert\" onclick=\"convertToInteractive('df-e6e59bca-75c3-4708-8869-e650143779eb')\"\n",
              "              title=\"Convert this dataframe to an interactive table.\"\n",
              "              style=\"display:none;\">\n",
              "        \n",
              "  <svg xmlns=\"http://www.w3.org/2000/svg\" height=\"24px\"viewBox=\"0 0 24 24\"\n",
              "       width=\"24px\">\n",
              "    <path d=\"M0 0h24v24H0V0z\" fill=\"none\"/>\n",
              "    <path d=\"M18.56 5.44l.94 2.06.94-2.06 2.06-.94-2.06-.94-.94-2.06-.94 2.06-2.06.94zm-11 1L8.5 8.5l.94-2.06 2.06-.94-2.06-.94L8.5 2.5l-.94 2.06-2.06.94zm10 10l.94 2.06.94-2.06 2.06-.94-2.06-.94-.94-2.06-.94 2.06-2.06.94z\"/><path d=\"M17.41 7.96l-1.37-1.37c-.4-.4-.92-.59-1.43-.59-.52 0-1.04.2-1.43.59L10.3 9.45l-7.72 7.72c-.78.78-.78 2.05 0 2.83L4 21.41c.39.39.9.59 1.41.59.51 0 1.02-.2 1.41-.59l7.78-7.78 2.81-2.81c.8-.78.8-2.07 0-2.86zM5.41 20L4 18.59l7.72-7.72 1.47 1.35L5.41 20z\"/>\n",
              "  </svg>\n",
              "      </button>\n",
              "      \n",
              "  <style>\n",
              "    .colab-df-container {\n",
              "      display:flex;\n",
              "      flex-wrap:wrap;\n",
              "      gap: 12px;\n",
              "    }\n",
              "\n",
              "    .colab-df-convert {\n",
              "      background-color: #E8F0FE;\n",
              "      border: none;\n",
              "      border-radius: 50%;\n",
              "      cursor: pointer;\n",
              "      display: none;\n",
              "      fill: #1967D2;\n",
              "      height: 32px;\n",
              "      padding: 0 0 0 0;\n",
              "      width: 32px;\n",
              "    }\n",
              "\n",
              "    .colab-df-convert:hover {\n",
              "      background-color: #E2EBFA;\n",
              "      box-shadow: 0px 1px 2px rgba(60, 64, 67, 0.3), 0px 1px 3px 1px rgba(60, 64, 67, 0.15);\n",
              "      fill: #174EA6;\n",
              "    }\n",
              "\n",
              "    [theme=dark] .colab-df-convert {\n",
              "      background-color: #3B4455;\n",
              "      fill: #D2E3FC;\n",
              "    }\n",
              "\n",
              "    [theme=dark] .colab-df-convert:hover {\n",
              "      background-color: #434B5C;\n",
              "      box-shadow: 0px 1px 3px 1px rgba(0, 0, 0, 0.15);\n",
              "      filter: drop-shadow(0px 1px 2px rgba(0, 0, 0, 0.3));\n",
              "      fill: #FFFFFF;\n",
              "    }\n",
              "  </style>\n",
              "\n",
              "      <script>\n",
              "        const buttonEl =\n",
              "          document.querySelector('#df-e6e59bca-75c3-4708-8869-e650143779eb button.colab-df-convert');\n",
              "        buttonEl.style.display =\n",
              "          google.colab.kernel.accessAllowed ? 'block' : 'none';\n",
              "\n",
              "        async function convertToInteractive(key) {\n",
              "          const element = document.querySelector('#df-e6e59bca-75c3-4708-8869-e650143779eb');\n",
              "          const dataTable =\n",
              "            await google.colab.kernel.invokeFunction('convertToInteractive',\n",
              "                                                     [key], {});\n",
              "          if (!dataTable) return;\n",
              "\n",
              "          const docLinkHtml = 'Like what you see? Visit the ' +\n",
              "            '<a target=\"_blank\" href=https://colab.research.google.com/notebooks/data_table.ipynb>data table notebook</a>'\n",
              "            + ' to learn more about interactive tables.';\n",
              "          element.innerHTML = '';\n",
              "          dataTable['output_type'] = 'display_data';\n",
              "          await google.colab.output.renderOutput(dataTable, element);\n",
              "          const docLink = document.createElement('div');\n",
              "          docLink.innerHTML = docLinkHtml;\n",
              "          element.appendChild(docLink);\n",
              "        }\n",
              "      </script>\n",
              "    </div>\n",
              "  </div>\n",
              "  "
            ]
          },
          "metadata": {},
          "execution_count": 2
        }
      ]
    },
    {
      "cell_type": "code",
      "source": [
        "from sklearn.linear_model import LogisticRegression \n",
        "model = LogisticRegression( )  #1 \n",
        "# Perform binning on average_review_rating_of_5.   \n",
        "bins = np.linspace(amazon.average_review_rating_of_5.min(), amazon.average_review_rating_of_5.max(), 3)  #2 \n",
        "bins\n",
        "# Define the two labels. \n",
        "labels = ['Low Rating', 'High Rating']  #3\n",
        "# Add bins to the dataset. \n",
        "amazon['bins'] = pd.cut(amazon['average_review_rating_of_5'], bins = bins, labels = labels, include_lowest = True) #4\n",
        "amazon\n",
        "# amazon = amazon[['bins', 'number_of_reviews']] #5\n",
        "# dfTrain = amazon[:5000]  \n",
        "# dfTest = amazon[5000:]   #6 \n",
        "# train_y = np.asarray(dfTrain['bins']) \n",
        "# train_x = np.asarray(dfTrain.drop(['bins'], 1)) \n",
        "# test_y = np.asarray(dfTest['bins']) \n",
        "# test_x = np.asarray(dfTest.drop(['bins'], 1))\n",
        "# train_x  #7 "
      ],
      "metadata": {
        "id": "oBQjmnNjTcgn",
        "colab": {
          "base_uri": "https://localhost:8080/",
          "height": 1000
        },
        "outputId": "a234d77a-5918-426e-939c-8326f349a168"
      },
      "execution_count": null,
      "outputs": [
        {
          "output_type": "execute_result",
          "data": {
            "text/plain": [
              "                               uniq_id  \\\n",
              "0     dafc6b4ba4b4a3e7b4ff83402a196ae8   \n",
              "1     ba85fb9368114fce646379ed12750a5f   \n",
              "2     14e24c29ba38c2717754baa2638f242a   \n",
              "4     7b72f597db5d74d35c4f91ef69708cf1   \n",
              "5     7b8a04095b5e4984c57fd45eb327feb1   \n",
              "...                                ...   \n",
              "6331  8020c8cd2b86bd2e793241dd321d8921   \n",
              "6332  ddd1807f90417adcdf4cd45841239e01   \n",
              "6333  1e897bf37e4e89aba7cc962f24913fd4   \n",
              "6334  4f705c302bdcf5d2b0c1df973d98f99f   \n",
              "6335  75d96583894e50412ba5c0161375fef5   \n",
              "\n",
              "                                           product_name  \\\n",
              "0                                         Dinosaur Eggs   \n",
              "1      Neopets 4 Trading Card Fun Packs (2 Bonus Cards)   \n",
              "2             Latex Assorted Water Balloons, Pack of 40   \n",
              "4     4 Packs of Mini Colouring Pencils (4 pencils i...   \n",
              "5     100 Deep Red Rose Silk Petals Confetti - Weddi...   \n",
              "...                                                 ...   \n",
              "6331                       Parrot Bebop Drone 2 (White)   \n",
              "6332  Star Images E.T. Stunt Puppet Replica Action F...   \n",
              "6333  Indiana Jones - 12 Inch Action Figures: Indian...   \n",
              "6334                    DJI Phantom 2 with H3-3D Gimbal   \n",
              "6335  Bowen Designs - Marvel Statue Thor Classic Act...   \n",
              "\n",
              "                  manufacturer    price  number_available_in_stock status  \\\n",
              "0                      Halsall     0.29                          3    new   \n",
              "1                      Neopets     0.38                          2    new   \n",
              "2                 Unique Party     0.39                          7    new   \n",
              "4     unisex party bag fillers     0.60                          7    new   \n",
              "5                      Shatchi     0.64                          6    new   \n",
              "...                        ...      ...                        ...    ...   \n",
              "6331                    Parrot   439.95                         11    new   \n",
              "6332               Star images   447.99                          3    new   \n",
              "6333                  Sideshow   719.95                          2    new   \n",
              "6334                       DJI   995.11                          2   used   \n",
              "6335             Bowen Designs  2439.92                          2    new   \n",
              "\n",
              "      number_of_reviews  number_of_answered_questions  \\\n",
              "0                     3                             2   \n",
              "1                     2                             1   \n",
              "2                     2                             1   \n",
              "4                    21                             1   \n",
              "5                    10                             2   \n",
              "...                 ...                           ...   \n",
              "6331                  9                             3   \n",
              "6332                  1                             3   \n",
              "6333                  1                             1   \n",
              "6334                  4                            19   \n",
              "6335                  1                             1   \n",
              "\n",
              "      average_review_rating_of_5  \\\n",
              "0                            4.0   \n",
              "1                            4.5   \n",
              "2                            4.5   \n",
              "4                            4.3   \n",
              "5                            4.1   \n",
              "...                          ...   \n",
              "6331                         3.3   \n",
              "6332                         5.0   \n",
              "6333                         5.0   \n",
              "6334                         5.0   \n",
              "6335                         4.0   \n",
              "\n",
              "                       amazon_category_and_sub_category  \\\n",
              "0                        Figures & Playsets > Dinosaurs   \n",
              "1     Hobbies > Trading Cards & Accessories > Packs ...   \n",
              "2               Party Supplies > Decorations > Balloons   \n",
              "4                     Arts & Crafts > Colouring Pencils   \n",
              "5     Party Supplies > Banners, Stickers & Confetti ...   \n",
              "...                                                 ...   \n",
              "6331  Hobbies > Remote Controlled Devices > Helicopt...   \n",
              "6332                   Figures & Playsets > Accessories   \n",
              "6333     Figures & Playsets > Science Fiction & Fantasy   \n",
              "6334  Hobbies > Remote Controlled Devices > Helicopt...   \n",
              "6335  Hobbies > Model Trains & Railway Sets > Access...   \n",
              "\n",
              "             customers_who_bought_this_item_also_bought  \\\n",
              "0     http://www.amazon.co.uk/Hatch-em-TY63-Hatching...   \n",
              "1                                               Unknown   \n",
              "2     http://www.amazon.co.uk/Latex-Cannonball | htt...   \n",
              "4     http://www.amazon.co.uk/12-Mini-Christmas-Colo...   \n",
              "5     http://www.amazon.co.uk/Valentines | http://ww...   \n",
              "...                                                 ...   \n",
              "6331  http://www.amazon.co.uk/BTG-Upgrade-Battery310...   \n",
              "6332  http://www.amazon.co.uk/12-Inch-Replica-Stunt-...   \n",
              "6333  http://www.amazon.co.uk/Indiana-Jones-Masterpi...   \n",
              "6334  http://www.amazon.co.uk/Propellers | http://ww...   \n",
              "6335  http://www.amazon.co.uk/Kotobukiya | http://ww...   \n",
              "\n",
              "                                            description  \\\n",
              "0              Manufacturer's Description not available   \n",
              "1              Manufacturer's Description not available   \n",
              "2     Colour Name:Assorted Bold  |  Size Name:Pack o...   \n",
              "4     4 x Mini Colouring Pencils - Pack of 4 Size: 8...   \n",
              "5     Pack of 100 Deep Red Silk Rose Petals Luxury s...   \n",
              "...                                                 ...   \n",
              "6331  Colour Name:White and Black Product Descriptio...   \n",
              "6332  Product Description E.T. Stunt Puppet Replica ...   \n",
              "6333  Figurine articulÃ©e taille env. 30 cm avec vÃª...   \n",
              "6334  Product Description Including the H3-3D Gimbal...   \n",
              "6335  Sideshow Collectibles is proud to present the ...   \n",
              "\n",
              "                                    product_information  \\\n",
              "0     Technical Details Item Weight82 g Product Dime...   \n",
              "1     Technical Details Item Weight454 g Product Dim...   \n",
              "2     Technical Details Item Weight222 g Product Dim...   \n",
              "4     Technical Details Item Weight59 g Product Dime...   \n",
              "5     Technical Details Manufacturer recommended age...   \n",
              "...                                                 ...   \n",
              "6331  Technical Details Item Weight503 g Product Dim...   \n",
              "6332  Technical Details Item Weight998 g Product Dim...   \n",
              "6333  Technical Details Item Weight1.1 Kg Product Di...   \n",
              "6334  Technical Details Item Weight2.5 Kg Product Di...   \n",
              "6335  Technical Details Item Weight6 Kg Product Dime...   \n",
              "\n",
              "                                    product_description  \\\n",
              "0                                         Not available   \n",
              "1                                         Not available   \n",
              "2     Colour Name:Assorted Bold  |  Size Name:Pack o...   \n",
              "4     4 x Mini Colouring Pencils - Pack of 4 Size: 8...   \n",
              "5     Pack of 100 Deep Red Silk Rose Petals Luxury s...   \n",
              "...                                                 ...   \n",
              "6331  Colour Name:White and Black Product Descriptio...   \n",
              "6332  Product Description E.T. Stunt Puppet Replica ...   \n",
              "6333  Figurine articulÃ©e taille env. 30 cm avec vÃª...   \n",
              "6334  Product Description Including the H3-3D Gimbal...   \n",
              "6335  Sideshow Collectibles is proud to present the ...   \n",
              "\n",
              "            items_customers_buy_after_viewing_this_item  \\\n",
              "0     http://www.amazon.co.uk/Hatch-em-TY63-Hatching...   \n",
              "1                                         Not available   \n",
              "2     http://www.amazon.co.uk/Water-Bombs-Pack-100-A...   \n",
              "4     http://www.amazon.co.uk/20-Packs-Wax-Crayons-P...   \n",
              "5     http://www.amazon.co.uk/300-Deep-Silk-Rose-Pet...   \n",
              "...                                                 ...   \n",
              "6331                                      Not available   \n",
              "6332  http://www.amazon.co.uk/12-Inch-Replica-Stunt-...   \n",
              "6333                                      Not available   \n",
              "6334                                      Not available   \n",
              "6335                                      Not available   \n",
              "\n",
              "                         customer_questions_and_answers  \\\n",
              "0                                                  None   \n",
              "1                                                  None   \n",
              "2                                                  None   \n",
              "4     How many packs in the box. // I got four Mimi ...   \n",
              "5                                                  None   \n",
              "...                                                 ...   \n",
              "6331  Can you use the skycontroller from the origina...   \n",
              "6332  Is this made by Neca and is it the 3 foot life...   \n",
              "6333                                               None   \n",
              "6334  Does this come with the gimbal already install...   \n",
              "6335                                               None   \n",
              "\n",
              "                                       customer_reviews         bins  \n",
              "0     Fascinating fun // 4.0 // 25 Nov. 2008 // By\\n...  High Rating  \n",
              "1     Never Too Old // 4.0 // 6 Nov. 2013 // By\\n   ...  High Rating  \n",
              "2     Great item // 4.0 // 27 Dec. 2015 // By\\n    \\...  High Rating  \n",
              "4     Well made and presented // 4.0 // 6 April 2015...  High Rating  \n",
              "5     Five Stars // 5.0 // 2 Dec. 2015 // By\\n    \\n...  High Rating  \n",
              "...                                                 ...          ...  \n",
              "6331  Much improved but slightly weird incremental u...  High Rating  \n",
              "6332  Five Stars // 5.0 // 25 Oct. 2014 // By\\n    \\...  High Rating  \n",
              "6333  \"It's not the years, sweet heart, it's the mil...  High Rating  \n",
              "6334  Dji // 5.0 // 24 Aug. 2014 // By\\n    \\n    ol...  High Rating  \n",
              "6335  Thortastic... // 4.0 // 12 Sept. 2012 // By\\n ...  High Rating  \n",
              "\n",
              "[6312 rows x 18 columns]"
            ],
            "text/html": [
              "\n",
              "  <div id=\"df-b1748713-fc5e-44aa-8ca6-f2de0dec125d\">\n",
              "    <div class=\"colab-df-container\">\n",
              "      <div>\n",
              "<style scoped>\n",
              "    .dataframe tbody tr th:only-of-type {\n",
              "        vertical-align: middle;\n",
              "    }\n",
              "\n",
              "    .dataframe tbody tr th {\n",
              "        vertical-align: top;\n",
              "    }\n",
              "\n",
              "    .dataframe thead th {\n",
              "        text-align: right;\n",
              "    }\n",
              "</style>\n",
              "<table border=\"1\" class=\"dataframe\">\n",
              "  <thead>\n",
              "    <tr style=\"text-align: right;\">\n",
              "      <th></th>\n",
              "      <th>uniq_id</th>\n",
              "      <th>product_name</th>\n",
              "      <th>manufacturer</th>\n",
              "      <th>price</th>\n",
              "      <th>number_available_in_stock</th>\n",
              "      <th>status</th>\n",
              "      <th>number_of_reviews</th>\n",
              "      <th>number_of_answered_questions</th>\n",
              "      <th>average_review_rating_of_5</th>\n",
              "      <th>amazon_category_and_sub_category</th>\n",
              "      <th>customers_who_bought_this_item_also_bought</th>\n",
              "      <th>description</th>\n",
              "      <th>product_information</th>\n",
              "      <th>product_description</th>\n",
              "      <th>items_customers_buy_after_viewing_this_item</th>\n",
              "      <th>customer_questions_and_answers</th>\n",
              "      <th>customer_reviews</th>\n",
              "      <th>bins</th>\n",
              "    </tr>\n",
              "  </thead>\n",
              "  <tbody>\n",
              "    <tr>\n",
              "      <th>0</th>\n",
              "      <td>dafc6b4ba4b4a3e7b4ff83402a196ae8</td>\n",
              "      <td>Dinosaur Eggs</td>\n",
              "      <td>Halsall</td>\n",
              "      <td>0.29</td>\n",
              "      <td>3</td>\n",
              "      <td>new</td>\n",
              "      <td>3</td>\n",
              "      <td>2</td>\n",
              "      <td>4.0</td>\n",
              "      <td>Figures &amp; Playsets &gt; Dinosaurs</td>\n",
              "      <td>http://www.amazon.co.uk/Hatch-em-TY63-Hatching...</td>\n",
              "      <td>Manufacturer's Description not available</td>\n",
              "      <td>Technical Details Item Weight82 g Product Dime...</td>\n",
              "      <td>Not available</td>\n",
              "      <td>http://www.amazon.co.uk/Hatch-em-TY63-Hatching...</td>\n",
              "      <td>None</td>\n",
              "      <td>Fascinating fun // 4.0 // 25 Nov. 2008 // By\\n...</td>\n",
              "      <td>High Rating</td>\n",
              "    </tr>\n",
              "    <tr>\n",
              "      <th>1</th>\n",
              "      <td>ba85fb9368114fce646379ed12750a5f</td>\n",
              "      <td>Neopets 4 Trading Card Fun Packs (2 Bonus Cards)</td>\n",
              "      <td>Neopets</td>\n",
              "      <td>0.38</td>\n",
              "      <td>2</td>\n",
              "      <td>new</td>\n",
              "      <td>2</td>\n",
              "      <td>1</td>\n",
              "      <td>4.5</td>\n",
              "      <td>Hobbies &gt; Trading Cards &amp; Accessories &gt; Packs ...</td>\n",
              "      <td>Unknown</td>\n",
              "      <td>Manufacturer's Description not available</td>\n",
              "      <td>Technical Details Item Weight454 g Product Dim...</td>\n",
              "      <td>Not available</td>\n",
              "      <td>Not available</td>\n",
              "      <td>None</td>\n",
              "      <td>Never Too Old // 4.0 // 6 Nov. 2013 // By\\n   ...</td>\n",
              "      <td>High Rating</td>\n",
              "    </tr>\n",
              "    <tr>\n",
              "      <th>2</th>\n",
              "      <td>14e24c29ba38c2717754baa2638f242a</td>\n",
              "      <td>Latex Assorted Water Balloons, Pack of 40</td>\n",
              "      <td>Unique Party</td>\n",
              "      <td>0.39</td>\n",
              "      <td>7</td>\n",
              "      <td>new</td>\n",
              "      <td>2</td>\n",
              "      <td>1</td>\n",
              "      <td>4.5</td>\n",
              "      <td>Party Supplies &gt; Decorations &gt; Balloons</td>\n",
              "      <td>http://www.amazon.co.uk/Latex-Cannonball | htt...</td>\n",
              "      <td>Colour Name:Assorted Bold  |  Size Name:Pack o...</td>\n",
              "      <td>Technical Details Item Weight222 g Product Dim...</td>\n",
              "      <td>Colour Name:Assorted Bold  |  Size Name:Pack o...</td>\n",
              "      <td>http://www.amazon.co.uk/Water-Bombs-Pack-100-A...</td>\n",
              "      <td>None</td>\n",
              "      <td>Great item // 4.0 // 27 Dec. 2015 // By\\n    \\...</td>\n",
              "      <td>High Rating</td>\n",
              "    </tr>\n",
              "    <tr>\n",
              "      <th>4</th>\n",
              "      <td>7b72f597db5d74d35c4f91ef69708cf1</td>\n",
              "      <td>4 Packs of Mini Colouring Pencils (4 pencils i...</td>\n",
              "      <td>unisex party bag fillers</td>\n",
              "      <td>0.60</td>\n",
              "      <td>7</td>\n",
              "      <td>new</td>\n",
              "      <td>21</td>\n",
              "      <td>1</td>\n",
              "      <td>4.3</td>\n",
              "      <td>Arts &amp; Crafts &gt; Colouring Pencils</td>\n",
              "      <td>http://www.amazon.co.uk/12-Mini-Christmas-Colo...</td>\n",
              "      <td>4 x Mini Colouring Pencils - Pack of 4 Size: 8...</td>\n",
              "      <td>Technical Details Item Weight59 g Product Dime...</td>\n",
              "      <td>4 x Mini Colouring Pencils - Pack of 4 Size: 8...</td>\n",
              "      <td>http://www.amazon.co.uk/20-Packs-Wax-Crayons-P...</td>\n",
              "      <td>How many packs in the box. // I got four Mimi ...</td>\n",
              "      <td>Well made and presented // 4.0 // 6 April 2015...</td>\n",
              "      <td>High Rating</td>\n",
              "    </tr>\n",
              "    <tr>\n",
              "      <th>5</th>\n",
              "      <td>7b8a04095b5e4984c57fd45eb327feb1</td>\n",
              "      <td>100 Deep Red Rose Silk Petals Confetti - Weddi...</td>\n",
              "      <td>Shatchi</td>\n",
              "      <td>0.64</td>\n",
              "      <td>6</td>\n",
              "      <td>new</td>\n",
              "      <td>10</td>\n",
              "      <td>2</td>\n",
              "      <td>4.1</td>\n",
              "      <td>Party Supplies &gt; Banners, Stickers &amp; Confetti ...</td>\n",
              "      <td>http://www.amazon.co.uk/Valentines | http://ww...</td>\n",
              "      <td>Pack of 100 Deep Red Silk Rose Petals Luxury s...</td>\n",
              "      <td>Technical Details Manufacturer recommended age...</td>\n",
              "      <td>Pack of 100 Deep Red Silk Rose Petals Luxury s...</td>\n",
              "      <td>http://www.amazon.co.uk/300-Deep-Silk-Rose-Pet...</td>\n",
              "      <td>None</td>\n",
              "      <td>Five Stars // 5.0 // 2 Dec. 2015 // By\\n    \\n...</td>\n",
              "      <td>High Rating</td>\n",
              "    </tr>\n",
              "    <tr>\n",
              "      <th>...</th>\n",
              "      <td>...</td>\n",
              "      <td>...</td>\n",
              "      <td>...</td>\n",
              "      <td>...</td>\n",
              "      <td>...</td>\n",
              "      <td>...</td>\n",
              "      <td>...</td>\n",
              "      <td>...</td>\n",
              "      <td>...</td>\n",
              "      <td>...</td>\n",
              "      <td>...</td>\n",
              "      <td>...</td>\n",
              "      <td>...</td>\n",
              "      <td>...</td>\n",
              "      <td>...</td>\n",
              "      <td>...</td>\n",
              "      <td>...</td>\n",
              "      <td>...</td>\n",
              "    </tr>\n",
              "    <tr>\n",
              "      <th>6331</th>\n",
              "      <td>8020c8cd2b86bd2e793241dd321d8921</td>\n",
              "      <td>Parrot Bebop Drone 2 (White)</td>\n",
              "      <td>Parrot</td>\n",
              "      <td>439.95</td>\n",
              "      <td>11</td>\n",
              "      <td>new</td>\n",
              "      <td>9</td>\n",
              "      <td>3</td>\n",
              "      <td>3.3</td>\n",
              "      <td>Hobbies &gt; Remote Controlled Devices &gt; Helicopt...</td>\n",
              "      <td>http://www.amazon.co.uk/BTG-Upgrade-Battery310...</td>\n",
              "      <td>Colour Name:White and Black Product Descriptio...</td>\n",
              "      <td>Technical Details Item Weight503 g Product Dim...</td>\n",
              "      <td>Colour Name:White and Black Product Descriptio...</td>\n",
              "      <td>Not available</td>\n",
              "      <td>Can you use the skycontroller from the origina...</td>\n",
              "      <td>Much improved but slightly weird incremental u...</td>\n",
              "      <td>High Rating</td>\n",
              "    </tr>\n",
              "    <tr>\n",
              "      <th>6332</th>\n",
              "      <td>ddd1807f90417adcdf4cd45841239e01</td>\n",
              "      <td>Star Images E.T. Stunt Puppet Replica Action F...</td>\n",
              "      <td>Star images</td>\n",
              "      <td>447.99</td>\n",
              "      <td>3</td>\n",
              "      <td>new</td>\n",
              "      <td>1</td>\n",
              "      <td>3</td>\n",
              "      <td>5.0</td>\n",
              "      <td>Figures &amp; Playsets &gt; Accessories</td>\n",
              "      <td>http://www.amazon.co.uk/12-Inch-Replica-Stunt-...</td>\n",
              "      <td>Product Description E.T. Stunt Puppet Replica ...</td>\n",
              "      <td>Technical Details Item Weight998 g Product Dim...</td>\n",
              "      <td>Product Description E.T. Stunt Puppet Replica ...</td>\n",
              "      <td>http://www.amazon.co.uk/12-Inch-Replica-Stunt-...</td>\n",
              "      <td>Is this made by Neca and is it the 3 foot life...</td>\n",
              "      <td>Five Stars // 5.0 // 25 Oct. 2014 // By\\n    \\...</td>\n",
              "      <td>High Rating</td>\n",
              "    </tr>\n",
              "    <tr>\n",
              "      <th>6333</th>\n",
              "      <td>1e897bf37e4e89aba7cc962f24913fd4</td>\n",
              "      <td>Indiana Jones - 12 Inch Action Figures: Indian...</td>\n",
              "      <td>Sideshow</td>\n",
              "      <td>719.95</td>\n",
              "      <td>2</td>\n",
              "      <td>new</td>\n",
              "      <td>1</td>\n",
              "      <td>1</td>\n",
              "      <td>5.0</td>\n",
              "      <td>Figures &amp; Playsets &gt; Science Fiction &amp; Fantasy</td>\n",
              "      <td>http://www.amazon.co.uk/Indiana-Jones-Masterpi...</td>\n",
              "      <td>Figurine articulÃ©e taille env. 30 cm avec vÃª...</td>\n",
              "      <td>Technical Details Item Weight1.1 Kg Product Di...</td>\n",
              "      <td>Figurine articulÃ©e taille env. 30 cm avec vÃª...</td>\n",
              "      <td>Not available</td>\n",
              "      <td>None</td>\n",
              "      <td>\"It's not the years, sweet heart, it's the mil...</td>\n",
              "      <td>High Rating</td>\n",
              "    </tr>\n",
              "    <tr>\n",
              "      <th>6334</th>\n",
              "      <td>4f705c302bdcf5d2b0c1df973d98f99f</td>\n",
              "      <td>DJI Phantom 2 with H3-3D Gimbal</td>\n",
              "      <td>DJI</td>\n",
              "      <td>995.11</td>\n",
              "      <td>2</td>\n",
              "      <td>used</td>\n",
              "      <td>4</td>\n",
              "      <td>19</td>\n",
              "      <td>5.0</td>\n",
              "      <td>Hobbies &gt; Remote Controlled Devices &gt; Helicopt...</td>\n",
              "      <td>http://www.amazon.co.uk/Propellers | http://ww...</td>\n",
              "      <td>Product Description Including the H3-3D Gimbal...</td>\n",
              "      <td>Technical Details Item Weight2.5 Kg Product Di...</td>\n",
              "      <td>Product Description Including the H3-3D Gimbal...</td>\n",
              "      <td>Not available</td>\n",
              "      <td>Does this come with the gimbal already install...</td>\n",
              "      <td>Dji // 5.0 // 24 Aug. 2014 // By\\n    \\n    ol...</td>\n",
              "      <td>High Rating</td>\n",
              "    </tr>\n",
              "    <tr>\n",
              "      <th>6335</th>\n",
              "      <td>75d96583894e50412ba5c0161375fef5</td>\n",
              "      <td>Bowen Designs - Marvel Statue Thor Classic Act...</td>\n",
              "      <td>Bowen Designs</td>\n",
              "      <td>2439.92</td>\n",
              "      <td>2</td>\n",
              "      <td>new</td>\n",
              "      <td>1</td>\n",
              "      <td>1</td>\n",
              "      <td>4.0</td>\n",
              "      <td>Hobbies &gt; Model Trains &amp; Railway Sets &gt; Access...</td>\n",
              "      <td>http://www.amazon.co.uk/Kotobukiya | http://ww...</td>\n",
              "      <td>Sideshow Collectibles is proud to present the ...</td>\n",
              "      <td>Technical Details Item Weight6 Kg Product Dime...</td>\n",
              "      <td>Sideshow Collectibles is proud to present the ...</td>\n",
              "      <td>Not available</td>\n",
              "      <td>None</td>\n",
              "      <td>Thortastic... // 4.0 // 12 Sept. 2012 // By\\n ...</td>\n",
              "      <td>High Rating</td>\n",
              "    </tr>\n",
              "  </tbody>\n",
              "</table>\n",
              "<p>6312 rows × 18 columns</p>\n",
              "</div>\n",
              "      <button class=\"colab-df-convert\" onclick=\"convertToInteractive('df-b1748713-fc5e-44aa-8ca6-f2de0dec125d')\"\n",
              "              title=\"Convert this dataframe to an interactive table.\"\n",
              "              style=\"display:none;\">\n",
              "        \n",
              "  <svg xmlns=\"http://www.w3.org/2000/svg\" height=\"24px\"viewBox=\"0 0 24 24\"\n",
              "       width=\"24px\">\n",
              "    <path d=\"M0 0h24v24H0V0z\" fill=\"none\"/>\n",
              "    <path d=\"M18.56 5.44l.94 2.06.94-2.06 2.06-.94-2.06-.94-.94-2.06-.94 2.06-2.06.94zm-11 1L8.5 8.5l.94-2.06 2.06-.94-2.06-.94L8.5 2.5l-.94 2.06-2.06.94zm10 10l.94 2.06.94-2.06 2.06-.94-2.06-.94-.94-2.06-.94 2.06-2.06.94z\"/><path d=\"M17.41 7.96l-1.37-1.37c-.4-.4-.92-.59-1.43-.59-.52 0-1.04.2-1.43.59L10.3 9.45l-7.72 7.72c-.78.78-.78 2.05 0 2.83L4 21.41c.39.39.9.59 1.41.59.51 0 1.02-.2 1.41-.59l7.78-7.78 2.81-2.81c.8-.78.8-2.07 0-2.86zM5.41 20L4 18.59l7.72-7.72 1.47 1.35L5.41 20z\"/>\n",
              "  </svg>\n",
              "      </button>\n",
              "      \n",
              "  <style>\n",
              "    .colab-df-container {\n",
              "      display:flex;\n",
              "      flex-wrap:wrap;\n",
              "      gap: 12px;\n",
              "    }\n",
              "\n",
              "    .colab-df-convert {\n",
              "      background-color: #E8F0FE;\n",
              "      border: none;\n",
              "      border-radius: 50%;\n",
              "      cursor: pointer;\n",
              "      display: none;\n",
              "      fill: #1967D2;\n",
              "      height: 32px;\n",
              "      padding: 0 0 0 0;\n",
              "      width: 32px;\n",
              "    }\n",
              "\n",
              "    .colab-df-convert:hover {\n",
              "      background-color: #E2EBFA;\n",
              "      box-shadow: 0px 1px 2px rgba(60, 64, 67, 0.3), 0px 1px 3px 1px rgba(60, 64, 67, 0.15);\n",
              "      fill: #174EA6;\n",
              "    }\n",
              "\n",
              "    [theme=dark] .colab-df-convert {\n",
              "      background-color: #3B4455;\n",
              "      fill: #D2E3FC;\n",
              "    }\n",
              "\n",
              "    [theme=dark] .colab-df-convert:hover {\n",
              "      background-color: #434B5C;\n",
              "      box-shadow: 0px 1px 3px 1px rgba(0, 0, 0, 0.15);\n",
              "      filter: drop-shadow(0px 1px 2px rgba(0, 0, 0, 0.3));\n",
              "      fill: #FFFFFF;\n",
              "    }\n",
              "  </style>\n",
              "\n",
              "      <script>\n",
              "        const buttonEl =\n",
              "          document.querySelector('#df-b1748713-fc5e-44aa-8ca6-f2de0dec125d button.colab-df-convert');\n",
              "        buttonEl.style.display =\n",
              "          google.colab.kernel.accessAllowed ? 'block' : 'none';\n",
              "\n",
              "        async function convertToInteractive(key) {\n",
              "          const element = document.querySelector('#df-b1748713-fc5e-44aa-8ca6-f2de0dec125d');\n",
              "          const dataTable =\n",
              "            await google.colab.kernel.invokeFunction('convertToInteractive',\n",
              "                                                     [key], {});\n",
              "          if (!dataTable) return;\n",
              "\n",
              "          const docLinkHtml = 'Like what you see? Visit the ' +\n",
              "            '<a target=\"_blank\" href=https://colab.research.google.com/notebooks/data_table.ipynb>data table notebook</a>'\n",
              "            + ' to learn more about interactive tables.';\n",
              "          element.innerHTML = '';\n",
              "          dataTable['output_type'] = 'display_data';\n",
              "          await google.colab.output.renderOutput(dataTable, element);\n",
              "          const docLink = document.createElement('div');\n",
              "          docLink.innerHTML = docLinkHtml;\n",
              "          element.appendChild(docLink);\n",
              "        }\n",
              "      </script>\n",
              "    </div>\n",
              "  </div>\n",
              "  "
            ]
          },
          "metadata": {},
          "execution_count": 7
        }
      ]
    },
    {
      "cell_type": "code",
      "source": [
        "means = np.mean(train_x, axis=0)\n",
        "std = np.std(train_x, axis=0) \n",
        "train_x = (train_x - means)/std\n",
        "test_x = (test_x - means)/std  #8"
      ],
      "metadata": {
        "id": "cAj35t9oc7pL"
      },
      "execution_count": null,
      "outputs": []
    },
    {
      "cell_type": "code",
      "source": [
        "from sklearn.linear_model import LogisticRegression \n",
        "model = LogisticRegression( )\n",
        "model.fit(train_x, train_y) #9"
      ],
      "metadata": {
        "colab": {
          "base_uri": "https://localhost:8080/"
        },
        "id": "KN75XAG_dTdp",
        "outputId": "23ee3cfa-4ea4-4d9a-e7bc-14c77751d5c0"
      },
      "execution_count": null,
      "outputs": [
        {
          "output_type": "execute_result",
          "data": {
            "text/plain": [
              "LogisticRegression()"
            ]
          },
          "metadata": {},
          "execution_count": 89
        }
      ]
    },
    {
      "cell_type": "code",
      "source": [
        "# Determine the accuracy of the model. \n",
        "accuracy = model.score(test_x, test_y)\n",
        "print(\"accuracy = \", accuracy * 100, \"%\") #10"
      ],
      "metadata": {
        "colab": {
          "base_uri": "https://localhost:8080/"
        },
        "id": "cHKjIrGBdeyM",
        "outputId": "0e7a0837-bfb5-4bac-becc-74c8c2aaa262"
      },
      "execution_count": null,
      "outputs": [
        {
          "output_type": "stream",
          "name": "stdout",
          "text": [
            "accuracy =  99.6951219512195 %\n"
          ]
        }
      ]
    },
    {
      "cell_type": "code",
      "source": [
        "amazon.dtypes"
      ],
      "metadata": {
        "colab": {
          "base_uri": "https://localhost:8080/"
        },
        "id": "2EPnLm1DMY9b",
        "outputId": "ceec2e9e-5c5e-47ae-9ab1-df9ac605da62"
      },
      "execution_count": null,
      "outputs": [
        {
          "output_type": "execute_result",
          "data": {
            "text/plain": [
              "uniq_id                                         object\n",
              "product_name                                    object\n",
              "manufacturer                                    object\n",
              "price                                          float64\n",
              "number_available_in_stock                        int64\n",
              "status                                          object\n",
              "number_of_reviews                                int64\n",
              "number_of_answered_questions                     int64\n",
              "average_review_rating_of_5                     float64\n",
              "amazon_category_and_sub_category                object\n",
              "customers_who_bought_this_item_also_bought      object\n",
              "description                                     object\n",
              "product_information                             object\n",
              "product_description                             object\n",
              "items_customers_buy_after_viewing_this_item     object\n",
              "customer_questions_and_answers                  object\n",
              "customer_reviews                                object\n",
              "dtype: object"
            ]
          },
          "metadata": {},
          "execution_count": 57
        }
      ]
    },
    {
      "cell_type": "code",
      "source": [
        "plt.scatter(amazon['number_of_reviews'], amazon['average_review_rating_of_5'], alpha=0.5)\n",
        "plt.title('Scatter plot average_review_rating_of_5 vs. number_of_reviews')\n",
        "plt.ylabel('average_review_rating_of_5')\n",
        "plt.xlabel('number_of_reviews')\n",
        "plt.show()"
      ],
      "metadata": {
        "colab": {
          "base_uri": "https://localhost:8080/",
          "height": 296
        },
        "id": "oph2D4iFMAwa",
        "outputId": "4a6947e9-39e6-4e35-fec1-bf7db41260b8"
      },
      "execution_count": null,
      "outputs": [
        {
          "output_type": "display_data",
          "data": {
            "text/plain": [
              "<Figure size 432x288 with 1 Axes>"
            ],
            "image/png": "[encoded data removed]"
          },
          "metadata": {
            "needs_background": "light"
          }
        }
      ]
    },
    {
      "cell_type": "code",
      "source": [
        "plt.scatter(amazon['price'], amazon['number_of_reviews'], alpha=0.5)\n",
        "plt.title('Scatter plot price vs. number_of_reviews')\n",
        "plt.xlabel('price')\n",
        "plt.ylabel('number_of_reviews')\n",
        "plt.show()"
      ],
      "metadata": {
        "colab": {
          "base_uri": "https://localhost:8080/",
          "height": 295
        },
        "id": "45a-iHt12ZET",
        "outputId": "1ef2c03b-3a1e-4b97-cdfe-434612ca17cc"
      },
      "execution_count": null,
      "outputs": [
        {
          "output_type": "display_data",
          "data": {
            "text/plain": [
              "<Figure size 432x288 with 1 Axes>"
            ],
            "image/png": "[encoded data removed]"
          },
          "metadata": {
            "needs_background": "light"
          }
        }
      ]
    },
    {
      "cell_type": "code",
      "source": [
        "plt.scatter(amazon['number_of_reviews'], amazon['average_review_rating_of_5'], alpha=0.5)\n",
        "plt.title('Scatter plot number_of_reviews vs. average_review_rating_of_5')\n",
        "plt.xlabel('number_of_reviews')\n",
        "plt.ylabel('average_review_rating_of_5')\n",
        "plt.show()"
      ],
      "metadata": {
        "colab": {
          "base_uri": "https://localhost:8080/",
          "height": 296
        },
        "id": "bZ49pQG4VBb8",
        "outputId": "0f934efe-d65e-46af-f460-1284d0de84b3"
      },
      "execution_count": null,
      "outputs": [
        {
          "output_type": "display_data",
          "data": {
            "text/plain": [
              "<Figure size 432x288 with 1 Axes>"
            ],
            "image/png": "[encoded data removed]"
          },
          "metadata": {
            "needs_background": "light"
          }
        }
      ]
    },
    {
      "cell_type": "code",
      "source": [
        "plt.scatter(amazon['number_available_in_stock'], amazon['number_of_reviews'], alpha=0.5)\n",
        "plt.title('Scatter plot number_available_in_stock vs. number_of_reviews')\n",
        "plt.xlabel('number_available_in_stock')\n",
        "plt.ylabel('number_of_reviews')\n",
        "plt.show()"
      ],
      "metadata": {
        "colab": {
          "base_uri": "https://localhost:8080/",
          "height": 296
        },
        "id": "F72TVTbIVIGI",
        "outputId": "76ecfa59-4e29-46a0-e079-eb526e4efd78"
      },
      "execution_count": null,
      "outputs": [
        {
          "output_type": "display_data",
          "data": {
            "text/plain": [
              "<Figure size 432x288 with 1 Axes>"
            ],
            "image/png": "[encoded data removed]"
          },
          "metadata": {
            "needs_background": "light"
          }
        }
      ]
    },
    {
      "cell_type": "code",
      "source": [
        "amazon.corr()"
      ],
      "metadata": {
        "colab": {
          "base_uri": "https://localhost:8080/",
          "height": 206
        },
        "id": "DvnJUEjXQD4e",
        "outputId": "42cdf061-ffa3-477f-c758-4fb0757b7f8f"
      },
      "execution_count": null,
      "outputs": [
        {
          "output_type": "execute_result",
          "data": {
            "text/plain": [
              "                                 price  number_available_in_stock  \\\n",
              "price                         1.000000                  -0.018236   \n",
              "number_available_in_stock    -0.018236                   1.000000   \n",
              "number_of_reviews            -0.024008                   0.215193   \n",
              "number_of_answered_questions -0.005889                  -0.008333   \n",
              "average_review_rating_of_5    0.013213                  -0.009538   \n",
              "\n",
              "                              number_of_reviews  number_of_answered_questions  \\\n",
              "price                                 -0.024008                     -0.005889   \n",
              "number_available_in_stock              0.215193                     -0.008333   \n",
              "number_of_reviews                      1.000000                      0.020904   \n",
              "number_of_answered_questions           0.020904                      1.000000   \n",
              "average_review_rating_of_5            -0.089078                      0.001501   \n",
              "\n",
              "                              average_review_rating_of_5  \n",
              "price                                           0.013213  \n",
              "number_available_in_stock                      -0.009538  \n",
              "number_of_reviews                              -0.089078  \n",
              "number_of_answered_questions                    0.001501  \n",
              "average_review_rating_of_5                      1.000000  "
            ],
            "text/html": [
              "\n",
              "  <div id=\"df-3ef403e2-6f8e-4e2a-817d-534c31d7e87e\">\n",
              "    <div class=\"colab-df-container\">\n",
              "      <div>\n",
              "<style scoped>\n",
              "    .dataframe tbody tr th:only-of-type {\n",
              "        vertical-align: middle;\n",
              "    }\n",
              "\n",
              "    .dataframe tbody tr th {\n",
              "        vertical-align: top;\n",
              "    }\n",
              "\n",
              "    .dataframe thead th {\n",
              "        text-align: right;\n",
              "    }\n",
              "</style>\n",
              "<table border=\"1\" class=\"dataframe\">\n",
              "  <thead>\n",
              "    <tr style=\"text-align: right;\">\n",
              "      <th></th>\n",
              "      <th>price</th>\n",
              "      <th>number_available_in_stock</th>\n",
              "      <th>number_of_reviews</th>\n",
              "      <th>number_of_answered_questions</th>\n",
              "      <th>average_review_rating_of_5</th>\n",
              "    </tr>\n",
              "  </thead>\n",
              "  <tbody>\n",
              "    <tr>\n",
              "      <th>price</th>\n",
              "      <td>1.000000</td>\n",
              "      <td>-0.018236</td>\n",
              "      <td>-0.024008</td>\n",
              "      <td>-0.005889</td>\n",
              "      <td>0.013213</td>\n",
              "    </tr>\n",
              "    <tr>\n",
              "      <th>number_available_in_stock</th>\n",
              "      <td>-0.018236</td>\n",
              "      <td>1.000000</td>\n",
              "      <td>0.215193</td>\n",
              "      <td>-0.008333</td>\n",
              "      <td>-0.009538</td>\n",
              "    </tr>\n",
              "    <tr>\n",
              "      <th>number_of_reviews</th>\n",
              "      <td>-0.024008</td>\n",
              "      <td>0.215193</td>\n",
              "      <td>1.000000</td>\n",
              "      <td>0.020904</td>\n",
              "      <td>-0.089078</td>\n",
              "    </tr>\n",
              "    <tr>\n",
              "      <th>number_of_answered_questions</th>\n",
              "      <td>-0.005889</td>\n",
              "      <td>-0.008333</td>\n",
              "      <td>0.020904</td>\n",
              "      <td>1.000000</td>\n",
              "      <td>0.001501</td>\n",
              "    </tr>\n",
              "    <tr>\n",
              "      <th>average_review_rating_of_5</th>\n",
              "      <td>0.013213</td>\n",
              "      <td>-0.009538</td>\n",
              "      <td>-0.089078</td>\n",
              "      <td>0.001501</td>\n",
              "      <td>1.000000</td>\n",
              "    </tr>\n",
              "  </tbody>\n",
              "</table>\n",
              "</div>\n",
              "      <button class=\"colab-df-convert\" onclick=\"convertToInteractive('df-3ef403e2-6f8e-4e2a-817d-534c31d7e87e')\"\n",
              "              title=\"Convert this dataframe to an interactive table.\"\n",
              "              style=\"display:none;\">\n",
              "        \n",
              "  <svg xmlns=\"http://www.w3.org/2000/svg\" height=\"24px\"viewBox=\"0 0 24 24\"\n",
              "       width=\"24px\">\n",
              "    <path d=\"M0 0h24v24H0V0z\" fill=\"none\"/>\n",
              "    <path d=\"M18.56 5.44l.94 2.06.94-2.06 2.06-.94-2.06-.94-.94-2.06-.94 2.06-2.06.94zm-11 1L8.5 8.5l.94-2.06 2.06-.94-2.06-.94L8.5 2.5l-.94 2.06-2.06.94zm10 10l.94 2.06.94-2.06 2.06-.94-2.06-.94-.94-2.06-.94 2.06-2.06.94z\"/><path d=\"M17.41 7.96l-1.37-1.37c-.4-.4-.92-.59-1.43-.59-.52 0-1.04.2-1.43.59L10.3 9.45l-7.72 7.72c-.78.78-.78 2.05 0 2.83L4 21.41c.39.39.9.59 1.41.59.51 0 1.02-.2 1.41-.59l7.78-7.78 2.81-2.81c.8-.78.8-2.07 0-2.86zM5.41 20L4 18.59l7.72-7.72 1.47 1.35L5.41 20z\"/>\n",
              "  </svg>\n",
              "      </button>\n",
              "      \n",
              "  <style>\n",
              "    .colab-df-container {\n",
              "      display:flex;\n",
              "      flex-wrap:wrap;\n",
              "      gap: 12px;\n",
              "    }\n",
              "\n",
              "    .colab-df-convert {\n",
              "      background-color: #E8F0FE;\n",
              "      border: none;\n",
              "      border-radius: 50%;\n",
              "      cursor: pointer;\n",
              "      display: none;\n",
              "      fill: #1967D2;\n",
              "      height: 32px;\n",
              "      padding: 0 0 0 0;\n",
              "      width: 32px;\n",
              "    }\n",
              "\n",
              "    .colab-df-convert:hover {\n",
              "      background-color: #E2EBFA;\n",
              "      box-shadow: 0px 1px 2px rgba(60, 64, 67, 0.3), 0px 1px 3px 1px rgba(60, 64, 67, 0.15);\n",
              "      fill: #174EA6;\n",
              "    }\n",
              "\n",
              "    [theme=dark] .colab-df-convert {\n",
              "      background-color: #3B4455;\n",
              "      fill: #D2E3FC;\n",
              "    }\n",
              "\n",
              "    [theme=dark] .colab-df-convert:hover {\n",
              "      background-color: #434B5C;\n",
              "      box-shadow: 0px 1px 3px 1px rgba(0, 0, 0, 0.15);\n",
              "      filter: drop-shadow(0px 1px 2px rgba(0, 0, 0, 0.3));\n",
              "      fill: #FFFFFF;\n",
              "    }\n",
              "  </style>\n",
              "\n",
              "      <script>\n",
              "        const buttonEl =\n",
              "          document.querySelector('#df-3ef403e2-6f8e-4e2a-817d-534c31d7e87e button.colab-df-convert');\n",
              "        buttonEl.style.display =\n",
              "          google.colab.kernel.accessAllowed ? 'block' : 'none';\n",
              "\n",
              "        async function convertToInteractive(key) {\n",
              "          const element = document.querySelector('#df-3ef403e2-6f8e-4e2a-817d-534c31d7e87e');\n",
              "          const dataTable =\n",
              "            await google.colab.kernel.invokeFunction('convertToInteractive',\n",
              "                                                     [key], {});\n",
              "          if (!dataTable) return;\n",
              "\n",
              "          const docLinkHtml = 'Like what you see? Visit the ' +\n",
              "            '<a target=\"_blank\" href=https://colab.research.google.com/notebooks/data_table.ipynb>data table notebook</a>'\n",
              "            + ' to learn more about interactive tables.';\n",
              "          element.innerHTML = '';\n",
              "          dataTable['output_type'] = 'display_data';\n",
              "          await google.colab.output.renderOutput(dataTable, element);\n",
              "          const docLink = document.createElement('div');\n",
              "          docLink.innerHTML = docLinkHtml;\n",
              "          element.appendChild(docLink);\n",
              "        }\n",
              "      </script>\n",
              "    </div>\n",
              "  </div>\n",
              "  "
            ]
          },
          "metadata": {},
          "execution_count": 6
        }
      ]
    },
    {
      "cell_type": "code",
      "source": [
        "X = amazon['average_review_rating_of_5']\n",
        "y = amazon['number_of_reviews']\n",
        "X = sm.add_constant(X)\n",
        "amazon.mod1 = sm.OLS(y1, X1).fit()  ## sm.OLS(output, i.e. dependent variable, input, i.e. independent variable)\n",
        "amazon.mod1_summary = amazon.mod1.summary()\n",
        "print(amazon.mod1_summary)"
      ],
      "metadata": {
        "colab": {
          "base_uri": "https://localhost:8080/"
        },
        "id": "lsmOvaXFQQWa",
        "outputId": "13da5807-906a-4133-b64a-6561a018b8cc"
      },
      "execution_count": null,
      "outputs": [
        {
          "output_type": "stream",
          "name": "stdout",
          "text": [
            "                            OLS Regression Results                            \n",
            "==============================================================================\n",
            "Dep. Variable:      number_of_reviews   R-squared:                       0.008\n",
            "Model:                            OLS   Adj. R-squared:                  0.008\n",
            "Method:                 Least Squares   F-statistic:                     50.47\n",
            "Date:                Thu, 16 Jun 2022   Prob (F-statistic):           1.34e-12\n",
            "Time:                        15:43:26   Log-Likelihood:                -32092.\n",
            "No. Observations:                6312   AIC:                         6.419e+04\n",
            "Df Residuals:                    6310   BIC:                         6.420e+04\n",
            "Df Model:                           1                                         \n",
            "Covariance Type:            nonrobust                                         \n",
            "==============================================================================================\n",
            "                                 coef    std err          t      P>|t|      [0.025      0.975]\n",
            "----------------------------------------------------------------------------------------------\n",
            "const                         49.4448      5.411      9.138      0.000      38.838      60.052\n",
            "average_review_rating_of_5    -8.1680      1.150     -7.104      0.000     -10.422      -5.914\n",
            "==============================================================================\n",
            "Omnibus:                    12618.826   Durbin-Watson:                   1.896\n",
            "Prob(Omnibus):                  0.000   Jarque-Bera (JB):         44016606.854\n",
            "Skew:                          16.122   Prob(JB):                         0.00\n",
            "Kurtosis:                     410.828   Cond. No.                         54.1\n",
            "==============================================================================\n",
            "\n",
            "Warnings:\n",
            "[1] Standard Errors assume that the covariance matrix of the errors is correctly specified.\n"
          ]
        },
        {
          "output_type": "stream",
          "name": "stderr",
          "text": [
            "/usr/local/lib/python3.7/dist-packages/statsmodels/tsa/tsatools.py:117: FutureWarning: In a future version of pandas all arguments of concat except for the argument 'objs' will be keyword-only\n",
            "  x = pd.concat(x[::order], 1)\n"
          ]
        }
      ]
    },
    {
      "cell_type": "code",
      "source": [
        "print('Parameters: ', amazon.mod1.params)\n",
        "print('R2: ', amazon.mod1.rsquared)"
      ],
      "metadata": {
        "colab": {
          "base_uri": "https://localhost:8080/"
        },
        "id": "D9BMD_tz4NN7",
        "outputId": "132015d5-8f3d-4e92-ab67-09abf234a141"
      },
      "execution_count": null,
      "outputs": [
        {
          "output_type": "stream",
          "name": "stdout",
          "text": [
            "Parameters:  const                         49.444822\n",
            "average_review_rating_of_5    -8.168007\n",
            "dtype: float64\n",
            "R2:  0.007934822445616052\n"
          ]
        }
      ]
    },
    {
      "cell_type": "code",
      "source": [
        "predictions = amazon.mod1.predict(X) # Here, you'll see the CALCULATED values with the formula\n",
        "predictions"
      ],
      "metadata": {
        "colab": {
          "base_uri": "https://localhost:8080/"
        },
        "id": "6u_iIBCz4UR7",
        "outputId": "60b810fe-8ca2-45c1-917a-d5f7045404dd"
      },
      "execution_count": null,
      "outputs": [
        {
          "output_type": "execute_result",
          "data": {
            "text/plain": [
              "0       16.772794\n",
              "1       12.688790\n",
              "2       12.688790\n",
              "4       14.322392\n",
              "5       15.955993\n",
              "          ...    \n",
              "6331    22.490399\n",
              "6332     8.604787\n",
              "6333     8.604787\n",
              "6334     8.604787\n",
              "6335    16.772794\n",
              "Length: 6312, dtype: float64"
            ]
          },
          "metadata": {},
          "execution_count": 9
        }
      ]
    },
    {
      "cell_type": "code",
      "source": [
        "fig = plt.figure(figsize=(15,8))\n",
        "fig = sm.graphics.plot_regress_exog(amazon.mod1, \"average_review_rating_of_5\", fig=fig)"
      ],
      "metadata": {
        "colab": {
          "base_uri": "https://localhost:8080/",
          "height": 585
        },
        "id": "G6NtYyGP4a-r",
        "outputId": "2fdc71a3-989e-453c-f0f7-28f3b52df678"
      },
      "execution_count": null,
      "outputs": [
        {
          "output_type": "display_data",
          "data": {
            "text/plain": [
              "<Figure size 1080x576 with 4 Axes>"
            ],
            "image/png": "[encoded data removed]"
          },
          "metadata": {
            "needs_background": "light"
          }
        }
      ]
    },
    {
      "cell_type": "code",
      "source": [
        "amazon.dtypes"
      ],
      "metadata": {
        "colab": {
          "base_uri": "https://localhost:8080/"
        },
        "id": "UwOmRrXX5ERu",
        "outputId": "0f08690c-0cc2-4fe9-f7d3-b4ac45002b28"
      },
      "execution_count": null,
      "outputs": [
        {
          "output_type": "execute_result",
          "data": {
            "text/plain": [
              "uniq_id                                         object\n",
              "product_name                                    object\n",
              "manufacturer                                    object\n",
              "price                                          float64\n",
              "number_available_in_stock                        int64\n",
              "status                                          object\n",
              "number_of_reviews                                int64\n",
              "number_of_answered_questions                     int64\n",
              "average_review_rating_of_5                     float64\n",
              "amazon_category_and_sub_category                object\n",
              "customers_who_bought_this_item_also_bought      object\n",
              "description                                     object\n",
              "product_information                             object\n",
              "product_description                             object\n",
              "items_customers_buy_after_viewing_this_item     object\n",
              "customer_questions_and_answers                  object\n",
              "customer_reviews                                object\n",
              "dtype: object"
            ]
          },
          "metadata": {},
          "execution_count": 11
        }
      ]
    },
    {
      "cell_type": "code",
      "source": [
        "X = amazon[['price','average_review_rating_of_5','number_available_in_stock']] # Now we have values from three different independent attributes stored in X\n",
        "y = amazon['number_of_reviews'] # This is, again, our dependent attribute\n",
        "print(X) # This is the content of our X variable"
      ],
      "metadata": {
        "colab": {
          "base_uri": "https://localhost:8080/"
        },
        "id": "sv6iwLlD4sny",
        "outputId": "a581f1ac-757a-4383-efbe-ed0e933003e6"
      },
      "execution_count": null,
      "outputs": [
        {
          "output_type": "stream",
          "name": "stdout",
          "text": [
            "        price  average_review_rating_of_5  number_available_in_stock\n",
            "0        0.29                         4.0                          3\n",
            "1        0.38                         4.5                          2\n",
            "2        0.39                         4.5                          7\n",
            "4        0.60                         4.3                          7\n",
            "5        0.64                         4.1                          6\n",
            "...       ...                         ...                        ...\n",
            "6331   439.95                         3.3                         11\n",
            "6332   447.99                         5.0                          3\n",
            "6333   719.95                         5.0                          2\n",
            "6334   995.11                         5.0                          2\n",
            "6335  2439.92                         4.0                          2\n",
            "\n",
            "[6312 rows x 3 columns]\n"
          ]
        }
      ]
    },
    {
      "cell_type": "code",
      "source": [
        "# Defining the model for a multiple regression using the lm.fit() function:\n",
        "\n",
        "lm = linear_model.LinearRegression() # Here, we are using the linear_model subpackage from scikit-learn that we imported above\n",
        "model = lm.fit(X,y) # And here, we are building the model"
      ],
      "metadata": {
        "id": "BloBILyGAfUC"
      },
      "execution_count": null,
      "outputs": []
    },
    {
      "cell_type": "code",
      "source": [
        "# To find the R-squared score:\n",
        "lm.score(X,y)"
      ],
      "metadata": {
        "colab": {
          "base_uri": "https://localhost:8080/"
        },
        "id": "husHe7qjAhns",
        "outputId": "d20b23c6-f500-4bc7-f5e3-8c94c76629e2"
      },
      "execution_count": null,
      "outputs": [
        {
          "output_type": "execute_result",
          "data": {
            "text/plain": [
              "0.05424149112675103"
            ]
          },
          "metadata": {},
          "execution_count": 14
        }
      ]
    },
    {
      "cell_type": "code",
      "source": [
        "# To find the coefficients for the predictors:\n",
        "lm.coef_"
      ],
      "metadata": {
        "colab": {
          "base_uri": "https://localhost:8080/"
        },
        "id": "Wi-_a8T9Ap9L",
        "outputId": "74ecac56-26dc-4f3f-f77a-445026412e45"
      },
      "execution_count": null,
      "outputs": [
        {
          "output_type": "execute_result",
          "data": {
            "text/plain": [
              "array([-0.01604065, -7.95785033,  0.91998595])"
            ]
          },
          "metadata": {},
          "execution_count": 15
        }
      ]
    },
    {
      "cell_type": "code",
      "source": [
        "# To find the intercept:\n",
        "lm.intercept_"
      ],
      "metadata": {
        "colab": {
          "base_uri": "https://localhost:8080/"
        },
        "id": "pXpFhK0SAtOB",
        "outputId": "32be5265-bbe7-4e27-96b3-f6a4b6d363fa"
      },
      "execution_count": null,
      "outputs": [
        {
          "output_type": "execute_result",
          "data": {
            "text/plain": [
              "40.745150842700085"
            ]
          },
          "metadata": {},
          "execution_count": 16
        }
      ]
    },
    {
      "cell_type": "code",
      "source": [
        "amazon.info()"
      ],
      "metadata": {
        "colab": {
          "base_uri": "https://localhost:8080/"
        },
        "id": "4URV1e5bAyz8",
        "outputId": "211bf37f-43b0-4d26-e473-c77b1fb7e84b"
      },
      "execution_count": null,
      "outputs": [
        {
          "output_type": "stream",
          "name": "stdout",
          "text": [
            "<class 'pandas.core.frame.DataFrame'>\n",
            "Int64Index: 6312 entries, 0 to 6335\n",
            "Data columns (total 17 columns):\n",
            " #   Column                                       Non-Null Count  Dtype  \n",
            "---  ------                                       --------------  -----  \n",
            " 0   uniq_id                                      6312 non-null   object \n",
            " 1   product_name                                 6312 non-null   object \n",
            " 2   manufacturer                                 6312 non-null   object \n",
            " 3   price                                        6312 non-null   float64\n",
            " 4   number_available_in_stock                    6312 non-null   int64  \n",
            " 5   status                                       6312 non-null   object \n",
            " 6   number_of_reviews                            6312 non-null   int64  \n",
            " 7   number_of_answered_questions                 6312 non-null   int64  \n",
            " 8   average_review_rating_of_5                   6312 non-null   float64\n",
            " 9   amazon_category_and_sub_category             6312 non-null   object \n",
            " 10  customers_who_bought_this_item_also_bought   6312 non-null   object \n",
            " 11  description                                  6312 non-null   object \n",
            " 12  product_information                          6312 non-null   object \n",
            " 13  product_description                          6312 non-null   object \n",
            " 14  items_customers_buy_after_viewing_this_item  6312 non-null   object \n",
            " 15  customer_questions_and_answers               6312 non-null   object \n",
            " 16  customer_reviews                             6312 non-null   object \n",
            "dtypes: float64(2), int64(3), object(12)\n",
            "memory usage: 887.6+ KB\n"
          ]
        }
      ]
    },
    {
      "cell_type": "code",
      "source": [
        "X = amazon.iloc[:, :-1].values\n",
        "y = amazon.iloc[:, 16].values\n",
        "print(X)\n",
        "print(y)"
      ],
      "metadata": {
        "colab": {
          "base_uri": "https://localhost:8080/"
        },
        "id": "op9eZexpA0Jy",
        "outputId": "cc00e90d-4eb4-4396-cfa5-fe26132fe561"
      },
      "execution_count": null,
      "outputs": [
        {
          "output_type": "stream",
          "name": "stdout",
          "text": [
            "[['dafc6b4ba4b4a3e7b4ff83402a196ae8' 'Dinosaur Eggs' 'Halsall' ...\n",
            "  'Not available'\n",
            "  'http://www.amazon.co.uk/Hatch-em-TY63-Hatching-Dinosaur-Egg/dp/B00160C8NK | http://www.amazon.co.uk/DINOSAUR-GROWING-Only-Supplied/dp/B001AAPNVA | http://www.amazon.co.uk/Parties-Wrapped-Up-Hatching-Dinosaur/dp/B006A2R82A | http://www.amazon.co.uk/Natural-History-Museum-Dinosaur-Projector/dp/B0079FCBBK'\n",
            "  'None']\n",
            " ['ba85fb9368114fce646379ed12750a5f'\n",
            "  'Neopets 4 Trading Card Fun Packs (2 Bonus Cards)' 'Neopets' ...\n",
            "  'Not available' 'Not available' 'None']\n",
            " ['14e24c29ba38c2717754baa2638f242a'\n",
            "  'Latex Assorted Water Balloons, Pack of 40' 'Unique Party' ...\n",
            "  'Colour Name:Assorted Bold \\xa0|\\xa0 Size Name:Pack of 40 Product Description Enjoy some wet fun in the sun with these entertaining Latex Water Balloons! Featuring an assortment of bold colours, these water bombs are great for filling with water and launching them at friends and family at a summer party or get-together. Attach the neck of each balloon to an outside tap and fill with enough water to be able to throw them, then watch them explode on impact. Warn friends they will get wet with water bomb battles at your garden party or summer birthday party! Box Contains 40 x WATER BOMB BALLOONS'\n",
            "  'http://www.amazon.co.uk/Water-Bombs-Pack-100-Adaptor/dp/B0019Z1WJ8'\n",
            "  'None']\n",
            " ...\n",
            " ['1e897bf37e4e89aba7cc962f24913fd4'\n",
            "  'Indiana Jones - 12 Inch Action Figures: Indiana Jones (Raiders Of The Lost Ark)'\n",
            "  'Sideshow' ...\n",
            "  'Figurine articulÃ©e taille env. 30 cm avec vÃªtements tissu, mains et tÃªte interchangeables, accessoires et socle. ModÃ¨le en Ã©dition limitÃ©e livrÃ© en boÃ®te-fenÃªtre de collection.'\n",
            "  'Not available' 'None']\n",
            " ['4f705c302bdcf5d2b0c1df973d98f99f' 'DJI Phantom 2 with H3-3D Gimbal'\n",
            "  'DJI' ...\n",
            "  'Product Description Including the H3-3D Gimbal The Spirit of Flight Introducing the NEW H3-3D Gimbal version of the Phantom 2. This version features a 3rd axis on the Zenmuse gimbal for incredibly smooth footage from your GoPro. The gimbal counter-acts movements on the quadcopters yaw axis making this the best solution for aerial footage from your GoPro. The Phantom 2 is an evolution of the Phantom. It features the same compact and highly integrated design, but comes with FPV flying and Aerial Photography support right out of the box. Hardware mountings and software tuning are all carried out prior to delivery, meaning with rotors attached, a charged battery and transmitter batteries available it can fly immediately. Additional features include a higher payload, a built-in intelligent battery, H3-3D gimbal support and other functions. The 3-axis Zenmuse H3-3D Gimbal is another milestone in gimbal innovation. Designed for the GoPro Hero3 and Hero3+, it is a high precision gimbal offering high stability, light weight and plug and play simplicity. It is ideal for a range of applications, from film and TV to cinematography. Precise Flight & Ground Station Support Precision flight and stable hovering is provided by the integrated GPS auto-pilot system that offers position holding, altitude lock and stable hovering, giving you constant smooth flight so you can focus on getting the shots you want. The Ground station support allows the user to program a flight path using your smartphone with our 16 waypoint Ground Station system. This means that as the Phantom 2 with H3-3D Gimbal flies autonomously you are able to tilt the camera up and down, take photos and shoot video all the while without having to worry about flying the drone. Quadcopter & 2 Computer Modes The Phantom 2 flight control system has two computer-assisted flight modes for you to choose from. If the Quadcopter loses the signal from the controller for any reason the \"return to home\" feature will initialize. IOC is designed to help make flying more intuitive. The remote control operates with 4 AA Batteries and when fully charged the Phantom 2 Vision + will provide a flight time of 25 minutes. Easy Battery ReplacementView larger Intelligent, Long Lasting Battery The high capacity, high performance 5200mAh Lithium Polymer battery offers up to 25 minutes of flight time. It provides battery capacity data, over charge/discharge protection, as well as maintenance reminders making the battery extremely safe and reliable. Flight time from a full charge is 25 minutes. GPS Auto PilotView larger Precision Flight and Stable Hovering An integrated GPS auto-pilot system that offers position holding, altitude lock and stable hovering allows your attention to be focused on shooting. Return Home FeatureView larger Auto Return-to-Home /One-key Go-Home If the Phantom 2 and its controller are disconnected during flight, the system\\x80\\x99s fail-safe protection will activate, automatically telling and if the signal is good enough, the Phantom 2 to return home and land automatically. You can also setup a One Key Go Home function to activate this feature manually. Complete Control and Flight SafetyView larger No Fly Zones In order to increase flight safety and prevent accidental flights in restricted areas, the new firmware for the Phantom 2 series includes a No Fly Zone feature. These zones have been divided into two categories: A and B. Very IntelligentView larger Self Tightening Propellers The Phantom 2 has self tightening propellers. Self-tightening propellers are easy to install and tighten during flight to improve safety. All propellers are dynamically balanced to eliminate unwanted vibrations. That means that the user will not have to manually tighten blades. The DJI is built in such a way that minimal user input is required to maintain the Drone. It truly has thought of everything. Set a Flight CourseView larger Unbelievable Intelligence Program your flight path from an iPad with the 16 waypoint Ground Station system, to shoot with more precision than ever. (Requires DJI 2.4G Bluetooth(R) Datalink. ) Therefore when the drone is flying itself along the flight path the user is able to take all the camera shots they like without having to control the Phantom 2. Box Contains 1 x DJI Phantom 2 1 x H3-3D 1 x Controller 2 x Lipo battery 1 x Lipo Balance charger 1 x Plug connections 1 x Instructions 1 x Spare blades'\n",
            "  'Not available'\n",
            "  \"Does this come with the gimbal already installed? // No, you have to install it yourself. It comes with instructions for assembly and is pretty straight forward to do. | Hi, I have an AEE SD22 action cam (like a GoPro) - anyone know if this would fit the 3d/2d gimbal? Thanks! // Not sure ,i bought this as a present sorry i cant help. | does it include the camera, thanx // no | Is this item dispatched from the UK? I don't want to incur UK customs/import duty. // Hi mark, yes we buy these direct from china so we handle all the import charges. You will ou pay the selling price and the item will be sent to your via DPD with nothing for you to worry about :) | hi. so what do i need to be able to have first person view from my tablet/lapotop. when flying please. // There's various methods, you can buy did you want the goggles or watch it via the tablet, as at present you can fly this drone then watch all the footage back on your laptop . | sorry, only one last question before I consider ordering. Would you please confirm that these are genuine DGI and Zenmuse produced items. // We are selling official DJI products. | Hi, would you please reply to my previous two questions as to whether the Zenmuse and the Phantom are made by the original manufacturers. // Hi Mark, Apologies, for some reason i cant see your previous messages. Yes im currently buying the  DJI Phantom 2 Quadcopter Combo, Zenmuse H3-3D Gimbal direct from DJI Innovations and this item will be shipped from us in the UK. | I wanna buy this but it says it's under review? // I would go to another company. They took a couple month to send a replacement to a broken gimbal. | Would you please confirm these are genuine DGI and Zemuse manufactured products as your prices are excellent value. (More so as no customs charges) // We are selling official DJI and Zemuse | Does this come with the GoPro? // No it doesn't. And it does not comes with the h3-3d gimbal too, I had to ask my money back.\"]\n",
            " ['75d96583894e50412ba5c0161375fef5'\n",
            "  'Bowen Designs - Marvel Statue Thor Classic Action 49 cm'\n",
            "  'Bowen Designs' ...\n",
            "  'Sideshow Collectibles is proud to present the outstanding Marvel statues and busts created by Bowen Designs. These high-quality polystone, detailed collectibles feature your favorite Marvel characters as they appear in a wide range of comics. Complete with switch-out right hand and standing over 49 cm high, the Thor Classic Action Statue is cast in high-quality polystone, a great addition to any Marvel collection!'\n",
            "  'Not available' 'None']]\n",
            "['Fascinating fun // 4.0 // 25 Nov. 2008 // By\\n    \\n    ZippyP\\n  \\n on 25 Nov. 2008 // My 8 year old and 4 year old both loved their eggs that slowly cracked and hatched in water, like the real thing! then they checked them over the days to see how big their dinosaurs became as they grew in the water. It was good that they were both different dinosaurs. Only downside is they cant really play with the finished dinosaur much as they remain cold and a bit wet. But overall, great fun! | Alternative Easter Egg // 4.0 // 12 May 2010 // By\\n    \\n    Shazza\\n  \\n on 12 May 2010 // Great fun at Easter as well as the usual chocolate - kids idea. They work really well and give lots of fun but believe me they are very slimy to the touch. An adult is a good idea to supervise. | Four Stars // 4.0 // 26 Jan. 2015 // By\\n    \\n    Jaroslav Durana\\n  \\n on 26 Jan. 2015 // thank you'\n",
            " \"Never Too Old // 4.0 // 6 Nov. 2013 // By\\n    \\n    Zakkura\\n  \\n on 6 Nov. 2013 // I am over the age one would expect a Neopets fan to be but I cannot stop collecting these TGCs for the life of me and I was very relieved to find somebody on Amazon selling them as buying them from the actual site would have meant paying out more than necessary.These came very quickly and all of the cards were in great condition; not one of them was scruffed at the edges or bent beyond repair.However I will say that the packaging that the cards came in {the standard plastic and cardboard thing you normally get} was stained in something I have no interest of identifying. They were splashes of brown/red stains and it made me a little uneasy about actually touching the item.But honestly, they were only small splashes here and there and I'm pretty sure they were nothing toxic so it's not a big deal. | Not Going To Get You Rich But... // 5.0 // 10 Mar. 2014 // By\\n    \\n    Sophie Elizabeth Ann\\n  \\n on 10 Mar. 2014 // The cards themselves are kind of cool, but I really bought this mainly to unlock the Space Faerie challenger, which it does! It actually comes with several virtual item codes, not just one as I originally required. The items/NP rewards are very minor but nice bonuses anyway. The stickers bundled with the trading cards are cute as well. I actually also was awarded a Key Quest Token code for the Dark Faerie which was an amazing surprise!\"\n",
            " 'Great item // 4.0 // 27 Dec. 2015 // By\\n    \\n    Amazon Customer - ZoÃ«-D\\n  \\n on 27 Dec. 2015 // Excellent item for the summer. I used them all as mini balloons and only had one broken one out of the whole packet. | Five Stars // 5.0 // 21 July 2014 // By\\n    \\n    mr k d judkins\\n  \\n on 21 July 2014 // Happy'\n",
            " ...\n",
            " '\"It\\'s not the years, sweet heart, it\\'s the milage!\" // 5.0 // 13 Aug. 2009 // By\\n    \\n    Jay B.\\n  \\n on 13 Aug. 2009 // It\\'s without a doubt, hands down THE best Indy figure out there (well, apart from maybe the premium format statue). And there are a fair few Jones figures out there these days. He is the only version with two interchangable heads, one with hat, one without, and one of the few with the best 1/6 scale bodies available. Plus he has a set of gloved hands as was featured in Raiders of the Lost Ark, both fisted and gripping versions.One of the best things about him though is the head sculpt. It\\'s hard for sculpters to get Harrison Ford\\'s features right, but this is the best I\\'ve ever seen. The paint job may let it down a bit but not much.The clothes are beautifully made and hang just right. The accessories are perfect and plentifull and allows for a wide range of posing and display.I don\\'t think any Indiana Jones collecter would be sorry they bought this as it stands as the ultimate tribute to the original man in the hat!'\n",
            " 'Dji // 5.0 // 24 Aug. 2014 // By\\n    \\n    olly\\n  \\n on 24 Aug. 2014 // I ordered this quadcopter for a friend who wanted me to unbox the quadcopter and get it all working.I received the quadcopter within 2 days, then proceeded to assemble and charge (assembling took roughly 15 minuits). Then calibrated it, following by a quick test flight, (if you want to see my recommended first time fly ,extracted from my App available for iphone ,DJI Phantom Unofficial Guide, go to the bottom of this review)Charging takes about 1-3 hours depending on settings on charger, battery life is about 10-13 mins. I personally recommend buying some more batteries of a website called first personview.co.uk they cost about £20 each.I personally think that this quadcopter is a great place to start if you are coming in to the world of quadcopter.But i use a group on Facebook called \\'dji phantom owners page\\' for help.Pros and ConsPros;Easy to flygood valuefairly crash resistanteverything is repairableeverything is upgradeableCons;can get expensivecan get complicated without good guidance (\"DJI PHANTOM UNOFFICIAL GUIDE\") is a good place to startDJI suport is not good__________________________________________________________________________________________________________EXTRACT FROM \"DJI PHANTOM UNOFFICIAL GUIDE\"__________________________________________________________________________________________________________Just ordered A phantom, well here is the right place to start. This guide will help you through your phantoms journey, and give you some tips, help, and guidance. When you get your phantom in the post, take it out of the box lay all of the pieces out on the table along with a philips screwdriver, and some patience.Read more \\x80º | Performs just as advertised - incredibly controllable. The gimbal ... // 5.0 // 3 Aug. 2015 // By\\n    \\n    John Mills\\n  \\n on 3 Aug. 2015 // Performs just as advertised - incredibly controllable. The gimbal camera mount is particularly impressive and compensates well for random movement of the drone due to air currents etc. Be aware that the gimbal needs a transmitter (available separately) to enable the output of the Hero Camera to be viewed realtime on a laptop, iPad, etc. | Great piece of kit // 5.0 // 13 Aug. 2015 // By\\n    \\n    Mike Billig\\n  \\n on 13 Aug. 2015 // Great piece of kit. On the down side, you are left on your own to discover on utube and other web sites, how to actually calibrate and set up the Phantom 2 and Gimbal. Also the down loads for the PC to do this are not mentioned. This includes the return home programme, without it your Phantom 2 can fly off on it own! | perfect // 5.0 // 17 Jan. 2015 // By\\n    \\n    Mr. Daren Cocker\\n  \\n on 17 Jan. 2015 // Very happy with everything. Arrived in good time and perfect condition. Now the fun starts!'\n",
            " 'Thortastic... // 4.0 // 12 Sept. 2012 // By\\n    \\n    robbywrites\\n  \\n on 12 Sept. 2012 // Saw this Thor statue on display at Universal Studios in Florida and just loved the detail. Found one on amazon.co.uk as soon as I got home and placed my order. Not disappointed. Fast delivery and box unscathed, though much bigger than I imagined for the size of the statue. Unfortunately there was some evidence of the statue having possibly been a shop display with some faded blacks on the base and a small witness of what appeared to be a cover up with black paint. I am normally very fussy about this sort of thing but the thought of sending it back to the seller (somewhere in France) did not appeal, so I placed it on display in my living room and quickly got over it. The detail and proportion of this statue is excellent and, for the most part, withstands close scrutiny with surprising ease. This statue comes with two versions of hammer, one spinning (shown in most on-line images which can be mistaken for a shield) and a still version. This is a cool bonus and would have been perfect if not for the right hand holding the still hammer having unrealistically short fingers. All in all a great addition to my collection of Marvel statues and busts. If it had arrived in mint condition I would have given it 5 stars.']\n"
          ]
        }
      ]
    },
    {
      "cell_type": "code",
      "source": [
        "X = amazon[['price','number_available_in_stock','number_of_reviews','number_of_answered_questions']] # Now we have values from three different independent attributes stored in X\n",
        "y = amazon['average_review_rating_of_5'] # This is, again, our dependent attribute\n",
        "print(X) # This is the content of our X variable\n",
        "X = sm.add_constant(X)\n",
        "amazon.mod1 = sm.OLS(y1, X1).fit()  ## sm.OLS(output, i.e. dependent variable, input, i.e. independent variable)\n",
        "amazon.mod1_summary = amazon.mod1.summary()\n",
        "print(amazon.mod1_summary)"
      ],
      "metadata": {
        "colab": {
          "base_uri": "https://localhost:8080/"
        },
        "id": "KLHLw09VOdaX",
        "outputId": "23d7c106-f84a-4d83-d778-453eb5aa7bd3"
      },
      "execution_count": null,
      "outputs": [
        {
          "output_type": "stream",
          "name": "stdout",
          "text": [
            "        price  number_available_in_stock  number_of_reviews  \\\n",
            "0        0.29                          3                  3   \n",
            "1        0.38                          2                  2   \n",
            "2        0.39                          7                  2   \n",
            "4        0.60                          7                 21   \n",
            "5        0.64                          6                 10   \n",
            "...       ...                        ...                ...   \n",
            "6331   439.95                         11                  9   \n",
            "6332   447.99                          3                  1   \n",
            "6333   719.95                          2                  1   \n",
            "6334   995.11                          2                  4   \n",
            "6335  2439.92                          2                  1   \n",
            "\n",
            "      number_of_answered_questions  \n",
            "0                                2  \n",
            "1                                1  \n",
            "2                                1  \n",
            "4                                1  \n",
            "5                                2  \n",
            "...                            ...  \n",
            "6331                             3  \n",
            "6332                             3  \n",
            "6333                             1  \n",
            "6334                            19  \n",
            "6335                             1  \n",
            "\n",
            "[6312 rows x 4 columns]\n",
            "                                OLS Regression Results                                \n",
            "======================================================================================\n",
            "Dep. Variable:     average_review_rating_of_5   R-squared:                       0.008\n",
            "Model:                                    OLS   Adj. R-squared:                  0.008\n",
            "Method:                         Least Squares   F-statistic:                     12.99\n",
            "Date:                        Thu, 16 Jun 2022   Prob (F-statistic):           1.56e-10\n",
            "Time:                                15:46:01   Log-Likelihood:                -3571.1\n",
            "No. Observations:                        6312   AIC:                             7152.\n",
            "Df Residuals:                            6307   BIC:                             7186.\n",
            "Df Model:                                   4                                         \n",
            "Covariance Type:                    nonrobust                                         \n",
            "================================================================================================\n",
            "                                   coef    std err          t      P>|t|      [0.025      0.975]\n",
            "------------------------------------------------------------------------------------------------\n",
            "const                            4.6909      0.008    586.566      0.000       4.675       4.707\n",
            "price                            0.0001      0.000      0.896      0.371      -0.000       0.000\n",
            "number_available_in_stock        0.0005      0.001      0.802      0.423      -0.001       0.002\n",
            "number_of_reviews               -0.0010      0.000     -7.091      0.000      -0.001      -0.001\n",
            "number_of_answered_questions     0.0001      0.000      0.284      0.777      -0.001       0.001\n",
            "==============================================================================\n",
            "Omnibus:                     5127.554   Durbin-Watson:                   1.948\n",
            "Prob(Omnibus):                  0.000   Jarque-Bera (JB):           270152.887\n",
            "Skew:                          -3.506   Prob(JB):                         0.00\n",
            "Kurtosis:                      34.273   Cond. No.                         76.3\n",
            "==============================================================================\n",
            "\n",
            "Warnings:\n",
            "[1] Standard Errors assume that the covariance matrix of the errors is correctly specified.\n"
          ]
        },
        {
          "output_type": "stream",
          "name": "stderr",
          "text": [
            "/usr/local/lib/python3.7/dist-packages/statsmodels/tsa/tsatools.py:117: FutureWarning: In a future version of pandas all arguments of concat except for the argument 'objs' will be keyword-only\n",
            "  x = pd.concat(x[::order], 1)\n"
          ]
        }
      ]
    },
    {
      "cell_type": "code",
      "source": [
        ""
      ],
      "metadata": {
        "id": "076i-ktfSOAi"
      },
      "execution_count": null,
      "outputs": []
    }
  ]
}